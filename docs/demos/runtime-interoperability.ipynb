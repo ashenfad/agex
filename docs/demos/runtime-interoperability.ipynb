{
  "cells": [
    {
      "cell_type": "markdown",
      "metadata": {
        "vscode": {
          "languageId": "raw"
        }
      },
      "source": [
        "# agex: A Demo of Runtime Interoperability\n",
        "\n",
        "Welcome to the `agex` demo! This notebook showcases the core philosophy of the framework: enabling AI agents to work with real, rich Python objects, just like a human developer.\n",
        "\n",
        "**The Story:** We, as the developer, will act as the orchestrator. Our goal is to create a sales trend visualization. We will use two specialist AI agents:\n",
        "1. A `DatabaseExpert` that can query a database and return a `pandas.DataFrame`.\n",
        "2. A `VisualizationExpert` that can take a `DataFrame` and create a `plotly.Figure`.\n",
        "\n",
        "Notice what we **don't** have to do: no writing JSON schemas, no saving data to files to pass between steps, and no context window explosions. Let's begin.\n"
      ]
    },
    {
      "cell_type": "markdown",
      "metadata": {
        "vscode": {
          "languageId": "raw"
        }
      },
      "source": [
        "### Step 1: Setup and Environment\n",
        "\n",
        "First, let's import our libraries and create an in-memory SQLite database populated with some realistic, seasonal sales data. The `create_in_memory_db` function returns a live `sqlite3.Connection` object.\n"
      ]
    },
    {
      "cell_type": "code",
      "execution_count": null,
      "metadata": {},
      "outputs": [],
      "source": [
        "import pandas as pd\n",
        "import plotly.express as px\n",
        "import sqlite3\n",
        "from IPython.display import display\n",
        "from agex import Agent, Versioned, events\n",
        "from agex.helpers import register_pandas \n",
        "from agex.llm import DummyLLMClient\n",
        "from plotly.graph_objects import Figure\n",
        "from examples.db_primer import PRIMER\n",
        "\n",
        "# Our helpers for demo setup and canned responses\n",
        "from examples.notebook.helper import (\n",
        "    create_in_memory_db, \n",
        "    DB_QUERY_RESPONSE, \n",
        "    VISUALIZATION_RESPONSE\n",
        ")\n",
        "\n",
        "db_connection = create_in_memory_db()\n",
        "\n",
        "# create persistent state for the agents & their computational workspaces\n",
        "state = Versioned()"
      ]
    },
    {
      "cell_type": "markdown",
      "metadata": {
        "vscode": {
          "languageId": "raw"
        }
      },
      "source": [
        "### Step 2: Define and Use the DatabaseExpert\n",
        "\n",
        "Next, we'll define our `DatabaseExpert`. We'll give it access to the live `db_connection` object and the `pandas` library. \n",
        "\n",
        "To make this demo fast and reproducible, we'll use a `DummyLLMClient` with pre-defined responses. This lets us focus on `agex`'s unique capabilities without the unpredictability of live LLM calls.\n"
      ]
    },
    {
      "cell_type": "code",
      "execution_count": 2,
      "metadata": {},
      "outputs": [],
      "source": [
        "db_expert = Agent(\n",
        "    name=\"db_expert\", \n",
        "    primer=PRIMER, # coach the agent on how to use the db\n",
        ")\n",
        "db_expert.llm_client = DummyLLMClient(responses=[DB_QUERY_RESPONSE])\n",
        "\n",
        "# Give the agent access to the live database connection\n",
        "db_expert.module(\n",
        "    db_connection,\n",
        "    name=\"db\",\n",
        "    include=[\"execute\", \"executemany\", \"commit\"],\n",
        ")\n",
        "\n",
        "# register the Cursor class for gathering results\n",
        "db_expert.cls(sqlite3.Cursor, include=[\"fetchone\", \"fetchall\", \"description\"])\n",
        "\n",
        "# use the pre-existing helper to register pandas\n",
        "register_pandas(db_expert)\n",
        "\n",
        "# define a task for our agent, the fn signature acts as a contract\n",
        "@db_expert.task\n",
        "def get_data(prompt: str) -> pd.DataFrame: # type: ignore[return-value]\n",
        "    \"\"\"Runs a SQL query and returns the result as a pandas DataFrame.\"\"\"\n",
        "    pass\n",
        "\n",
        "# now we ask the agent to get the sales data for umbrellas.\n",
        "sales_df = get_data(\n",
        "    prompt=\"Find all available umbrella sales by day\",\n",
        "    state=state,\n",
        ")"
      ]
    },
    {
      "cell_type": "markdown",
      "metadata": {
        "vscode": {
          "languageId": "raw"
        }
      },
      "source": [
        "### Step 3: Inspect the First Artifact\n",
        "\n",
        "This is the first **'wow' moment**. The `get_data` call didn't return a string or JSON. It returned a live, rich `pandas.DataFrame` object directly into our session. The agent came to the data, performed its work, and handed back a real object.\n",
        "\n",
        "Let's prove it by displaying the DataFrame:\n"
      ]
    },
    {
      "cell_type": "code",
      "execution_count": 3,
      "metadata": {},
      "outputs": [
        {
          "data": {
            "text/html": [
              "<div>\n",
              "<style scoped>\n",
              "    .dataframe tbody tr th:only-of-type {\n",
              "        vertical-align: middle;\n",
              "    }\n",
              "\n",
              "    .dataframe tbody tr th {\n",
              "        vertical-align: top;\n",
              "    }\n",
              "\n",
              "    .dataframe thead th {\n",
              "        text-align: right;\n",
              "    }\n",
              "</style>\n",
              "<table border=\"1\" class=\"dataframe\">\n",
              "  <thead>\n",
              "    <tr style=\"text-align: right;\">\n",
              "      <th></th>\n",
              "      <th>date</th>\n",
              "      <th>product_name</th>\n",
              "      <th>quantity_sold</th>\n",
              "      <th>price_per_unit</th>\n",
              "    </tr>\n",
              "  </thead>\n",
              "  <tbody>\n",
              "    <tr>\n",
              "      <th>0</th>\n",
              "      <td>2022-01-01</td>\n",
              "      <td>Umbrellas</td>\n",
              "      <td>4</td>\n",
              "      <td>15</td>\n",
              "    </tr>\n",
              "    <tr>\n",
              "      <th>1</th>\n",
              "      <td>2022-01-02</td>\n",
              "      <td>Umbrellas</td>\n",
              "      <td>9</td>\n",
              "      <td>15</td>\n",
              "    </tr>\n",
              "    <tr>\n",
              "      <th>2</th>\n",
              "      <td>2022-01-03</td>\n",
              "      <td>Umbrellas</td>\n",
              "      <td>3</td>\n",
              "      <td>15</td>\n",
              "    </tr>\n",
              "    <tr>\n",
              "      <th>3</th>\n",
              "      <td>2022-01-04</td>\n",
              "      <td>Umbrellas</td>\n",
              "      <td>3</td>\n",
              "      <td>15</td>\n",
              "    </tr>\n",
              "    <tr>\n",
              "      <th>4</th>\n",
              "      <td>2022-01-05</td>\n",
              "      <td>Umbrellas</td>\n",
              "      <td>13</td>\n",
              "      <td>15</td>\n",
              "    </tr>\n",
              "    <tr>\n",
              "      <th>...</th>\n",
              "      <td>...</td>\n",
              "      <td>...</td>\n",
              "      <td>...</td>\n",
              "      <td>...</td>\n",
              "    </tr>\n",
              "    <tr>\n",
              "      <th>725</th>\n",
              "      <td>2023-12-27</td>\n",
              "      <td>Umbrellas</td>\n",
              "      <td>0</td>\n",
              "      <td>15</td>\n",
              "    </tr>\n",
              "    <tr>\n",
              "      <th>726</th>\n",
              "      <td>2023-12-28</td>\n",
              "      <td>Umbrellas</td>\n",
              "      <td>4</td>\n",
              "      <td>15</td>\n",
              "    </tr>\n",
              "    <tr>\n",
              "      <th>727</th>\n",
              "      <td>2023-12-29</td>\n",
              "      <td>Umbrellas</td>\n",
              "      <td>3</td>\n",
              "      <td>15</td>\n",
              "    </tr>\n",
              "    <tr>\n",
              "      <th>728</th>\n",
              "      <td>2023-12-30</td>\n",
              "      <td>Umbrellas</td>\n",
              "      <td>0</td>\n",
              "      <td>15</td>\n",
              "    </tr>\n",
              "    <tr>\n",
              "      <th>729</th>\n",
              "      <td>2023-12-31</td>\n",
              "      <td>Umbrellas</td>\n",
              "      <td>0</td>\n",
              "      <td>15</td>\n",
              "    </tr>\n",
              "  </tbody>\n",
              "</table>\n",
              "<p>730 rows × 4 columns</p>\n",
              "</div>"
            ],
            "text/plain": [
              "           date product_name  quantity_sold  price_per_unit\n",
              "0    2022-01-01    Umbrellas              4              15\n",
              "1    2022-01-02    Umbrellas              9              15\n",
              "2    2022-01-03    Umbrellas              3              15\n",
              "3    2022-01-04    Umbrellas              3              15\n",
              "4    2022-01-05    Umbrellas             13              15\n",
              "..          ...          ...            ...             ...\n",
              "725  2023-12-27    Umbrellas              0              15\n",
              "726  2023-12-28    Umbrellas              4              15\n",
              "727  2023-12-29    Umbrellas              3              15\n",
              "728  2023-12-30    Umbrellas              0              15\n",
              "729  2023-12-31    Umbrellas              0              15\n",
              "\n",
              "[730 rows x 4 columns]"
            ]
          },
          "metadata": {},
          "output_type": "display_data"
        }
      ],
      "source": [
        "display(sales_df)"
      ]
    },
    {
      "cell_type": "markdown",
      "metadata": {
        "vscode": {
          "languageId": "raw"
        }
      },
      "source": [
        "### Step 4: Define and Use the VisualizationExpert\n",
        "\n",
        "Now we'll define our second specialist. Its job is to take a DataFrame and create a plot. We will pass the `sales_df` object we just received directly to this new agent.\n"
      ]
    },
    {
      "cell_type": "code",
      "execution_count": 4,
      "metadata": {},
      "outputs": [
        {
          "name": "stdout",
          "output_type": "stream",
          "text": [
            "Passing the DataFrame to the Visualization Expert...\n"
          ]
        }
      ],
      "source": [
        "viz_expert = Agent(\n",
        "    name=\"viz_expert\",\n",
        "    primer=\"You are an expert at creating plots.\"\n",
        ")\n",
        "viz_expert.llm_client = DummyLLMClient(responses=[VISUALIZATION_RESPONSE])\n",
        "\n",
        "# Give the agent access to the plotly express library\n",
        "viz_expert.module(px)\n",
        "register_pandas(viz_expert)\n",
        "\n",
        "@viz_expert.task\n",
        "def plot_dataframe(prompt: str, df: pd.DataFrame) -> Figure: # type: ignore[return-value]\n",
        "    \"\"\"Create a plot from the given data according to the prompt.\"\"\"\n",
        "    pass\n",
        "\n",
        "# Let's ask the agent to plot the DataFrame we got from the first agent.\n",
        "print(\"Passing the DataFrame to the Visualization Expert...\")\n",
        "sales_plot = plot_dataframe(\n",
        "    \"Please show me overlayed yearly sales cycles\",\n",
        "    sales_df,\n",
        "    state=state\n",
        ")"
      ]
    },
    {
      "cell_type": "markdown",
      "metadata": {
        "vscode": {
          "languageId": "raw"
        }
      },
      "source": [
        "### Step 5: Inspect the Final Artifact\n",
        "\n",
        "And here is the second **'wow' moment**. We passed a `DataFrame` object from one agent to another, and the second agent returned a fully interactive `plotly.Figure` object. \n",
        "\n",
        "Let's display it:\n"
      ]
    },
    {
      "cell_type": "code",
      "execution_count": 5,
      "metadata": {},
      "outputs": [
        {
          "data": {
            "application/vnd.plotly.v1+json": {
              "config": {
                "plotlyServerURL": "https://plot.ly"
              },
              "data": [
                {
                  "hovertemplate": "year=2022<br>Day of Year=%{x}<br>Quantity Sold=%{y}<extra></extra>",
                  "legendgroup": "2022",
                  "line": {
                    "color": "#636efa",
                    "dash": "solid"
                  },
                  "marker": {
                    "symbol": "circle"
                  },
                  "mode": "lines",
                  "name": "2022",
                  "orientation": "v",
                  "showlegend": true,
                  "type": "scatter",
                  "x": {
                    "bdata": "AQAAAAIAAAADAAAABAAAAAUAAAAGAAAABwAAAAgAAAAJAAAACgAAAAsAAAAMAAAADQAAAA4AAAAPAAAAEAAAABEAAAASAAAAEwAAABQAAAAVAAAAFgAAABcAAAAYAAAAGQAAABoAAAAbAAAAHAAAAB0AAAAeAAAAHwAAACAAAAAhAAAAIgAAACMAAAAkAAAAJQAAACYAAAAnAAAAKAAAACkAAAAqAAAAKwAAACwAAAAtAAAALgAAAC8AAAAwAAAAMQAAADIAAAAzAAAANAAAADUAAAA2AAAANwAAADgAAAA5AAAAOgAAADsAAAA8AAAAPQAAAD4AAAA/AAAAQAAAAEEAAABCAAAAQwAAAEQAAABFAAAARgAAAEcAAABIAAAASQAAAEoAAABLAAAATAAAAE0AAABOAAAATwAAAFAAAABRAAAAUgAAAFMAAABUAAAAVQAAAFYAAABXAAAAWAAAAFkAAABaAAAAWwAAAFwAAABdAAAAXgAAAF8AAABgAAAAYQAAAGIAAABjAAAAZAAAAGUAAABmAAAAZwAAAGgAAABpAAAAagAAAGsAAABsAAAAbQAAAG4AAABvAAAAcAAAAHEAAAByAAAAcwAAAHQAAAB1AAAAdgAAAHcAAAB4AAAAeQAAAHoAAAB7AAAAfAAAAH0AAAB+AAAAfwAAAIAAAACBAAAAggAAAIMAAACEAAAAhQAAAIYAAACHAAAAiAAAAIkAAACKAAAAiwAAAIwAAACNAAAAjgAAAI8AAACQAAAAkQAAAJIAAACTAAAAlAAAAJUAAACWAAAAlwAAAJgAAACZAAAAmgAAAJsAAACcAAAAnQAAAJ4AAACfAAAAoAAAAKEAAACiAAAAowAAAKQAAAClAAAApgAAAKcAAACoAAAAqQAAAKoAAACrAAAArAAAAK0AAACuAAAArwAAALAAAACxAAAAsgAAALMAAAC0AAAAtQAAALYAAAC3AAAAuAAAALkAAAC6AAAAuwAAALwAAAC9AAAAvgAAAL8AAADAAAAAwQAAAMIAAADDAAAAxAAAAMUAAADGAAAAxwAAAMgAAADJAAAAygAAAMsAAADMAAAAzQAAAM4AAADPAAAA0AAAANEAAADSAAAA0wAAANQAAADVAAAA1gAAANcAAADYAAAA2QAAANoAAADbAAAA3AAAAN0AAADeAAAA3wAAAOAAAADhAAAA4gAAAOMAAADkAAAA5QAAAOYAAADnAAAA6AAAAOkAAADqAAAA6wAAAOwAAADtAAAA7gAAAO8AAADwAAAA8QAAAPIAAADzAAAA9AAAAPUAAAD2AAAA9wAAAPgAAAD5AAAA+gAAAPsAAAD8AAAA/QAAAP4AAAD/AAAAAAEAAAEBAAACAQAAAwEAAAQBAAAFAQAABgEAAAcBAAAIAQAACQEAAAoBAAALAQAADAEAAA0BAAAOAQAADwEAABABAAARAQAAEgEAABMBAAAUAQAAFQEAABYBAAAXAQAAGAEAABkBAAAaAQAAGwEAABwBAAAdAQAAHgEAAB8BAAAgAQAAIQEAACIBAAAjAQAAJAEAACUBAAAmAQAAJwEAACgBAAApAQAAKgEAACsBAAAsAQAALQEAAC4BAAAvAQAAMAEAADEBAAAyAQAAMwEAADQBAAA1AQAANgEAADcBAAA4AQAAOQEAADoBAAA7AQAAPAEAAD0BAAA+AQAAPwEAAEABAABBAQAAQgEAAEMBAABEAQAARQEAAEYBAABHAQAASAEAAEkBAABKAQAASwEAAEwBAABNAQAATgEAAE8BAABQAQAAUQEAAFIBAABTAQAAVAEAAFUBAABWAQAAVwEAAFgBAABZAQAAWgEAAFsBAABcAQAAXQEAAF4BAABfAQAAYAEAAGEBAABiAQAAYwEAAGQBAABlAQAAZgEAAGcBAABoAQAAaQEAAGoBAABrAQAAbAEAAG0BAAA=",
                    "dtype": "i4"
                  },
                  "xaxis": "x",
                  "y": {
                    "bdata": "BAkDAw0HAAEFBwMCAAoADAIABQADAAAAAAEFAwoABQgHExILGAUeCQ8SDgsNEh4aCwUNGRAIExcQDw8sEyYyGScPIhQnISQGNRYwFiIhIDMSIR8aJg4yJjMIMhYtSDMRMzwKKx1LVSwTODITKiEbO0MSKx8+MUlJNR4iJzg3Q0cdFRpBOCxNOSQ3SyRCJlIYWyFSPkAwQho1PiBNbT4dSU9hFEQZHDg/SEVZJj8RU00TQSlcRyBQOkM1QxtWTE8wHFZSRjslIFInKEJFQD48VR0iOTMbGUQ+LSJJPjcrLDUaFzcqGCweGhUnNUQTQ0M3IiQ1DCEMGR8sIyEoIxozDQkmCxYoMhIlMCYTLCgRICsOGgoNEwwCGBgGEhEKDBgRFxAOEA4UEg8PFBoLACALCQAEAQAAAQkFAgQMAAAAAAAJAAoCAAIAAAAAAgoLAgAHBgUDAAEAAgUCAQIBAQACAAAABQACAAEABgAKAAA=",
                    "dtype": "i1"
                  },
                  "yaxis": "y"
                },
                {
                  "hovertemplate": "year=2023<br>Day of Year=%{x}<br>Quantity Sold=%{y}<extra></extra>",
                  "legendgroup": "2023",
                  "line": {
                    "color": "#EF553B",
                    "dash": "solid"
                  },
                  "marker": {
                    "symbol": "circle"
                  },
                  "mode": "lines",
                  "name": "2023",
                  "orientation": "v",
                  "showlegend": true,
                  "type": "scatter",
                  "x": {
                    "bdata": "AQAAAAIAAAADAAAABAAAAAUAAAAGAAAABwAAAAgAAAAJAAAACgAAAAsAAAAMAAAADQAAAA4AAAAPAAAAEAAAABEAAAASAAAAEwAAABQAAAAVAAAAFgAAABcAAAAYAAAAGQAAABoAAAAbAAAAHAAAAB0AAAAeAAAAHwAAACAAAAAhAAAAIgAAACMAAAAkAAAAJQAAACYAAAAnAAAAKAAAACkAAAAqAAAAKwAAACwAAAAtAAAALgAAAC8AAAAwAAAAMQAAADIAAAAzAAAANAAAADUAAAA2AAAANwAAADgAAAA5AAAAOgAAADsAAAA8AAAAPQAAAD4AAAA/AAAAQAAAAEEAAABCAAAAQwAAAEQAAABFAAAARgAAAEcAAABIAAAASQAAAEoAAABLAAAATAAAAE0AAABOAAAATwAAAFAAAABRAAAAUgAAAFMAAABUAAAAVQAAAFYAAABXAAAAWAAAAFkAAABaAAAAWwAAAFwAAABdAAAAXgAAAF8AAABgAAAAYQAAAGIAAABjAAAAZAAAAGUAAABmAAAAZwAAAGgAAABpAAAAagAAAGsAAABsAAAAbQAAAG4AAABvAAAAcAAAAHEAAAByAAAAcwAAAHQAAAB1AAAAdgAAAHcAAAB4AAAAeQAAAHoAAAB7AAAAfAAAAH0AAAB+AAAAfwAAAIAAAACBAAAAggAAAIMAAACEAAAAhQAAAIYAAACHAAAAiAAAAIkAAACKAAAAiwAAAIwAAACNAAAAjgAAAI8AAACQAAAAkQAAAJIAAACTAAAAlAAAAJUAAACWAAAAlwAAAJgAAACZAAAAmgAAAJsAAACcAAAAnQAAAJ4AAACfAAAAoAAAAKEAAACiAAAAowAAAKQAAAClAAAApgAAAKcAAACoAAAAqQAAAKoAAACrAAAArAAAAK0AAACuAAAArwAAALAAAACxAAAAsgAAALMAAAC0AAAAtQAAALYAAAC3AAAAuAAAALkAAAC6AAAAuwAAALwAAAC9AAAAvgAAAL8AAADAAAAAwQAAAMIAAADDAAAAxAAAAMUAAADGAAAAxwAAAMgAAADJAAAAygAAAMsAAADMAAAAzQAAAM4AAADPAAAA0AAAANEAAADSAAAA0wAAANQAAADVAAAA1gAAANcAAADYAAAA2QAAANoAAADbAAAA3AAAAN0AAADeAAAA3wAAAOAAAADhAAAA4gAAAOMAAADkAAAA5QAAAOYAAADnAAAA6AAAAOkAAADqAAAA6wAAAOwAAADtAAAA7gAAAO8AAADwAAAA8QAAAPIAAADzAAAA9AAAAPUAAAD2AAAA9wAAAPgAAAD5AAAA+gAAAPsAAAD8AAAA/QAAAP4AAAD/AAAAAAEAAAEBAAACAQAAAwEAAAQBAAAFAQAABgEAAAcBAAAIAQAACQEAAAoBAAALAQAADAEAAA0BAAAOAQAADwEAABABAAARAQAAEgEAABMBAAAUAQAAFQEAABYBAAAXAQAAGAEAABkBAAAaAQAAGwEAABwBAAAdAQAAHgEAAB8BAAAgAQAAIQEAACIBAAAjAQAAJAEAACUBAAAmAQAAJwEAACgBAAApAQAAKgEAACsBAAAsAQAALQEAAC4BAAAvAQAAMAEAADEBAAAyAQAAMwEAADQBAAA1AQAANgEAADcBAAA4AQAAOQEAADoBAAA7AQAAPAEAAD0BAAA+AQAAPwEAAEABAABBAQAAQgEAAEMBAABEAQAARQEAAEYBAABHAQAASAEAAEkBAABKAQAASwEAAEwBAABNAQAATgEAAE8BAABQAQAAUQEAAFIBAABTAQAAVAEAAFUBAABWAQAAVwEAAFgBAABZAQAAWgEAAFsBAABcAQAAXQEAAF4BAABfAQAAYAEAAGEBAABiAQAAYwEAAGQBAABlAQAAZgEAAGcBAABoAQAAaQEAAGoBAABrAQAAbAEAAG0BAAA=",
                    "dtype": "i4"
                  },
                  "xaxis": "x",
                  "y": {
                    "bdata": "AgIEAQcKBQQABAAGCwgLCQoNAAgGAAAACgYHAAAABwUBFgUHFSIRChgOGxgXDAoVBA0SCA0YEQcLExIMGBMLHhAdFDQXLiU4IxM0Jy8tDBkJHiEzCSMbGRs0KiksK0Q6KysXKjYnMkJPSj4XNTYyFS4SJ0E/NBgpXVtEJ0cqI0M4IzYiHEElEEQiGTslRSJCWTsjTy8mIxVdHEtGIzFnFj4/TE0cGmMvST44KjBYIhZAPjhdGk9FMCYkJk0mVztJIzg3VyM+RjYrQSArO1Q8Pz9EVRdCJywMGCgrP0QwUDY1QxBAVBsSLikzOioYFjgiTkcuKTMLDh0xHg0EIQggFR4kKAE0JA4XAwovMSQsHCkRAwMYDBUdDAoZBA0KCQwJBxcREggVBBkEFwoWFAcLEAQAAgACAgMHBAACAAAEAAIHBAEFAAAAAQAABAYKCAsADAAAAwAIBgAGAAIGAQAEAQIBAAAAAAAAAAQDAAA=",
                    "dtype": "i1"
                  },
                  "yaxis": "y"
                }
              ],
              "layout": {
                "legend": {
                  "title": {
                    "text": "year"
                  },
                  "tracegroupgap": 0
                },
                "template": {
                  "data": {
                    "bar": [
                      {
                        "error_x": {
                          "color": "#2a3f5f"
                        },
                        "error_y": {
                          "color": "#2a3f5f"
                        },
                        "marker": {
                          "line": {
                            "color": "#E5ECF6",
                            "width": 0.5
                          },
                          "pattern": {
                            "fillmode": "overlay",
                            "size": 10,
                            "solidity": 0.2
                          }
                        },
                        "type": "bar"
                      }
                    ],
                    "barpolar": [
                      {
                        "marker": {
                          "line": {
                            "color": "#E5ECF6",
                            "width": 0.5
                          },
                          "pattern": {
                            "fillmode": "overlay",
                            "size": 10,
                            "solidity": 0.2
                          }
                        },
                        "type": "barpolar"
                      }
                    ],
                    "carpet": [
                      {
                        "aaxis": {
                          "endlinecolor": "#2a3f5f",
                          "gridcolor": "white",
                          "linecolor": "white",
                          "minorgridcolor": "white",
                          "startlinecolor": "#2a3f5f"
                        },
                        "baxis": {
                          "endlinecolor": "#2a3f5f",
                          "gridcolor": "white",
                          "linecolor": "white",
                          "minorgridcolor": "white",
                          "startlinecolor": "#2a3f5f"
                        },
                        "type": "carpet"
                      }
                    ],
                    "choropleth": [
                      {
                        "colorbar": {
                          "outlinewidth": 0,
                          "ticks": ""
                        },
                        "type": "choropleth"
                      }
                    ],
                    "contour": [
                      {
                        "colorbar": {
                          "outlinewidth": 0,
                          "ticks": ""
                        },
                        "colorscale": [
                          [
                            0,
                            "#0d0887"
                          ],
                          [
                            0.1111111111111111,
                            "#46039f"
                          ],
                          [
                            0.2222222222222222,
                            "#7201a8"
                          ],
                          [
                            0.3333333333333333,
                            "#9c179e"
                          ],
                          [
                            0.4444444444444444,
                            "#bd3786"
                          ],
                          [
                            0.5555555555555556,
                            "#d8576b"
                          ],
                          [
                            0.6666666666666666,
                            "#ed7953"
                          ],
                          [
                            0.7777777777777778,
                            "#fb9f3a"
                          ],
                          [
                            0.8888888888888888,
                            "#fdca26"
                          ],
                          [
                            1,
                            "#f0f921"
                          ]
                        ],
                        "type": "contour"
                      }
                    ],
                    "contourcarpet": [
                      {
                        "colorbar": {
                          "outlinewidth": 0,
                          "ticks": ""
                        },
                        "type": "contourcarpet"
                      }
                    ],
                    "heatmap": [
                      {
                        "colorbar": {
                          "outlinewidth": 0,
                          "ticks": ""
                        },
                        "colorscale": [
                          [
                            0,
                            "#0d0887"
                          ],
                          [
                            0.1111111111111111,
                            "#46039f"
                          ],
                          [
                            0.2222222222222222,
                            "#7201a8"
                          ],
                          [
                            0.3333333333333333,
                            "#9c179e"
                          ],
                          [
                            0.4444444444444444,
                            "#bd3786"
                          ],
                          [
                            0.5555555555555556,
                            "#d8576b"
                          ],
                          [
                            0.6666666666666666,
                            "#ed7953"
                          ],
                          [
                            0.7777777777777778,
                            "#fb9f3a"
                          ],
                          [
                            0.8888888888888888,
                            "#fdca26"
                          ],
                          [
                            1,
                            "#f0f921"
                          ]
                        ],
                        "type": "heatmap"
                      }
                    ],
                    "histogram": [
                      {
                        "marker": {
                          "pattern": {
                            "fillmode": "overlay",
                            "size": 10,
                            "solidity": 0.2
                          }
                        },
                        "type": "histogram"
                      }
                    ],
                    "histogram2d": [
                      {
                        "colorbar": {
                          "outlinewidth": 0,
                          "ticks": ""
                        },
                        "colorscale": [
                          [
                            0,
                            "#0d0887"
                          ],
                          [
                            0.1111111111111111,
                            "#46039f"
                          ],
                          [
                            0.2222222222222222,
                            "#7201a8"
                          ],
                          [
                            0.3333333333333333,
                            "#9c179e"
                          ],
                          [
                            0.4444444444444444,
                            "#bd3786"
                          ],
                          [
                            0.5555555555555556,
                            "#d8576b"
                          ],
                          [
                            0.6666666666666666,
                            "#ed7953"
                          ],
                          [
                            0.7777777777777778,
                            "#fb9f3a"
                          ],
                          [
                            0.8888888888888888,
                            "#fdca26"
                          ],
                          [
                            1,
                            "#f0f921"
                          ]
                        ],
                        "type": "histogram2d"
                      }
                    ],
                    "histogram2dcontour": [
                      {
                        "colorbar": {
                          "outlinewidth": 0,
                          "ticks": ""
                        },
                        "colorscale": [
                          [
                            0,
                            "#0d0887"
                          ],
                          [
                            0.1111111111111111,
                            "#46039f"
                          ],
                          [
                            0.2222222222222222,
                            "#7201a8"
                          ],
                          [
                            0.3333333333333333,
                            "#9c179e"
                          ],
                          [
                            0.4444444444444444,
                            "#bd3786"
                          ],
                          [
                            0.5555555555555556,
                            "#d8576b"
                          ],
                          [
                            0.6666666666666666,
                            "#ed7953"
                          ],
                          [
                            0.7777777777777778,
                            "#fb9f3a"
                          ],
                          [
                            0.8888888888888888,
                            "#fdca26"
                          ],
                          [
                            1,
                            "#f0f921"
                          ]
                        ],
                        "type": "histogram2dcontour"
                      }
                    ],
                    "mesh3d": [
                      {
                        "colorbar": {
                          "outlinewidth": 0,
                          "ticks": ""
                        },
                        "type": "mesh3d"
                      }
                    ],
                    "parcoords": [
                      {
                        "line": {
                          "colorbar": {
                            "outlinewidth": 0,
                            "ticks": ""
                          }
                        },
                        "type": "parcoords"
                      }
                    ],
                    "pie": [
                      {
                        "automargin": true,
                        "type": "pie"
                      }
                    ],
                    "scatter": [
                      {
                        "fillpattern": {
                          "fillmode": "overlay",
                          "size": 10,
                          "solidity": 0.2
                        },
                        "type": "scatter"
                      }
                    ],
                    "scatter3d": [
                      {
                        "line": {
                          "colorbar": {
                            "outlinewidth": 0,
                            "ticks": ""
                          }
                        },
                        "marker": {
                          "colorbar": {
                            "outlinewidth": 0,
                            "ticks": ""
                          }
                        },
                        "type": "scatter3d"
                      }
                    ],
                    "scattercarpet": [
                      {
                        "marker": {
                          "colorbar": {
                            "outlinewidth": 0,
                            "ticks": ""
                          }
                        },
                        "type": "scattercarpet"
                      }
                    ],
                    "scattergeo": [
                      {
                        "marker": {
                          "colorbar": {
                            "outlinewidth": 0,
                            "ticks": ""
                          }
                        },
                        "type": "scattergeo"
                      }
                    ],
                    "scattergl": [
                      {
                        "marker": {
                          "colorbar": {
                            "outlinewidth": 0,
                            "ticks": ""
                          }
                        },
                        "type": "scattergl"
                      }
                    ],
                    "scattermap": [
                      {
                        "marker": {
                          "colorbar": {
                            "outlinewidth": 0,
                            "ticks": ""
                          }
                        },
                        "type": "scattermap"
                      }
                    ],
                    "scattermapbox": [
                      {
                        "marker": {
                          "colorbar": {
                            "outlinewidth": 0,
                            "ticks": ""
                          }
                        },
                        "type": "scattermapbox"
                      }
                    ],
                    "scatterpolar": [
                      {
                        "marker": {
                          "colorbar": {
                            "outlinewidth": 0,
                            "ticks": ""
                          }
                        },
                        "type": "scatterpolar"
                      }
                    ],
                    "scatterpolargl": [
                      {
                        "marker": {
                          "colorbar": {
                            "outlinewidth": 0,
                            "ticks": ""
                          }
                        },
                        "type": "scatterpolargl"
                      }
                    ],
                    "scatterternary": [
                      {
                        "marker": {
                          "colorbar": {
                            "outlinewidth": 0,
                            "ticks": ""
                          }
                        },
                        "type": "scatterternary"
                      }
                    ],
                    "surface": [
                      {
                        "colorbar": {
                          "outlinewidth": 0,
                          "ticks": ""
                        },
                        "colorscale": [
                          [
                            0,
                            "#0d0887"
                          ],
                          [
                            0.1111111111111111,
                            "#46039f"
                          ],
                          [
                            0.2222222222222222,
                            "#7201a8"
                          ],
                          [
                            0.3333333333333333,
                            "#9c179e"
                          ],
                          [
                            0.4444444444444444,
                            "#bd3786"
                          ],
                          [
                            0.5555555555555556,
                            "#d8576b"
                          ],
                          [
                            0.6666666666666666,
                            "#ed7953"
                          ],
                          [
                            0.7777777777777778,
                            "#fb9f3a"
                          ],
                          [
                            0.8888888888888888,
                            "#fdca26"
                          ],
                          [
                            1,
                            "#f0f921"
                          ]
                        ],
                        "type": "surface"
                      }
                    ],
                    "table": [
                      {
                        "cells": {
                          "fill": {
                            "color": "#EBF0F8"
                          },
                          "line": {
                            "color": "white"
                          }
                        },
                        "header": {
                          "fill": {
                            "color": "#C8D4E3"
                          },
                          "line": {
                            "color": "white"
                          }
                        },
                        "type": "table"
                      }
                    ]
                  },
                  "layout": {
                    "annotationdefaults": {
                      "arrowcolor": "#2a3f5f",
                      "arrowhead": 0,
                      "arrowwidth": 1
                    },
                    "autotypenumbers": "strict",
                    "coloraxis": {
                      "colorbar": {
                        "outlinewidth": 0,
                        "ticks": ""
                      }
                    },
                    "colorscale": {
                      "diverging": [
                        [
                          0,
                          "#8e0152"
                        ],
                        [
                          0.1,
                          "#c51b7d"
                        ],
                        [
                          0.2,
                          "#de77ae"
                        ],
                        [
                          0.3,
                          "#f1b6da"
                        ],
                        [
                          0.4,
                          "#fde0ef"
                        ],
                        [
                          0.5,
                          "#f7f7f7"
                        ],
                        [
                          0.6,
                          "#e6f5d0"
                        ],
                        [
                          0.7,
                          "#b8e186"
                        ],
                        [
                          0.8,
                          "#7fbc41"
                        ],
                        [
                          0.9,
                          "#4d9221"
                        ],
                        [
                          1,
                          "#276419"
                        ]
                      ],
                      "sequential": [
                        [
                          0,
                          "#0d0887"
                        ],
                        [
                          0.1111111111111111,
                          "#46039f"
                        ],
                        [
                          0.2222222222222222,
                          "#7201a8"
                        ],
                        [
                          0.3333333333333333,
                          "#9c179e"
                        ],
                        [
                          0.4444444444444444,
                          "#bd3786"
                        ],
                        [
                          0.5555555555555556,
                          "#d8576b"
                        ],
                        [
                          0.6666666666666666,
                          "#ed7953"
                        ],
                        [
                          0.7777777777777778,
                          "#fb9f3a"
                        ],
                        [
                          0.8888888888888888,
                          "#fdca26"
                        ],
                        [
                          1,
                          "#f0f921"
                        ]
                      ],
                      "sequentialminus": [
                        [
                          0,
                          "#0d0887"
                        ],
                        [
                          0.1111111111111111,
                          "#46039f"
                        ],
                        [
                          0.2222222222222222,
                          "#7201a8"
                        ],
                        [
                          0.3333333333333333,
                          "#9c179e"
                        ],
                        [
                          0.4444444444444444,
                          "#bd3786"
                        ],
                        [
                          0.5555555555555556,
                          "#d8576b"
                        ],
                        [
                          0.6666666666666666,
                          "#ed7953"
                        ],
                        [
                          0.7777777777777778,
                          "#fb9f3a"
                        ],
                        [
                          0.8888888888888888,
                          "#fdca26"
                        ],
                        [
                          1,
                          "#f0f921"
                        ]
                      ]
                    },
                    "colorway": [
                      "#636efa",
                      "#EF553B",
                      "#00cc96",
                      "#ab63fa",
                      "#FFA15A",
                      "#19d3f3",
                      "#FF6692",
                      "#B6E880",
                      "#FF97FF",
                      "#FECB52"
                    ],
                    "font": {
                      "color": "#2a3f5f"
                    },
                    "geo": {
                      "bgcolor": "white",
                      "lakecolor": "white",
                      "landcolor": "#E5ECF6",
                      "showlakes": true,
                      "showland": true,
                      "subunitcolor": "white"
                    },
                    "hoverlabel": {
                      "align": "left"
                    },
                    "hovermode": "closest",
                    "mapbox": {
                      "style": "light"
                    },
                    "paper_bgcolor": "white",
                    "plot_bgcolor": "#E5ECF6",
                    "polar": {
                      "angularaxis": {
                        "gridcolor": "white",
                        "linecolor": "white",
                        "ticks": ""
                      },
                      "bgcolor": "#E5ECF6",
                      "radialaxis": {
                        "gridcolor": "white",
                        "linecolor": "white",
                        "ticks": ""
                      }
                    },
                    "scene": {
                      "xaxis": {
                        "backgroundcolor": "#E5ECF6",
                        "gridcolor": "white",
                        "gridwidth": 2,
                        "linecolor": "white",
                        "showbackground": true,
                        "ticks": "",
                        "zerolinecolor": "white"
                      },
                      "yaxis": {
                        "backgroundcolor": "#E5ECF6",
                        "gridcolor": "white",
                        "gridwidth": 2,
                        "linecolor": "white",
                        "showbackground": true,
                        "ticks": "",
                        "zerolinecolor": "white"
                      },
                      "zaxis": {
                        "backgroundcolor": "#E5ECF6",
                        "gridcolor": "white",
                        "gridwidth": 2,
                        "linecolor": "white",
                        "showbackground": true,
                        "ticks": "",
                        "zerolinecolor": "white"
                      }
                    },
                    "shapedefaults": {
                      "line": {
                        "color": "#2a3f5f"
                      }
                    },
                    "ternary": {
                      "aaxis": {
                        "gridcolor": "white",
                        "linecolor": "white",
                        "ticks": ""
                      },
                      "baxis": {
                        "gridcolor": "white",
                        "linecolor": "white",
                        "ticks": ""
                      },
                      "bgcolor": "#E5ECF6",
                      "caxis": {
                        "gridcolor": "white",
                        "linecolor": "white",
                        "ticks": ""
                      }
                    },
                    "title": {
                      "x": 0.05
                    },
                    "xaxis": {
                      "automargin": true,
                      "gridcolor": "white",
                      "linecolor": "white",
                      "ticks": "",
                      "title": {
                        "standoff": 15
                      },
                      "zerolinecolor": "white",
                      "zerolinewidth": 2
                    },
                    "yaxis": {
                      "automargin": true,
                      "gridcolor": "white",
                      "linecolor": "white",
                      "ticks": "",
                      "title": {
                        "standoff": 15
                      },
                      "zerolinecolor": "white",
                      "zerolinewidth": 2
                    }
                  }
                },
                "title": {
                  "text": "Yearly Sales Cycles Overlayed"
                },
                "xaxis": {
                  "anchor": "y",
                  "domain": [
                    0,
                    1
                  ],
                  "title": {
                    "text": "Day of Year"
                  }
                },
                "yaxis": {
                  "anchor": "x",
                  "domain": [
                    0,
                    1
                  ],
                  "title": {
                    "text": "Quantity Sold"
                  }
                }
              }
            }
          },
          "metadata": {},
          "output_type": "display_data"
        }
      ],
      "source": [
        "display(sales_plot)"
      ]
    },
    {
      "cell_type": "markdown",
      "metadata": {
        "vscode": {
          "languageId": "raw"
        }
      },
      "source": [
        "Curious to see the entire flow from start to finish?\n",
        "\n",
        "We can replay all the internal events collected from our agents during those tasks thanks to our persistent state!\n"
      ]
    },
    {
      "cell_type": "code",
      "execution_count": 6,
      "metadata": {},
      "outputs": [
        {
          "data": {
            "text/html": [
              "\n",
              "    <div style=\"border: 1px solid #e1e4e8; border-radius: 8px; padding: 16px; margin: 8px 0; background: #f6f8fa;\">\n",
              "        <div style=\"font-weight: 600; color: #24292e; margin-bottom: 8px; font-size: 14px;\">\n",
              "            🚀 TaskStartEvent - db_expert\n",
              "        </div>\n",
              "        <div style=\"font-size: 12px; color: #6a737d; margin-bottom: 12px;\">\n",
              "            2025-07-25T12:33:25Z • <code style=\"background: #f1f3f4; padding: 1px 4px; border-radius: 2px; font-family: monospace; font-size: 11px;\">b0de6322</code>\n",
              "        </div>\n",
              "        \n",
              "    <div style=\"margin-bottom: 16px;\">\n",
              "        <div style=\"font-weight: 600; margin-bottom: 6px; color: #6a737d; font-size: 13px;\">\n",
              "            📋 prompt:\n",
              "        </div>\n",
              "        <div style=\"background: #fff; padding: 12px; border-radius: 6px; border-left: 3px solid #6a737d; color: #24292e; line-height: 1.4;\">\n",
              "            <pre style='background: #fff; padding: 8px; border-radius: 3px; margin: 0; color: #24292e; font-family: monospace;'>Find all available umbrella sales by day</pre>\n",
              "        </div>\n",
              "    </div>\n",
              "    \n",
              "    </div>\n",
              "    "
            ],
            "text/markdown": [
              "## 🚀 TaskStartEvent - db_expert\n",
              "**Time:** 12:33:25  \n",
              "**Task:** `get_data`  \n",
              "**Inputs:**\n",
              "```json\n",
              "{\"prompt\": \"Find all available umbrella sales by day\"}\n",
              "```"
            ],
            "text/plain": [
              "TaskStartEvent(TaskStartEvent[db_expert] @ 12:33:25)"
            ]
          },
          "metadata": {},
          "output_type": "display_data"
        },
        {
          "data": {
            "text/html": [
              "\n",
              "    <div style=\"border: 1px solid #e1e4e8; border-radius: 8px; padding: 16px; margin: 8px 0; background: #f6f8fa;\">\n",
              "        <div style=\"font-weight: 600; color: #24292e; margin-bottom: 8px; font-size: 14px;\">\n",
              "            🧠 ActionEvent - db_expert\n",
              "        </div>\n",
              "        <div style=\"font-size: 12px; color: #6a737d; margin-bottom: 12px;\">\n",
              "            2025-07-25T12:33:25Z • <code style=\"background: #f1f3f4; padding: 1px 4px; border-radius: 2px; font-family: monospace; font-size: 11px;\">b0de6322</code>\n",
              "        </div>\n",
              "        \n",
              "    <div style=\"margin-bottom: 16px;\">\n",
              "        <div style=\"font-weight: 600; margin-bottom: 6px; color: #0366d6; font-size: 13px;\">\n",
              "            💭 Thinking:\n",
              "        </div>\n",
              "        <div style=\"background: #fff; padding: 12px; border-radius: 6px; border-left: 3px solid #0366d6; color: #24292e; line-height: 1.4;\">\n",
              "            I need to execute the SQL query and convert the results to a pandas DataFrame.\n",
              "        </div>\n",
              "    </div>\n",
              "    \n",
              "        <div>\n",
              "            <div style=\"font-weight: 600; margin-bottom: 6px; color: #28a745; font-size: 13px;\">\n",
              "                🐍 Code:\n",
              "            </div>\n",
              "            <div style=\"background: #fff; padding: 16px; border-radius: 6px; border-left: 3px solid #28a745; overflow-x: auto; font-family: 'SFMono-Regular', 'Monaco', 'Inconsolata', 'Roboto Mono', monospace; font-size: 13px; line-height: 1.45; margin: 0;\"><div class=\"highlight\"><pre style=\"line-height: 125%;\"><span></span><span style=\"color: #CB4B16\">import</span><span style=\"color: #657B83\"> </span><span style=\"color: #268BD2\">pandas</span><span style=\"color: #657B83\"> </span><span style=\"color: #859900\">as</span><span style=\"color: #657B83\"> </span><span style=\"color: #268BD2\">pd</span>\n",
              "<span style=\"color: #657B83\">query</span> <span style=\"color: #93A1A1\">=</span> <span style=\"color: #2AA198\">&quot;SELECT date, product_name, quantity_sold, price_per_unit FROM sales WHERE product_name = &#39;Umbrellas&#39; ORDER BY date&quot;</span>\n",
              "<span style=\"color: #859900\">with</span> <span style=\"color: #657B83\">db</span><span style=\"color: #93A1A1\">.</span><span style=\"color: #657B83\">execute(query)</span> <span style=\"color: #859900\">as</span> <span style=\"color: #657B83\">cursor:</span>\n",
              "    <span style=\"color: #657B83\">df</span> <span style=\"color: #93A1A1\">=</span> <span style=\"color: #657B83\">pd</span><span style=\"color: #93A1A1\">.</span><span style=\"color: #657B83\">DataFrame(cursor</span><span style=\"color: #93A1A1\">.</span><span style=\"color: #657B83\">fetchall(),</span> <span style=\"color: #657B83\">columns</span><span style=\"color: #93A1A1\">=</span><span style=\"color: #657B83\">[desc[</span><span style=\"color: #2AA198\">0</span><span style=\"color: #657B83\">]</span> <span style=\"color: #859900\">for</span> <span style=\"color: #657B83\">desc</span> <span style=\"color: #859900\">in</span> <span style=\"color: #657B83\">cursor</span><span style=\"color: #93A1A1\">.</span><span style=\"color: #657B83\">description])</span>\n",
              "<span style=\"color: #657B83\">task_success(df)</span>\n",
              "</pre></div>\n",
              "</div>\n",
              "        </div>\n",
              "        \n",
              "    </div>\n",
              "    "
            ],
            "text/markdown": [
              "## 🧠 ActionEvent - db_expert\n",
              "**Time:** 12:33:25  \n",
              "**Thinking:** I need to execute the SQL query and convert the results to a pandas DataFrame.\n",
              "\n",
              "**Code:**\n",
              "```python\n",
              "\n",
              "import pandas as pd\n",
              "query = \"SELECT date, product_name, quantity_sold, price_per_unit FROM sales WHERE product_name = 'Umbrellas' ORDER BY date\"\n",
              "with db.execute(query) as cursor:\n",
              "    df = pd.DataFrame(cursor.fetchall(), columns=[desc[0] for desc in cursor.description])\n",
              "task_success(df)\n",
              "\n",
              "```"
            ],
            "text/plain": [
              "ActionEvent(ActionEvent[db_expert] @ 12:33:25)"
            ]
          },
          "metadata": {},
          "output_type": "display_data"
        },
        {
          "data": {
            "text/html": [
              "\n",
              "    <div style=\"border: 1px solid #e1e4e8; border-radius: 8px; padding: 16px; margin: 8px 0; background: #f6f8fa;\">\n",
              "        <div style=\"font-weight: 600; color: #24292e; margin-bottom: 8px; font-size: 14px;\">\n",
              "            ✅ SuccessEvent - db_expert\n",
              "        </div>\n",
              "        <div style=\"font-size: 12px; color: #6a737d; margin-bottom: 12px;\">\n",
              "            2025-07-25T12:33:25Z • <code style=\"background: #f1f3f4; padding: 1px 4px; border-radius: 2px; font-family: monospace; font-size: 11px;\">b0de6322</code>\n",
              "        </div>\n",
              "        \n",
              "    <div style=\"margin-bottom: 16px;\">\n",
              "        <div style=\"font-weight: 600; margin-bottom: 6px; color: #28a745; font-size: 13px;\">\n",
              "            ✨ Result:\n",
              "        </div>\n",
              "        <div style=\"background: #fff; padding: 12px; border-radius: 6px; border-left: 3px solid #28a745; color: #24292e; line-height: 1.4;\">\n",
              "            <div style='margin: 5px 0;'><div>\n",
              "<style scoped>\n",
              "    .dataframe tbody tr th:only-of-type {\n",
              "        vertical-align: middle;\n",
              "    }\n",
              "\n",
              "    .dataframe tbody tr th {\n",
              "        vertical-align: top;\n",
              "    }\n",
              "\n",
              "    .dataframe thead th {\n",
              "        text-align: right;\n",
              "    }\n",
              "</style>\n",
              "<table border=\"1\" class=\"dataframe\">\n",
              "  <thead>\n",
              "    <tr style=\"text-align: right;\">\n",
              "      <th></th>\n",
              "      <th>date</th>\n",
              "      <th>product_name</th>\n",
              "      <th>quantity_sold</th>\n",
              "      <th>price_per_unit</th>\n",
              "    </tr>\n",
              "  </thead>\n",
              "  <tbody>\n",
              "    <tr>\n",
              "      <th>0</th>\n",
              "      <td>2022-01-01</td>\n",
              "      <td>Umbrellas</td>\n",
              "      <td>4</td>\n",
              "      <td>15</td>\n",
              "    </tr>\n",
              "    <tr>\n",
              "      <th>1</th>\n",
              "      <td>2022-01-02</td>\n",
              "      <td>Umbrellas</td>\n",
              "      <td>9</td>\n",
              "      <td>15</td>\n",
              "    </tr>\n",
              "    <tr>\n",
              "      <th>2</th>\n",
              "      <td>2022-01-03</td>\n",
              "      <td>Umbrellas</td>\n",
              "      <td>3</td>\n",
              "      <td>15</td>\n",
              "    </tr>\n",
              "    <tr>\n",
              "      <th>3</th>\n",
              "      <td>2022-01-04</td>\n",
              "      <td>Umbrellas</td>\n",
              "      <td>3</td>\n",
              "      <td>15</td>\n",
              "    </tr>\n",
              "    <tr>\n",
              "      <th>4</th>\n",
              "      <td>2022-01-05</td>\n",
              "      <td>Umbrellas</td>\n",
              "      <td>13</td>\n",
              "      <td>15</td>\n",
              "    </tr>\n",
              "    <tr>\n",
              "      <th>...</th>\n",
              "      <td>...</td>\n",
              "      <td>...</td>\n",
              "      <td>...</td>\n",
              "      <td>...</td>\n",
              "    </tr>\n",
              "    <tr>\n",
              "      <th>725</th>\n",
              "      <td>2023-12-27</td>\n",
              "      <td>Umbrellas</td>\n",
              "      <td>0</td>\n",
              "      <td>15</td>\n",
              "    </tr>\n",
              "    <tr>\n",
              "      <th>726</th>\n",
              "      <td>2023-12-28</td>\n",
              "      <td>Umbrellas</td>\n",
              "      <td>4</td>\n",
              "      <td>15</td>\n",
              "    </tr>\n",
              "    <tr>\n",
              "      <th>727</th>\n",
              "      <td>2023-12-29</td>\n",
              "      <td>Umbrellas</td>\n",
              "      <td>3</td>\n",
              "      <td>15</td>\n",
              "    </tr>\n",
              "    <tr>\n",
              "      <th>728</th>\n",
              "      <td>2023-12-30</td>\n",
              "      <td>Umbrellas</td>\n",
              "      <td>0</td>\n",
              "      <td>15</td>\n",
              "    </tr>\n",
              "    <tr>\n",
              "      <th>729</th>\n",
              "      <td>2023-12-31</td>\n",
              "      <td>Umbrellas</td>\n",
              "      <td>0</td>\n",
              "      <td>15</td>\n",
              "    </tr>\n",
              "  </tbody>\n",
              "</table>\n",
              "<p>730 rows × 4 columns</p>\n",
              "</div></div>\n",
              "        </div>\n",
              "    </div>\n",
              "    \n",
              "    </div>\n",
              "    "
            ],
            "text/markdown": [
              "## ✅ SuccessEvent - db_expert\n",
              "**Time:** 12:33:25  \n",
              "**Result:**\n",
              "```\n",
              "           date product_name  quantity_sold  price_per_unit\n",
              "0    2022-01-01    Umbrellas              4              15\n",
              "1    2022-01-02    Umbrellas              9              15\n",
              "2    2022-01-03    Umbrellas              3              15\n",
              "3    2022-01-04    Umbrellas              3              15\n",
              "4    2022-01-05    Umbrellas             13              15\n",
              "..          ...          ...            ...             ...\n",
              "725  2023-12-27    Umbrellas              0              15\n",
              "726  2023-12-28    Umbrellas              4              15\n",
              "727  2023-12-29    Umbrellas              3              15\n",
              "728  2023-12-30    Umbrellas              0              15\n",
              "729  2023-12-31    Umbrellas              0              15\n",
              "\n",
              "[730 rows x 4 columns]\n",
              "```"
            ],
            "text/plain": [
              "SuccessEvent(SuccessEvent[db_expert] @ 12:33:25)"
            ]
          },
          "metadata": {},
          "output_type": "display_data"
        },
        {
          "data": {
            "text/html": [
              "\n",
              "    <div style=\"border: 1px solid #e1e4e8; border-radius: 8px; padding: 16px; margin: 8px 0; background: #f6f8fa;\">\n",
              "        <div style=\"font-weight: 600; color: #24292e; margin-bottom: 8px; font-size: 14px;\">\n",
              "            🚀 TaskStartEvent - viz_expert\n",
              "        </div>\n",
              "        <div style=\"font-size: 12px; color: #6a737d; margin-bottom: 12px;\">\n",
              "            2025-07-25T12:33:25Z • <code style=\"background: #f1f3f4; padding: 1px 4px; border-radius: 2px; font-family: monospace; font-size: 11px;\">8997ab20</code>\n",
              "        </div>\n",
              "        \n",
              "    <div style=\"margin-bottom: 16px;\">\n",
              "        <div style=\"font-weight: 600; margin-bottom: 6px; color: #6a737d; font-size: 13px;\">\n",
              "            📋 prompt:\n",
              "        </div>\n",
              "        <div style=\"background: #fff; padding: 12px; border-radius: 6px; border-left: 3px solid #6a737d; color: #24292e; line-height: 1.4;\">\n",
              "            <pre style='background: #fff; padding: 8px; border-radius: 3px; margin: 0; color: #24292e; font-family: monospace;'>Please show me overlayed yearly sales cycles</pre>\n",
              "        </div>\n",
              "    </div>\n",
              "    \n",
              "    <div style=\"margin-bottom: 16px;\">\n",
              "        <div style=\"font-weight: 600; margin-bottom: 6px; color: #6a737d; font-size: 13px;\">\n",
              "            📋 df:\n",
              "        </div>\n",
              "        <div style=\"background: #fff; padding: 12px; border-radius: 6px; border-left: 3px solid #6a737d; color: #24292e; line-height: 1.4;\">\n",
              "            <div style='margin: 5px 0;'><div>\n",
              "<style scoped>\n",
              "    .dataframe tbody tr th:only-of-type {\n",
              "        vertical-align: middle;\n",
              "    }\n",
              "\n",
              "    .dataframe tbody tr th {\n",
              "        vertical-align: top;\n",
              "    }\n",
              "\n",
              "    .dataframe thead th {\n",
              "        text-align: right;\n",
              "    }\n",
              "</style>\n",
              "<table border=\"1\" class=\"dataframe\">\n",
              "  <thead>\n",
              "    <tr style=\"text-align: right;\">\n",
              "      <th></th>\n",
              "      <th>date</th>\n",
              "      <th>product_name</th>\n",
              "      <th>quantity_sold</th>\n",
              "      <th>price_per_unit</th>\n",
              "    </tr>\n",
              "  </thead>\n",
              "  <tbody>\n",
              "    <tr>\n",
              "      <th>0</th>\n",
              "      <td>2022-01-01</td>\n",
              "      <td>Umbrellas</td>\n",
              "      <td>4</td>\n",
              "      <td>15</td>\n",
              "    </tr>\n",
              "    <tr>\n",
              "      <th>1</th>\n",
              "      <td>2022-01-02</td>\n",
              "      <td>Umbrellas</td>\n",
              "      <td>9</td>\n",
              "      <td>15</td>\n",
              "    </tr>\n",
              "    <tr>\n",
              "      <th>2</th>\n",
              "      <td>2022-01-03</td>\n",
              "      <td>Umbrellas</td>\n",
              "      <td>3</td>\n",
              "      <td>15</td>\n",
              "    </tr>\n",
              "    <tr>\n",
              "      <th>3</th>\n",
              "      <td>2022-01-04</td>\n",
              "      <td>Umbrellas</td>\n",
              "      <td>3</td>\n",
              "      <td>15</td>\n",
              "    </tr>\n",
              "    <tr>\n",
              "      <th>4</th>\n",
              "      <td>2022-01-05</td>\n",
              "      <td>Umbrellas</td>\n",
              "      <td>13</td>\n",
              "      <td>15</td>\n",
              "    </tr>\n",
              "    <tr>\n",
              "      <th>...</th>\n",
              "      <td>...</td>\n",
              "      <td>...</td>\n",
              "      <td>...</td>\n",
              "      <td>...</td>\n",
              "    </tr>\n",
              "    <tr>\n",
              "      <th>725</th>\n",
              "      <td>2023-12-27</td>\n",
              "      <td>Umbrellas</td>\n",
              "      <td>0</td>\n",
              "      <td>15</td>\n",
              "    </tr>\n",
              "    <tr>\n",
              "      <th>726</th>\n",
              "      <td>2023-12-28</td>\n",
              "      <td>Umbrellas</td>\n",
              "      <td>4</td>\n",
              "      <td>15</td>\n",
              "    </tr>\n",
              "    <tr>\n",
              "      <th>727</th>\n",
              "      <td>2023-12-29</td>\n",
              "      <td>Umbrellas</td>\n",
              "      <td>3</td>\n",
              "      <td>15</td>\n",
              "    </tr>\n",
              "    <tr>\n",
              "      <th>728</th>\n",
              "      <td>2023-12-30</td>\n",
              "      <td>Umbrellas</td>\n",
              "      <td>0</td>\n",
              "      <td>15</td>\n",
              "    </tr>\n",
              "    <tr>\n",
              "      <th>729</th>\n",
              "      <td>2023-12-31</td>\n",
              "      <td>Umbrellas</td>\n",
              "      <td>0</td>\n",
              "      <td>15</td>\n",
              "    </tr>\n",
              "  </tbody>\n",
              "</table>\n",
              "<p>730 rows × 4 columns</p>\n",
              "</div></div>\n",
              "        </div>\n",
              "    </div>\n",
              "    \n",
              "    </div>\n",
              "    "
            ],
            "text/markdown": [
              "## 🚀 TaskStartEvent - viz_expert\n",
              "**Time:** 12:33:25  \n",
              "**Task:** `plot_dataframe`  \n",
              "**Inputs:**\n",
              "```json\n",
              "{\"prompt\": \"Please show me overlayed yearly sales cycles\", \"df\":            date product_name  quantity_sold  price_per_unit\n",
              "0    2022-01-01    Umbrellas              4              15\n",
              "1    2022-01-02    Umbrellas              9              15\n",
              "2    2022-01-03    Umbrellas              3              15\n",
              "3    2022-01-04    Umbrellas              3              15\n",
              "4    2022-01-05    Umbrellas             13              15\n",
              "..          ...          ...            ...             ...\n",
              "725  2023-12-27    Umbrellas              0              15\n",
              "726  2023-12-28    Umbrellas              4              15\n",
              "727  2023-12-29    Umbrellas              3              15\n",
              "728  2023-12-30    Umbrellas              0              15\n",
              "729  2023-12-31    Umbrellas              0              15\n",
              "\n",
              "[730 rows x 4 columns]}\n",
              "```"
            ],
            "text/plain": [
              "TaskStartEvent(TaskStartEvent[viz_expert] @ 12:33:25)"
            ]
          },
          "metadata": {},
          "output_type": "display_data"
        },
        {
          "data": {
            "text/html": [
              "\n",
              "    <div style=\"border: 1px solid #e1e4e8; border-radius: 8px; padding: 16px; margin: 8px 0; background: #f6f8fa;\">\n",
              "        <div style=\"font-weight: 600; color: #24292e; margin-bottom: 8px; font-size: 14px;\">\n",
              "            🧠 ActionEvent - viz_expert\n",
              "        </div>\n",
              "        <div style=\"font-size: 12px; color: #6a737d; margin-bottom: 12px;\">\n",
              "            2025-07-25T12:33:25Z • <code style=\"background: #f1f3f4; padding: 1px 4px; border-radius: 2px; font-family: monospace; font-size: 11px;\">8997ab20</code>\n",
              "        </div>\n",
              "        \n",
              "    <div style=\"margin-bottom: 16px;\">\n",
              "        <div style=\"font-weight: 600; margin-bottom: 6px; color: #0366d6; font-size: 13px;\">\n",
              "            💭 Thinking:\n",
              "        </div>\n",
              "        <div style=\"background: #fff; padding: 12px; border-radius: 6px; border-left: 3px solid #0366d6; color: #24292e; line-height: 1.4;\">\n",
              "            I need to create a line plot showing the quantity sold over time.\n",
              "        </div>\n",
              "    </div>\n",
              "    \n",
              "        <div>\n",
              "            <div style=\"font-weight: 600; margin-bottom: 6px; color: #28a745; font-size: 13px;\">\n",
              "                🐍 Code:\n",
              "            </div>\n",
              "            <div style=\"background: #fff; padding: 16px; border-radius: 6px; border-left: 3px solid #28a745; overflow-x: auto; font-family: 'SFMono-Regular', 'Monaco', 'Inconsolata', 'Roboto Mono', monospace; font-size: 13px; line-height: 1.45; margin: 0;\"><div class=\"highlight\"><pre style=\"line-height: 125%;\"><span></span><span style=\"color: #CB4B16\">import</span><span style=\"color: #657B83\"> </span><span style=\"color: #268BD2\">pandas</span><span style=\"color: #657B83\"> </span><span style=\"color: #859900\">as</span><span style=\"color: #657B83\"> </span><span style=\"color: #268BD2\">pd</span>\n",
              "<span style=\"color: #CB4B16\">import</span><span style=\"color: #657B83\"> </span><span style=\"color: #268BD2\">plotly.express</span><span style=\"color: #657B83\"> </span><span style=\"color: #859900\">as</span><span style=\"color: #657B83\"> </span><span style=\"color: #268BD2\">px</span>\n",
              "<span style=\"color: #93A1A1; font-style: italic\"># Extract year and day-of-year for overlaying cycles</span>\n",
              "<span style=\"color: #657B83\">inputs</span><span style=\"color: #93A1A1\">.</span><span style=\"color: #657B83\">df[</span><span style=\"color: #2AA198\">&#39;date&#39;</span><span style=\"color: #657B83\">]</span> <span style=\"color: #93A1A1\">=</span> <span style=\"color: #657B83\">pd</span><span style=\"color: #93A1A1\">.</span><span style=\"color: #657B83\">to_datetime(inputs</span><span style=\"color: #93A1A1\">.</span><span style=\"color: #657B83\">df[</span><span style=\"color: #2AA198\">&#39;date&#39;</span><span style=\"color: #657B83\">])</span>\n",
              "<span style=\"color: #657B83\">inputs</span><span style=\"color: #93A1A1\">.</span><span style=\"color: #657B83\">df[</span><span style=\"color: #2AA198\">&#39;year&#39;</span><span style=\"color: #657B83\">]</span> <span style=\"color: #93A1A1\">=</span> <span style=\"color: #657B83\">inputs</span><span style=\"color: #93A1A1\">.</span><span style=\"color: #657B83\">df[</span><span style=\"color: #2AA198\">&#39;date&#39;</span><span style=\"color: #657B83\">]</span><span style=\"color: #93A1A1\">.</span><span style=\"color: #657B83\">dt</span><span style=\"color: #93A1A1\">.</span><span style=\"color: #657B83\">year</span>\n",
              "<span style=\"color: #657B83\">inputs</span><span style=\"color: #93A1A1\">.</span><span style=\"color: #657B83\">df[</span><span style=\"color: #2AA198\">&#39;day_of_year&#39;</span><span style=\"color: #657B83\">]</span> <span style=\"color: #93A1A1\">=</span> <span style=\"color: #657B83\">inputs</span><span style=\"color: #93A1A1\">.</span><span style=\"color: #657B83\">df[</span><span style=\"color: #2AA198\">&#39;date&#39;</span><span style=\"color: #657B83\">]</span><span style=\"color: #93A1A1\">.</span><span style=\"color: #657B83\">dt</span><span style=\"color: #93A1A1\">.</span><span style=\"color: #657B83\">dayofyear</span>\n",
              "\n",
              "<span style=\"color: #657B83\">fig</span> <span style=\"color: #93A1A1\">=</span> <span style=\"color: #657B83\">px</span><span style=\"color: #93A1A1\">.</span><span style=\"color: #657B83\">line(inputs</span><span style=\"color: #93A1A1\">.</span><span style=\"color: #657B83\">df,</span> <span style=\"color: #657B83\">x</span><span style=\"color: #93A1A1\">=</span><span style=\"color: #2AA198\">&#39;day_of_year&#39;</span><span style=\"color: #657B83\">,</span> <span style=\"color: #657B83\">y</span><span style=\"color: #93A1A1\">=</span><span style=\"color: #2AA198\">&#39;quantity_sold&#39;</span><span style=\"color: #657B83\">,</span> <span style=\"color: #657B83\">color</span><span style=\"color: #93A1A1\">=</span><span style=\"color: #2AA198\">&#39;year&#39;</span><span style=\"color: #657B83\">,</span> \n",
              "              <span style=\"color: #657B83\">title</span><span style=\"color: #93A1A1\">=</span><span style=\"color: #2AA198\">&quot;Yearly Sales Cycles Overlayed&quot;</span><span style=\"color: #657B83\">,</span>\n",
              "              <span style=\"color: #657B83\">labels</span><span style=\"color: #93A1A1\">=</span><span style=\"color: #657B83\">{</span><span style=\"color: #2AA198\">&#39;day_of_year&#39;</span><span style=\"color: #657B83\">:</span> <span style=\"color: #2AA198\">&#39;Day of Year&#39;</span><span style=\"color: #657B83\">,</span> <span style=\"color: #2AA198\">&#39;quantity_sold&#39;</span><span style=\"color: #657B83\">:</span> <span style=\"color: #2AA198\">&#39;Quantity Sold&#39;</span><span style=\"color: #657B83\">})</span>\n",
              "<span style=\"color: #657B83\">task_success(fig)</span>\n",
              "</pre></div>\n",
              "</div>\n",
              "        </div>\n",
              "        \n",
              "    </div>\n",
              "    "
            ],
            "text/markdown": [
              "## 🧠 ActionEvent - viz_expert\n",
              "**Time:** 12:33:25  \n",
              "**Thinking:** I need to create a line plot showing the quantity sold over time.\n",
              "\n",
              "**Code:**\n",
              "```python\n",
              "\n",
              "import pandas as pd\n",
              "import plotly.express as px\n",
              "# Extract year and day-of-year for overlaying cycles\n",
              "inputs.df['date'] = pd.to_datetime(inputs.df['date'])\n",
              "inputs.df['year'] = inputs.df['date'].dt.year\n",
              "inputs.df['day_of_year'] = inputs.df['date'].dt.dayofyear\n",
              "\n",
              "fig = px.line(inputs.df, x='day_of_year', y='quantity_sold', color='year', \n",
              "              title=\"Yearly Sales Cycles Overlayed\",\n",
              "              labels={'day_of_year': 'Day of Year', 'quantity_sold': 'Quantity Sold'})\n",
              "task_success(fig)\n",
              "\n",
              "```"
            ],
            "text/plain": [
              "ActionEvent(ActionEvent[viz_expert] @ 12:33:25)"
            ]
          },
          "metadata": {},
          "output_type": "display_data"
        },
        {
          "data": {
            "text/html": [
              "\n",
              "    <div style=\"border: 1px solid #e1e4e8; border-radius: 8px; padding: 16px; margin: 8px 0; background: #f6f8fa;\">\n",
              "        <div style=\"font-weight: 600; color: #24292e; margin-bottom: 8px; font-size: 14px;\">\n",
              "            ✅ SuccessEvent - viz_expert\n",
              "        </div>\n",
              "        <div style=\"font-size: 12px; color: #6a737d; margin-bottom: 12px;\">\n",
              "            2025-07-25T12:33:25Z • <code style=\"background: #f1f3f4; padding: 1px 4px; border-radius: 2px; font-family: monospace; font-size: 11px;\">8997ab20</code>\n",
              "        </div>\n",
              "        \n",
              "    <div style=\"margin-bottom: 16px;\">\n",
              "        <div style=\"font-weight: 600; margin-bottom: 6px; color: #28a745; font-size: 13px;\">\n",
              "            ✨ Result:\n",
              "        </div>\n",
              "        <div style=\"background: #fff; padding: 12px; border-radius: 6px; border-left: 3px solid #28a745; color: #24292e; line-height: 1.4;\">\n",
              "            <div style='margin: 5px 0;'><div>                        <script type=\"text/javascript\">window.PlotlyConfig = {MathJaxConfig: 'local'};</script>\n",
              "        <script charset=\"utf-8\" src=\"https://cdn.plot.ly/plotly-3.0.1.min.js\" integrity=\"sha256-oy6Be7Eh6eiQFs5M7oXuPxxm9qbJXEtTpfSI93dW16Q=\" crossorigin=\"anonymous\"></script>                <div id=\"04c84c77-55d7-40b4-97a4-39894326ce50\" class=\"plotly-graph-div\" style=\"height:100%; width:100%;\"></div>            <script type=\"text/javascript\">                window.PLOTLYENV=window.PLOTLYENV || {};                                if (document.getElementById(\"04c84c77-55d7-40b4-97a4-39894326ce50\")) {                    Plotly.newPlot(                        \"04c84c77-55d7-40b4-97a4-39894326ce50\",                        [{\"hovertemplate\":\"year=2022\\u003cbr\\u003eDay of Year=%{x}\\u003cbr\\u003eQuantity Sold=%{y}\\u003cextra\\u003e\\u003c\\u002fextra\\u003e\",\"legendgroup\":\"2022\",\"line\":{\"color\":\"#636efa\",\"dash\":\"solid\"},\"marker\":{\"symbol\":\"circle\"},\"mode\":\"lines\",\"name\":\"2022\",\"orientation\":\"v\",\"showlegend\":true,\"x\":{\"dtype\":\"i4\",\"bdata\":\"AQAAAAIAAAADAAAABAAAAAUAAAAGAAAABwAAAAgAAAAJAAAACgAAAAsAAAAMAAAADQAAAA4AAAAPAAAAEAAAABEAAAASAAAAEwAAABQAAAAVAAAAFgAAABcAAAAYAAAAGQAAABoAAAAbAAAAHAAAAB0AAAAeAAAAHwAAACAAAAAhAAAAIgAAACMAAAAkAAAAJQAAACYAAAAnAAAAKAAAACkAAAAqAAAAKwAAACwAAAAtAAAALgAAAC8AAAAwAAAAMQAAADIAAAAzAAAANAAAADUAAAA2AAAANwAAADgAAAA5AAAAOgAAADsAAAA8AAAAPQAAAD4AAAA\\u002fAAAAQAAAAEEAAABCAAAAQwAAAEQAAABFAAAARgAAAEcAAABIAAAASQAAAEoAAABLAAAATAAAAE0AAABOAAAATwAAAFAAAABRAAAAUgAAAFMAAABUAAAAVQAAAFYAAABXAAAAWAAAAFkAAABaAAAAWwAAAFwAAABdAAAAXgAAAF8AAABgAAAAYQAAAGIAAABjAAAAZAAAAGUAAABmAAAAZwAAAGgAAABpAAAAagAAAGsAAABsAAAAbQAAAG4AAABvAAAAcAAAAHEAAAByAAAAcwAAAHQAAAB1AAAAdgAAAHcAAAB4AAAAeQAAAHoAAAB7AAAAfAAAAH0AAAB+AAAAfwAAAIAAAACBAAAAggAAAIMAAACEAAAAhQAAAIYAAACHAAAAiAAAAIkAAACKAAAAiwAAAIwAAACNAAAAjgAAAI8AAACQAAAAkQAAAJIAAACTAAAAlAAAAJUAAACWAAAAlwAAAJgAAACZAAAAmgAAAJsAAACcAAAAnQAAAJ4AAACfAAAAoAAAAKEAAACiAAAAowAAAKQAAAClAAAApgAAAKcAAACoAAAAqQAAAKoAAACrAAAArAAAAK0AAACuAAAArwAAALAAAACxAAAAsgAAALMAAAC0AAAAtQAAALYAAAC3AAAAuAAAALkAAAC6AAAAuwAAALwAAAC9AAAAvgAAAL8AAADAAAAAwQAAAMIAAADDAAAAxAAAAMUAAADGAAAAxwAAAMgAAADJAAAAygAAAMsAAADMAAAAzQAAAM4AAADPAAAA0AAAANEAAADSAAAA0wAAANQAAADVAAAA1gAAANcAAADYAAAA2QAAANoAAADbAAAA3AAAAN0AAADeAAAA3wAAAOAAAADhAAAA4gAAAOMAAADkAAAA5QAAAOYAAADnAAAA6AAAAOkAAADqAAAA6wAAAOwAAADtAAAA7gAAAO8AAADwAAAA8QAAAPIAAADzAAAA9AAAAPUAAAD2AAAA9wAAAPgAAAD5AAAA+gAAAPsAAAD8AAAA\\u002fQAAAP4AAAD\\u002fAAAAAAEAAAEBAAACAQAAAwEAAAQBAAAFAQAABgEAAAcBAAAIAQAACQEAAAoBAAALAQAADAEAAA0BAAAOAQAADwEAABABAAARAQAAEgEAABMBAAAUAQAAFQEAABYBAAAXAQAAGAEAABkBAAAaAQAAGwEAABwBAAAdAQAAHgEAAB8BAAAgAQAAIQEAACIBAAAjAQAAJAEAACUBAAAmAQAAJwEAACgBAAApAQAAKgEAACsBAAAsAQAALQEAAC4BAAAvAQAAMAEAADEBAAAyAQAAMwEAADQBAAA1AQAANgEAADcBAAA4AQAAOQEAADoBAAA7AQAAPAEAAD0BAAA+AQAAPwEAAEABAABBAQAAQgEAAEMBAABEAQAARQEAAEYBAABHAQAASAEAAEkBAABKAQAASwEAAEwBAABNAQAATgEAAE8BAABQAQAAUQEAAFIBAABTAQAAVAEAAFUBAABWAQAAVwEAAFgBAABZAQAAWgEAAFsBAABcAQAAXQEAAF4BAABfAQAAYAEAAGEBAABiAQAAYwEAAGQBAABlAQAAZgEAAGcBAABoAQAAaQEAAGoBAABrAQAAbAEAAG0BAAA=\"},\"xaxis\":\"x\",\"y\":{\"dtype\":\"i1\",\"bdata\":\"BAkDAw0HAAEFBwMCAAoADAIABQADAAAAAAEFAwoABQgHExILGAUeCQ8SDgsNEh4aCwUNGRAIExcQDw8sEyYyGScPIhQnISQGNRYwFiIhIDMSIR8aJg4yJjMIMhYtSDMRMzwKKx1LVSwTODITKiEbO0MSKx8+MUlJNR4iJzg3Q0cdFRpBOCxNOSQ3SyRCJlIYWyFSPkAwQho1PiBNbT4dSU9hFEQZHDg\\u002fSEVZJj8RU00TQSlcRyBQOkM1QxtWTE8wHFZSRjslIFInKEJFQD48VR0iOTMbGUQ+LSJJPjcrLDUaFzcqGCweGhUnNUQTQ0M3IiQ1DCEMGR8sIyEoIxozDQkmCxYoMhIlMCYTLCgRICsOGgoNEwwCGBgGEhEKDBgRFxAOEA4UEg8PFBoLACALCQAEAQAAAQkFAgQMAAAAAAAJAAoCAAIAAAAAAgoLAgAHBgUDAAEAAgUCAQIBAQACAAAABQACAAEABgAKAAA=\"},\"yaxis\":\"y\",\"type\":\"scatter\"},{\"hovertemplate\":\"year=2023\\u003cbr\\u003eDay of Year=%{x}\\u003cbr\\u003eQuantity Sold=%{y}\\u003cextra\\u003e\\u003c\\u002fextra\\u003e\",\"legendgroup\":\"2023\",\"line\":{\"color\":\"#EF553B\",\"dash\":\"solid\"},\"marker\":{\"symbol\":\"circle\"},\"mode\":\"lines\",\"name\":\"2023\",\"orientation\":\"v\",\"showlegend\":true,\"x\":{\"dtype\":\"i4\",\"bdata\":\"AQAAAAIAAAADAAAABAAAAAUAAAAGAAAABwAAAAgAAAAJAAAACgAAAAsAAAAMAAAADQAAAA4AAAAPAAAAEAAAABEAAAASAAAAEwAAABQAAAAVAAAAFgAAABcAAAAYAAAAGQAAABoAAAAbAAAAHAAAAB0AAAAeAAAAHwAAACAAAAAhAAAAIgAAACMAAAAkAAAAJQAAACYAAAAnAAAAKAAAACkAAAAqAAAAKwAAACwAAAAtAAAALgAAAC8AAAAwAAAAMQAAADIAAAAzAAAANAAAADUAAAA2AAAANwAAADgAAAA5AAAAOgAAADsAAAA8AAAAPQAAAD4AAAA\\u002fAAAAQAAAAEEAAABCAAAAQwAAAEQAAABFAAAARgAAAEcAAABIAAAASQAAAEoAAABLAAAATAAAAE0AAABOAAAATwAAAFAAAABRAAAAUgAAAFMAAABUAAAAVQAAAFYAAABXAAAAWAAAAFkAAABaAAAAWwAAAFwAAABdAAAAXgAAAF8AAABgAAAAYQAAAGIAAABjAAAAZAAAAGUAAABmAAAAZwAAAGgAAABpAAAAagAAAGsAAABsAAAAbQAAAG4AAABvAAAAcAAAAHEAAAByAAAAcwAAAHQAAAB1AAAAdgAAAHcAAAB4AAAAeQAAAHoAAAB7AAAAfAAAAH0AAAB+AAAAfwAAAIAAAACBAAAAggAAAIMAAACEAAAAhQAAAIYAAACHAAAAiAAAAIkAAACKAAAAiwAAAIwAAACNAAAAjgAAAI8AAACQAAAAkQAAAJIAAACTAAAAlAAAAJUAAACWAAAAlwAAAJgAAACZAAAAmgAAAJsAAACcAAAAnQAAAJ4AAACfAAAAoAAAAKEAAACiAAAAowAAAKQAAAClAAAApgAAAKcAAACoAAAAqQAAAKoAAACrAAAArAAAAK0AAACuAAAArwAAALAAAACxAAAAsgAAALMAAAC0AAAAtQAAALYAAAC3AAAAuAAAALkAAAC6AAAAuwAAALwAAAC9AAAAvgAAAL8AAADAAAAAwQAAAMIAAADDAAAAxAAAAMUAAADGAAAAxwAAAMgAAADJAAAAygAAAMsAAADMAAAAzQAAAM4AAADPAAAA0AAAANEAAADSAAAA0wAAANQAAADVAAAA1gAAANcAAADYAAAA2QAAANoAAADbAAAA3AAAAN0AAADeAAAA3wAAAOAAAADhAAAA4gAAAOMAAADkAAAA5QAAAOYAAADnAAAA6AAAAOkAAADqAAAA6wAAAOwAAADtAAAA7gAAAO8AAADwAAAA8QAAAPIAAADzAAAA9AAAAPUAAAD2AAAA9wAAAPgAAAD5AAAA+gAAAPsAAAD8AAAA\\u002fQAAAP4AAAD\\u002fAAAAAAEAAAEBAAACAQAAAwEAAAQBAAAFAQAABgEAAAcBAAAIAQAACQEAAAoBAAALAQAADAEAAA0BAAAOAQAADwEAABABAAARAQAAEgEAABMBAAAUAQAAFQEAABYBAAAXAQAAGAEAABkBAAAaAQAAGwEAABwBAAAdAQAAHgEAAB8BAAAgAQAAIQEAACIBAAAjAQAAJAEAACUBAAAmAQAAJwEAACgBAAApAQAAKgEAACsBAAAsAQAALQEAAC4BAAAvAQAAMAEAADEBAAAyAQAAMwEAADQBAAA1AQAANgEAADcBAAA4AQAAOQEAADoBAAA7AQAAPAEAAD0BAAA+AQAAPwEAAEABAABBAQAAQgEAAEMBAABEAQAARQEAAEYBAABHAQAASAEAAEkBAABKAQAASwEAAEwBAABNAQAATgEAAE8BAABQAQAAUQEAAFIBAABTAQAAVAEAAFUBAABWAQAAVwEAAFgBAABZAQAAWgEAAFsBAABcAQAAXQEAAF4BAABfAQAAYAEAAGEBAABiAQAAYwEAAGQBAABlAQAAZgEAAGcBAABoAQAAaQEAAGoBAABrAQAAbAEAAG0BAAA=\"},\"xaxis\":\"x\",\"y\":{\"dtype\":\"i1\",\"bdata\":\"AgIEAQcKBQQABAAGCwgLCQoNAAgGAAAACgYHAAAABwUBFgUHFSIRChgOGxgXDAoVBA0SCA0YEQcLExIMGBMLHhAdFDQXLiU4IxM0Jy8tDBkJHiEzCSMbGRs0KiksK0Q6KysXKjYnMkJPSj4XNTYyFS4SJ0E\\u002fNBgpXVtEJ0cqI0M4IzYiHEElEEQiGTslRSJCWTsjTy8mIxVdHEtGIzFnFj4\\u002fTE0cGmMvST44KjBYIhZAPjhdGk9FMCYkJk0mVztJIzg3VyM+RjYrQSArO1Q8Pz9EVRdCJywMGCgrP0QwUDY1QxBAVBsSLikzOioYFjgiTkcuKTMLDh0xHg0EIQggFR4kKAE0JA4XAwovMSQsHCkRAwMYDBUdDAoZBA0KCQwJBxcREggVBBkEFwoWFAcLEAQAAgACAgMHBAACAAAEAAIHBAEFAAAAAQAABAYKCAsADAAAAwAIBgAGAAIGAQAEAQIBAAAAAAAAAAQDAAA=\"},\"yaxis\":\"y\",\"type\":\"scatter\"}],                        {\"legend\":{\"title\":{\"text\":\"year\"},\"tracegroupgap\":0},\"template\":{\"data\":{\"barpolar\":[{\"marker\":{\"line\":{\"color\":\"#E5ECF6\",\"width\":0.5},\"pattern\":{\"fillmode\":\"overlay\",\"size\":10,\"solidity\":0.2}},\"type\":\"barpolar\"}],\"bar\":[{\"error_x\":{\"color\":\"#2a3f5f\"},\"error_y\":{\"color\":\"#2a3f5f\"},\"marker\":{\"line\":{\"color\":\"#E5ECF6\",\"width\":0.5},\"pattern\":{\"fillmode\":\"overlay\",\"size\":10,\"solidity\":0.2}},\"type\":\"bar\"}],\"carpet\":[{\"aaxis\":{\"endlinecolor\":\"#2a3f5f\",\"gridcolor\":\"white\",\"linecolor\":\"white\",\"minorgridcolor\":\"white\",\"startlinecolor\":\"#2a3f5f\"},\"baxis\":{\"endlinecolor\":\"#2a3f5f\",\"gridcolor\":\"white\",\"linecolor\":\"white\",\"minorgridcolor\":\"white\",\"startlinecolor\":\"#2a3f5f\"},\"type\":\"carpet\"}],\"choropleth\":[{\"colorbar\":{\"outlinewidth\":0,\"ticks\":\"\"},\"type\":\"choropleth\"}],\"contourcarpet\":[{\"colorbar\":{\"outlinewidth\":0,\"ticks\":\"\"},\"type\":\"contourcarpet\"}],\"contour\":[{\"colorbar\":{\"outlinewidth\":0,\"ticks\":\"\"},\"colorscale\":[[0.0,\"#0d0887\"],[0.1111111111111111,\"#46039f\"],[0.2222222222222222,\"#7201a8\"],[0.3333333333333333,\"#9c179e\"],[0.4444444444444444,\"#bd3786\"],[0.5555555555555556,\"#d8576b\"],[0.6666666666666666,\"#ed7953\"],[0.7777777777777778,\"#fb9f3a\"],[0.8888888888888888,\"#fdca26\"],[1.0,\"#f0f921\"]],\"type\":\"contour\"}],\"heatmap\":[{\"colorbar\":{\"outlinewidth\":0,\"ticks\":\"\"},\"colorscale\":[[0.0,\"#0d0887\"],[0.1111111111111111,\"#46039f\"],[0.2222222222222222,\"#7201a8\"],[0.3333333333333333,\"#9c179e\"],[0.4444444444444444,\"#bd3786\"],[0.5555555555555556,\"#d8576b\"],[0.6666666666666666,\"#ed7953\"],[0.7777777777777778,\"#fb9f3a\"],[0.8888888888888888,\"#fdca26\"],[1.0,\"#f0f921\"]],\"type\":\"heatmap\"}],\"histogram2dcontour\":[{\"colorbar\":{\"outlinewidth\":0,\"ticks\":\"\"},\"colorscale\":[[0.0,\"#0d0887\"],[0.1111111111111111,\"#46039f\"],[0.2222222222222222,\"#7201a8\"],[0.3333333333333333,\"#9c179e\"],[0.4444444444444444,\"#bd3786\"],[0.5555555555555556,\"#d8576b\"],[0.6666666666666666,\"#ed7953\"],[0.7777777777777778,\"#fb9f3a\"],[0.8888888888888888,\"#fdca26\"],[1.0,\"#f0f921\"]],\"type\":\"histogram2dcontour\"}],\"histogram2d\":[{\"colorbar\":{\"outlinewidth\":0,\"ticks\":\"\"},\"colorscale\":[[0.0,\"#0d0887\"],[0.1111111111111111,\"#46039f\"],[0.2222222222222222,\"#7201a8\"],[0.3333333333333333,\"#9c179e\"],[0.4444444444444444,\"#bd3786\"],[0.5555555555555556,\"#d8576b\"],[0.6666666666666666,\"#ed7953\"],[0.7777777777777778,\"#fb9f3a\"],[0.8888888888888888,\"#fdca26\"],[1.0,\"#f0f921\"]],\"type\":\"histogram2d\"}],\"histogram\":[{\"marker\":{\"pattern\":{\"fillmode\":\"overlay\",\"size\":10,\"solidity\":0.2}},\"type\":\"histogram\"}],\"mesh3d\":[{\"colorbar\":{\"outlinewidth\":0,\"ticks\":\"\"},\"type\":\"mesh3d\"}],\"parcoords\":[{\"line\":{\"colorbar\":{\"outlinewidth\":0,\"ticks\":\"\"}},\"type\":\"parcoords\"}],\"pie\":[{\"automargin\":true,\"type\":\"pie\"}],\"scatter3d\":[{\"line\":{\"colorbar\":{\"outlinewidth\":0,\"ticks\":\"\"}},\"marker\":{\"colorbar\":{\"outlinewidth\":0,\"ticks\":\"\"}},\"type\":\"scatter3d\"}],\"scattercarpet\":[{\"marker\":{\"colorbar\":{\"outlinewidth\":0,\"ticks\":\"\"}},\"type\":\"scattercarpet\"}],\"scattergeo\":[{\"marker\":{\"colorbar\":{\"outlinewidth\":0,\"ticks\":\"\"}},\"type\":\"scattergeo\"}],\"scattergl\":[{\"marker\":{\"colorbar\":{\"outlinewidth\":0,\"ticks\":\"\"}},\"type\":\"scattergl\"}],\"scattermapbox\":[{\"marker\":{\"colorbar\":{\"outlinewidth\":0,\"ticks\":\"\"}},\"type\":\"scattermapbox\"}],\"scattermap\":[{\"marker\":{\"colorbar\":{\"outlinewidth\":0,\"ticks\":\"\"}},\"type\":\"scattermap\"}],\"scatterpolargl\":[{\"marker\":{\"colorbar\":{\"outlinewidth\":0,\"ticks\":\"\"}},\"type\":\"scatterpolargl\"}],\"scatterpolar\":[{\"marker\":{\"colorbar\":{\"outlinewidth\":0,\"ticks\":\"\"}},\"type\":\"scatterpolar\"}],\"scatter\":[{\"fillpattern\":{\"fillmode\":\"overlay\",\"size\":10,\"solidity\":0.2},\"type\":\"scatter\"}],\"scatterternary\":[{\"marker\":{\"colorbar\":{\"outlinewidth\":0,\"ticks\":\"\"}},\"type\":\"scatterternary\"}],\"surface\":[{\"colorbar\":{\"outlinewidth\":0,\"ticks\":\"\"},\"colorscale\":[[0.0,\"#0d0887\"],[0.1111111111111111,\"#46039f\"],[0.2222222222222222,\"#7201a8\"],[0.3333333333333333,\"#9c179e\"],[0.4444444444444444,\"#bd3786\"],[0.5555555555555556,\"#d8576b\"],[0.6666666666666666,\"#ed7953\"],[0.7777777777777778,\"#fb9f3a\"],[0.8888888888888888,\"#fdca26\"],[1.0,\"#f0f921\"]],\"type\":\"surface\"}],\"table\":[{\"cells\":{\"fill\":{\"color\":\"#EBF0F8\"},\"line\":{\"color\":\"white\"}},\"header\":{\"fill\":{\"color\":\"#C8D4E3\"},\"line\":{\"color\":\"white\"}},\"type\":\"table\"}]},\"layout\":{\"annotationdefaults\":{\"arrowcolor\":\"#2a3f5f\",\"arrowhead\":0,\"arrowwidth\":1},\"autotypenumbers\":\"strict\",\"coloraxis\":{\"colorbar\":{\"outlinewidth\":0,\"ticks\":\"\"}},\"colorscale\":{\"diverging\":[[0,\"#8e0152\"],[0.1,\"#c51b7d\"],[0.2,\"#de77ae\"],[0.3,\"#f1b6da\"],[0.4,\"#fde0ef\"],[0.5,\"#f7f7f7\"],[0.6,\"#e6f5d0\"],[0.7,\"#b8e186\"],[0.8,\"#7fbc41\"],[0.9,\"#4d9221\"],[1,\"#276419\"]],\"sequential\":[[0.0,\"#0d0887\"],[0.1111111111111111,\"#46039f\"],[0.2222222222222222,\"#7201a8\"],[0.3333333333333333,\"#9c179e\"],[0.4444444444444444,\"#bd3786\"],[0.5555555555555556,\"#d8576b\"],[0.6666666666666666,\"#ed7953\"],[0.7777777777777778,\"#fb9f3a\"],[0.8888888888888888,\"#fdca26\"],[1.0,\"#f0f921\"]],\"sequentialminus\":[[0.0,\"#0d0887\"],[0.1111111111111111,\"#46039f\"],[0.2222222222222222,\"#7201a8\"],[0.3333333333333333,\"#9c179e\"],[0.4444444444444444,\"#bd3786\"],[0.5555555555555556,\"#d8576b\"],[0.6666666666666666,\"#ed7953\"],[0.7777777777777778,\"#fb9f3a\"],[0.8888888888888888,\"#fdca26\"],[1.0,\"#f0f921\"]]},\"colorway\":[\"#636efa\",\"#EF553B\",\"#00cc96\",\"#ab63fa\",\"#FFA15A\",\"#19d3f3\",\"#FF6692\",\"#B6E880\",\"#FF97FF\",\"#FECB52\"],\"font\":{\"color\":\"#2a3f5f\"},\"geo\":{\"bgcolor\":\"white\",\"lakecolor\":\"white\",\"landcolor\":\"#E5ECF6\",\"showlakes\":true,\"showland\":true,\"subunitcolor\":\"white\"},\"hoverlabel\":{\"align\":\"left\"},\"hovermode\":\"closest\",\"mapbox\":{\"style\":\"light\"},\"paper_bgcolor\":\"white\",\"plot_bgcolor\":\"#E5ECF6\",\"polar\":{\"angularaxis\":{\"gridcolor\":\"white\",\"linecolor\":\"white\",\"ticks\":\"\"},\"bgcolor\":\"#E5ECF6\",\"radialaxis\":{\"gridcolor\":\"white\",\"linecolor\":\"white\",\"ticks\":\"\"}},\"scene\":{\"xaxis\":{\"backgroundcolor\":\"#E5ECF6\",\"gridcolor\":\"white\",\"gridwidth\":2,\"linecolor\":\"white\",\"showbackground\":true,\"ticks\":\"\",\"zerolinecolor\":\"white\"},\"yaxis\":{\"backgroundcolor\":\"#E5ECF6\",\"gridcolor\":\"white\",\"gridwidth\":2,\"linecolor\":\"white\",\"showbackground\":true,\"ticks\":\"\",\"zerolinecolor\":\"white\"},\"zaxis\":{\"backgroundcolor\":\"#E5ECF6\",\"gridcolor\":\"white\",\"gridwidth\":2,\"linecolor\":\"white\",\"showbackground\":true,\"ticks\":\"\",\"zerolinecolor\":\"white\"}},\"shapedefaults\":{\"line\":{\"color\":\"#2a3f5f\"}},\"ternary\":{\"aaxis\":{\"gridcolor\":\"white\",\"linecolor\":\"white\",\"ticks\":\"\"},\"baxis\":{\"gridcolor\":\"white\",\"linecolor\":\"white\",\"ticks\":\"\"},\"bgcolor\":\"#E5ECF6\",\"caxis\":{\"gridcolor\":\"white\",\"linecolor\":\"white\",\"ticks\":\"\"}},\"title\":{\"x\":0.05},\"xaxis\":{\"automargin\":true,\"gridcolor\":\"white\",\"linecolor\":\"white\",\"ticks\":\"\",\"title\":{\"standoff\":15},\"zerolinecolor\":\"white\",\"zerolinewidth\":2},\"yaxis\":{\"automargin\":true,\"gridcolor\":\"white\",\"linecolor\":\"white\",\"ticks\":\"\",\"title\":{\"standoff\":15},\"zerolinecolor\":\"white\",\"zerolinewidth\":2}}},\"title\":{\"text\":\"Yearly Sales Cycles Overlayed\"},\"xaxis\":{\"anchor\":\"y\",\"domain\":[0.0,1.0],\"title\":{\"text\":\"Day of Year\"}},\"yaxis\":{\"anchor\":\"x\",\"domain\":[0.0,1.0],\"title\":{\"text\":\"Quantity Sold\"}}},                        {\"responsive\": true}                    )                };            </script>        </div></div>\n",
              "        </div>\n",
              "    </div>\n",
              "    \n",
              "    </div>\n",
              "    "
            ],
            "text/markdown": [
              "## ✅ SuccessEvent - viz_expert\n",
              "**Time:** 12:33:25  \n",
              "**Result:**\n",
              "```\n",
              "Figure({\n",
              "    'data': [{'hovertemplate': 'year=2022<br>Day of Year=%{x}<br>Quantity Sold=%{y}<extra></extra>',\n",
              "              'legendgroup': '2022',\n",
              "              'line': {'color': '#636efa', 'dash': 'solid'},\n",
              "              'marker': {'symbol': 'circle'},\n",
              "              'mode': 'lines',\n",
              "              'name': '2022',\n",
              "              'orientation': 'v',\n",
              "              'showlegend': True,\n",
              "              'type': 'scatter',\n",
              "              'x': {'bdata': ('AQAAAAIAAAADAAAABAAAAAUAAAAGAA' ... 'AAaQEAAGoBAABrAQAAbAEAAG0BAAA='),\n",
              "                    'dtype': 'i4'},\n",
              "              'xaxis': 'x',\n",
              "              'y': {'bdata': ('BAkDAw0HAAEFBwMCAAoADAIABQADAA' ... 'UCAQIBAQACAAAABQACAAEABgAKAAA='),\n",
              "                    'dtype': 'i1'},\n",
              "              'yaxis': 'y'},\n",
              "             {'hovertemplate': 'year=2023<br>Day of Year=%{x}<br>Quantity Sold=%{y}<extra></extra>',\n",
              "              'legendgroup': '2023',\n",
              "              'line': {'color': '#EF553B', 'dash': 'solid'},\n",
              "              'marker': {'symbol': 'circle'},\n",
              "              'mode': 'lines',\n",
              "              'name': '2023',\n",
              "              'orientation': 'v',\n",
              "              'showlegend': True,\n",
              "              'type': 'scatter',\n",
              "              'x': {'bdata': ('AQAAAAIAAAADAAAABAAAAAUAAAAGAA' ... 'AAaQEAAGoBAABrAQAAbAEAAG0BAAA='),\n",
              "                    'dtype': 'i4'},\n",
              "              'xaxis': 'x',\n",
              "              'y': {'bdata': ('AgIEAQcKBQQABAAGCwgLCQoNAAgGAA' ... 'AGAAIGAQAEAQIBAAAAAAAAAAQDAAA='),\n",
              "                    'dtype': 'i1'},\n",
              "              'yaxis': 'y'}],\n",
              "    'layout': {'legend': {'title': {'text': 'year'}, 'tracegroupgap': 0},\n",
              "               'template': '...',\n",
              "               'title': {'text': 'Yearly Sales Cycles Overlayed'},\n",
              "               'xaxis': {'anchor': 'y', 'domain': [0.0, 1.0], 'title': {'text': 'Day of Year'}},\n",
              "               'yaxis': {'anchor': 'x', 'domain': [0.0, 1.0], 'title': {'text': 'Quantity Sold'}}}\n",
              "})\n",
              "```"
            ],
            "text/plain": [
              "SuccessEvent(SuccessEvent[viz_expert] @ 12:33:25)"
            ]
          },
          "metadata": {},
          "output_type": "display_data"
        }
      ],
      "source": [
        "for evt in events(state):\n",
        "    display(evt)"
      ]
    },
    {
      "cell_type": "markdown",
      "metadata": {
        "vscode": {
          "languageId": "raw"
        }
      },
      "source": [
        "### Conclusion: The `agex` Difference\n",
        "\n",
        "We just orchestrated a complex workflow involving a database, a large dataset, and a visualization library, all using natural language prompts.\n",
        "\n",
        "Crucially, we leveraged the powerful abstractions we *already* use as developers (`pandas.DataFrame`, `plotly.Figure`) instead of being forced into a restrictive tool-calling paradigm. The agents worked with our existing code and objects natively.\n",
        "\n",
        "This is the core advantage of `agex`: it respects your code and enables a more powerful, flexible, and Pythonic way to build agentic systems.\n",
        "\n",
        "---\n",
        "\n",
        "**Want to see what the agents actually generated?** The responses used in this demo are stored in `examples/notebook/helper.py` as `DB_QUERY_RESPONSE` and `VISUALIZATION_RESPONSE`. They are real LLM outputs, captured for reproducibility.\n"
      ]
    }
  ],
  "metadata": {
    "kernelspec": {
      "display_name": ".venv",
      "language": "python",
      "name": "python3"
    },
    "language_info": {
      "codemirror_mode": {
        "name": "ipython",
        "version": 3
      },
      "file_extension": ".py",
      "mimetype": "text/x-python",
      "name": "python",
      "nbconvert_exporter": "python",
      "pygments_lexer": "ipython3",
      "version": "3.12.9"
    }
  },
  "nbformat": 4,
  "nbformat_minor": 2
}
