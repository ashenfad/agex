{
  "cells": [
    {
      "cell_type": "markdown",
      "metadata": {
        "vscode": {
          "languageId": "raw"
        }
      },
      "source": [
        "# agex: Code-Native Agents\n",
        "\n",
        "In this demo, we'll start with a 'wide' dataset of stock prices and use an `agex` agent to perform a classic data science task: reshaping it into a 'long' format and then visualizing the result."
      ]
    },
    {
      "cell_type": "code",
      "execution_count": 1,
      "metadata": {},
      "outputs": [
        {
          "data": {
            "text/html": [
              "<div>\n",
              "<style scoped>\n",
              "    .dataframe tbody tr th:only-of-type {\n",
              "        vertical-align: middle;\n",
              "    }\n",
              "\n",
              "    .dataframe tbody tr th {\n",
              "        vertical-align: top;\n",
              "    }\n",
              "\n",
              "    .dataframe thead th {\n",
              "        text-align: right;\n",
              "    }\n",
              "</style>\n",
              "<table border=\"1\" class=\"dataframe\">\n",
              "  <thead>\n",
              "    <tr style=\"text-align: right;\">\n",
              "      <th></th>\n",
              "      <th>date</th>\n",
              "      <th>GOOG</th>\n",
              "      <th>AAPL</th>\n",
              "      <th>AMZN</th>\n",
              "      <th>FB</th>\n",
              "      <th>NFLX</th>\n",
              "      <th>MSFT</th>\n",
              "    </tr>\n",
              "  </thead>\n",
              "  <tbody>\n",
              "    <tr>\n",
              "      <th>0</th>\n",
              "      <td>2018-01-01</td>\n",
              "      <td>1.000000</td>\n",
              "      <td>1.000000</td>\n",
              "      <td>1.000000</td>\n",
              "      <td>1.000000</td>\n",
              "      <td>1.000000</td>\n",
              "      <td>1.000000</td>\n",
              "    </tr>\n",
              "    <tr>\n",
              "      <th>1</th>\n",
              "      <td>2018-01-08</td>\n",
              "      <td>1.018172</td>\n",
              "      <td>1.011943</td>\n",
              "      <td>1.061881</td>\n",
              "      <td>0.959968</td>\n",
              "      <td>1.053526</td>\n",
              "      <td>1.015988</td>\n",
              "    </tr>\n",
              "    <tr>\n",
              "      <th>2</th>\n",
              "      <td>2018-01-15</td>\n",
              "      <td>1.032008</td>\n",
              "      <td>1.019771</td>\n",
              "      <td>1.053240</td>\n",
              "      <td>0.970243</td>\n",
              "      <td>1.049860</td>\n",
              "      <td>1.020524</td>\n",
              "    </tr>\n",
              "    <tr>\n",
              "      <th>3</th>\n",
              "      <td>2018-01-22</td>\n",
              "      <td>1.066783</td>\n",
              "      <td>0.980057</td>\n",
              "      <td>1.140676</td>\n",
              "      <td>1.016858</td>\n",
              "      <td>1.307681</td>\n",
              "      <td>1.066561</td>\n",
              "    </tr>\n",
              "    <tr>\n",
              "      <th>4</th>\n",
              "      <td>2018-01-29</td>\n",
              "      <td>1.008773</td>\n",
              "      <td>0.917143</td>\n",
              "      <td>1.163374</td>\n",
              "      <td>1.018357</td>\n",
              "      <td>1.273537</td>\n",
              "      <td>1.040708</td>\n",
              "    </tr>\n",
              "  </tbody>\n",
              "</table>\n",
              "</div>"
            ],
            "text/plain": [
              "         date      GOOG      AAPL      AMZN        FB      NFLX      MSFT\n",
              "0  2018-01-01  1.000000  1.000000  1.000000  1.000000  1.000000  1.000000\n",
              "1  2018-01-08  1.018172  1.011943  1.061881  0.959968  1.053526  1.015988\n",
              "2  2018-01-15  1.032008  1.019771  1.053240  0.970243  1.049860  1.020524\n",
              "3  2018-01-22  1.066783  0.980057  1.140676  1.016858  1.307681  1.066561\n",
              "4  2018-01-29  1.008773  0.917143  1.163374  1.018357  1.273537  1.040708"
            ]
          },
          "metadata": {},
          "output_type": "display_data"
        }
      ],
      "source": [
        "import plotly.express as px\n",
        "\n",
        "df = px.data.stocks()\n",
        "display(df.head())"
      ]
    },
    {
      "cell_type": "markdown",
      "metadata": {},
      "source": [
        "First, we create an `Agent`. Instead of rigid \"tools\", we give our agent direct access to the `pandas` and `plotly` libraries, creating a guided sandbox environment for it to work in."
      ]
    },
    {
      "cell_type": "code",
      "execution_count": 2,
      "metadata": {},
      "outputs": [],
      "source": [
        "import pandas as pd\n",
        "import plotly.graph_objects as go\n",
        "from agex import Agent\n",
        "\n",
        "agent = Agent(name=\"data_expert\")\n",
        "\n",
        "# Register pandas & plotly for the agent\n",
        "agent.cls(go.Figure, visibility=\"low\")\n",
        "agent.module(px, visibility=\"low\")\n",
        "agent.module(pd, visibility=\"low\")"
      ]
    },
    {
      "cell_type": "markdown",
      "metadata": {
        "vscode": {
          "languageId": "raw"
        }
      },
      "source": [
        "Next, we define the agent's skills using the `@agent.task` decorator. We provide a function signature with type hints, and the agent writes the implementation at runtime. The types are the contract."
      ]
    },
    {
      "cell_type": "code",
      "execution_count": 3,
      "metadata": {},
      "outputs": [],
      "source": [
        "@agent.task\n",
        "def transform_data(prompt: str, df: pd.DataFrame) -> pd.DataFrame:  # type: ignore[return-value]\n",
        "    \"\"\"Transform the data according to the prompt.\"\"\"\n",
        "    pass\n",
        "\n",
        "@agent.task\n",
        "def plot_data(prompt: str, df: pd.DataFrame) -> go.Figure:  # type: ignore[return-value]\n",
        "    \"\"\"Plot the data according to the prompt.\"\"\"\n",
        "    pass"
      ]
    },
    {
      "cell_type": "markdown",
      "metadata": {},
      "source": [
        "Let's ask the agent to transform our data. Notice that the agent will return a real, live `DataFrame` directly to us (not JSON)."
      ]
    },
    {
      "cell_type": "code",
      "execution_count": 4,
      "metadata": {},
      "outputs": [
        {
          "data": {
            "text/html": [
              "<div>\n",
              "<style scoped>\n",
              "    .dataframe tbody tr th:only-of-type {\n",
              "        vertical-align: middle;\n",
              "    }\n",
              "\n",
              "    .dataframe tbody tr th {\n",
              "        vertical-align: top;\n",
              "    }\n",
              "\n",
              "    .dataframe thead th {\n",
              "        text-align: right;\n",
              "    }\n",
              "</style>\n",
              "<table border=\"1\" class=\"dataframe\">\n",
              "  <thead>\n",
              "    <tr style=\"text-align: right;\">\n",
              "      <th></th>\n",
              "      <th>date</th>\n",
              "      <th>company</th>\n",
              "      <th>price</th>\n",
              "    </tr>\n",
              "  </thead>\n",
              "  <tbody>\n",
              "    <tr>\n",
              "      <th>0</th>\n",
              "      <td>2018-01-01</td>\n",
              "      <td>GOOG</td>\n",
              "      <td>1.000000</td>\n",
              "    </tr>\n",
              "    <tr>\n",
              "      <th>1</th>\n",
              "      <td>2018-01-08</td>\n",
              "      <td>GOOG</td>\n",
              "      <td>1.018172</td>\n",
              "    </tr>\n",
              "    <tr>\n",
              "      <th>2</th>\n",
              "      <td>2018-01-15</td>\n",
              "      <td>GOOG</td>\n",
              "      <td>1.032008</td>\n",
              "    </tr>\n",
              "    <tr>\n",
              "      <th>3</th>\n",
              "      <td>2018-01-22</td>\n",
              "      <td>GOOG</td>\n",
              "      <td>1.066783</td>\n",
              "    </tr>\n",
              "    <tr>\n",
              "      <th>4</th>\n",
              "      <td>2018-01-29</td>\n",
              "      <td>GOOG</td>\n",
              "      <td>1.008773</td>\n",
              "    </tr>\n",
              "  </tbody>\n",
              "</table>\n",
              "</div>"
            ],
            "text/plain": [
              "         date company     price\n",
              "0  2018-01-01    GOOG  1.000000\n",
              "1  2018-01-08    GOOG  1.018172\n",
              "2  2018-01-15    GOOG  1.032008\n",
              "3  2018-01-22    GOOG  1.066783\n",
              "4  2018-01-29    GOOG  1.008773"
            ]
          },
          "metadata": {},
          "output_type": "display_data"
        }
      ],
      "source": [
        "prompt = \"Reshape this data from wide to long with 'date', 'company', and 'price' cols\"\n",
        "long_df = transform_data(prompt, df)\n",
        "display(long_df.head())"
      ]
    },
    {
      "cell_type": "markdown",
      "metadata": {},
      "source": [
        "That's a real `DataFrame`, but how did the agent create it? We can see the agent's \"thinking\" by re-running the task with an `on_event` handler."
      ]
    },
    {
      "cell_type": "code",
      "execution_count": 5,
      "metadata": {},
      "outputs": [
        {
          "data": {
            "text/html": [
              "\n",
              "    <div style=\"border: 1px solid #e1e4e8; border-radius: 8px; padding: 16px; margin: 8px 0; background: #f6f8fa;\">\n",
              "        <div style=\"font-weight: 600; color: #24292e; margin-bottom: 8px; font-size: 14px;\">\n",
              "            🧠 ActionEvent - data_expert\n",
              "        </div>\n",
              "        <div style=\"font-size: 12px; color: #6a737d; margin-bottom: 12px;\">\n",
              "            2025-07-30T06:55:51Z\n",
              "        </div>\n",
              "        \n",
              "    <div style=\"margin-bottom: 16px;\">\n",
              "        <div style=\"font-weight: 600; margin-bottom: 6px; color: #0366d6; font-size: 13px;\">\n",
              "            💭 Thinking:\n",
              "        </div>\n",
              "        <div style=\"background: #fff; padding: 12px; border-radius: 6px; border-left: 3px solid #0366d6; color: #24292e; line-height: 1.4;\">\n",
              "            The task requires transforming the data from wide to long format based on the prompt specified in `inputs.prompt`. The prompt indicates that the data has multiple columns, and I need to reshape it so that &#x27;date&#x27;, &#x27;company&#x27;, and &#x27;price&#x27; are columns in the long format. To do this properly, I should examine the current columns of the DataFrame to understand its structure. Then, I can use pandas&#x27; `melt` function to reshape the DataFrame accordingly. Before proceeding, I will check the existing columns and data to plan the melt operation. After confirming the structure, I will perform the transformation, verify the result with `task_continue()`, then finish with `task_success()`.\n",
              "        </div>\n",
              "    </div>\n",
              "    \n",
              "        <div>\n",
              "            <div style=\"font-weight: 600; margin-bottom: 6px; color: #28a745; font-size: 13px;\">\n",
              "                🐍 Code:\n",
              "            </div>\n",
              "            <div style=\"background: #fff; padding: 16px; border-radius: 6px; border-left: 3px solid #28a745; overflow-x: auto; font-family: 'SFMono-Regular', 'Monaco', 'Inconsolata', 'Roboto Mono', monospace; font-size: 13px; line-height: 1.45; margin: 0;\"><div class=\"highlight\"><pre style=\"line-height: 125%;\"><span></span><span style=\"color: #93A1A1; font-style: italic\"># First, examine the current columns of the DataFrame</span>\n",
              "<span style=\"color: #268BD2\">print</span><span style=\"color: #657B83\">(</span><span style=\"color: #2AA198\">&#39;===Columns in the DataFrame===&#39;</span><span style=\"color: #657B83\">)</span>\n",
              "<span style=\"color: #268BD2\">print</span><span style=\"color: #657B83\">(inputs</span><span style=\"color: #93A1A1\">.</span><span style=\"color: #657B83\">df</span><span style=\"color: #93A1A1\">.</span><span style=\"color: #657B83\">columns)</span>\n",
              "<span style=\"color: #268BD2\">print</span><span style=\"color: #657B83\">(</span><span style=\"color: #2AA198\">&#39;===First few rows of the DataFrame===&#39;</span><span style=\"color: #657B83\">)</span>\n",
              "<span style=\"color: #268BD2\">print</span><span style=\"color: #657B83\">(inputs</span><span style=\"color: #93A1A1\">.</span><span style=\"color: #657B83\">df</span><span style=\"color: #93A1A1\">.</span><span style=\"color: #657B83\">head())</span>\n",
              "<span style=\"color: #93A1A1; font-style: italic\"># Based on the prompt, we need to reshape wide to long with &#39;date&#39;, &#39;company&#39;, and &#39;price&#39;</span>\n",
              "<span style=\"color: #93A1A1; font-style: italic\"># Assuming the original DataFrame has columns that represent different companies or dates,</span>\n",
              "<span style=\"color: #93A1A1; font-style: italic\"># we need to identify which columns to melt.</span>\n",
              "<span style=\"color: #93A1A1; font-style: italic\"># For the example, let&#39;s assume the DataFrame has &#39;date&#39; and multiple company columns like &#39;A&#39;, &#39;B&#39;, &#39;C&#39;, etc.</span>\n",
              "<span style=\"color: #93A1A1; font-style: italic\"># We will melt on &#39;date&#39; and unpivot the other columns into &#39;company&#39; and &#39;price&#39;.</span>\n",
              "\n",
              "<span style=\"color: #93A1A1; font-style: italic\"># Check if &#39;date&#39; is already a column</span>\n",
              "<span style=\"color: #859900\">if</span> <span style=\"color: #2AA198\">&#39;date&#39;</span> <span style=\"color: #859900\">not</span> <span style=\"color: #859900\">in</span> <span style=\"color: #657B83\">inputs</span><span style=\"color: #93A1A1\">.</span><span style=\"color: #657B83\">df</span><span style=\"color: #93A1A1\">.</span><span style=\"color: #657B83\">columns:</span>\n",
              "    <span style=\"color: #93A1A1; font-style: italic\"># If &#39;date&#39; is part of the index or needs to be created, handle accordingly</span>\n",
              "    <span style=\"color: #93A1A1; font-style: italic\"># For now, we assume &#39;date&#39; is a column; otherwise, more info is needed.</span>\n",
              "    <span style=\"color: #859900\">pass</span>\n",
              "\n",
              "<span style=\"color: #93A1A1; font-style: italic\"># Identify columns to melt; assuming all columns except &#39;date&#39; are company data</span>\n",
              "<span style=\"color: #657B83\">id_vars</span> <span style=\"color: #93A1A1\">=</span> <span style=\"color: #657B83\">[</span><span style=\"color: #2AA198\">&#39;date&#39;</span><span style=\"color: #657B83\">]</span> <span style=\"color: #859900\">if</span> <span style=\"color: #2AA198\">&#39;date&#39;</span> <span style=\"color: #859900\">in</span> <span style=\"color: #657B83\">inputs</span><span style=\"color: #93A1A1\">.</span><span style=\"color: #657B83\">df</span><span style=\"color: #93A1A1\">.</span><span style=\"color: #657B83\">columns</span> <span style=\"color: #859900\">else</span> <span style=\"color: #657B83\">[]</span>\n",
              "<span style=\"color: #657B83\">value_vars</span> <span style=\"color: #93A1A1\">=</span> <span style=\"color: #657B83\">[col</span> <span style=\"color: #859900\">for</span> <span style=\"color: #657B83\">col</span> <span style=\"color: #859900\">in</span> <span style=\"color: #657B83\">inputs</span><span style=\"color: #93A1A1\">.</span><span style=\"color: #657B83\">df</span><span style=\"color: #93A1A1\">.</span><span style=\"color: #657B83\">columns</span> <span style=\"color: #859900\">if</span> <span style=\"color: #657B83\">col</span> <span style=\"color: #859900\">not</span> <span style=\"color: #859900\">in</span> <span style=\"color: #657B83\">id_vars]</span>\n",
              "\n",
              "<span style=\"color: #93A1A1; font-style: italic\"># Perform the melt operation</span>\n",
              "<span style=\"color: #657B83\">long_df</span> <span style=\"color: #93A1A1\">=</span> <span style=\"color: #657B83\">inputs</span><span style=\"color: #93A1A1\">.</span><span style=\"color: #657B83\">df</span><span style=\"color: #93A1A1\">.</span><span style=\"color: #657B83\">melt(id_vars</span><span style=\"color: #93A1A1\">=</span><span style=\"color: #657B83\">id_vars,</span> <span style=\"color: #657B83\">value_vars</span><span style=\"color: #93A1A1\">=</span><span style=\"color: #657B83\">value_vars,</span>\n",
              "                        <span style=\"color: #657B83\">var_name</span><span style=\"color: #93A1A1\">=</span><span style=\"color: #2AA198\">&#39;company&#39;</span><span style=\"color: #657B83\">,</span> <span style=\"color: #657B83\">value_name</span><span style=\"color: #93A1A1\">=</span><span style=\"color: #2AA198\">&#39;price&#39;</span><span style=\"color: #657B83\">)</span>\n",
              "\n",
              "<span style=\"color: #93A1A1; font-style: italic\"># Verify the transformation</span>\n",
              "<span style=\"color: #657B83\">task_continue(</span><span style=\"color: #2AA198\">&#39;Check the transformed long DataFrame:&#39;</span><span style=\"color: #657B83\">,</span> <span style=\"color: #657B83\">long_df</span><span style=\"color: #93A1A1\">.</span><span style=\"color: #657B83\">head())</span>\n",
              "<span style=\"color: #93A1A1; font-style: italic\"># Upon verification, complete the task</span>\n",
              "<span style=\"color: #657B83\">task_success(long_df)</span>\n",
              "</pre></div>\n",
              "</div>\n",
              "        </div>\n",
              "        \n",
              "    </div>\n",
              "    "
            ],
            "text/markdown": [
              "## 🧠 ActionEvent - data_expert\n",
              "**Time:** 06:55:51  \n",
              "**Thinking:** The task requires transforming the data from wide to long format based on the prompt specified in `inputs.prompt`. The prompt indicates that the data has multiple columns, and I need to reshape it so that 'date', 'company', and 'price' are columns in the long format. To do this properly, I should examine the current columns of the DataFrame to understand its structure. Then, I can use pandas' `melt` function to reshape the DataFrame accordingly. Before proceeding, I will check the existing columns and data to plan the melt operation. After confirming the structure, I will perform the transformation, verify the result with `task_continue()`, then finish with `task_success()`.\n",
              "\n",
              "**Code:**\n",
              "```python\n",
              "# First, examine the current columns of the DataFrame\n",
              "print('===Columns in the DataFrame===')\n",
              "print(inputs.df.columns)\n",
              "print('===First few rows of the DataFrame===')\n",
              "print(inputs.df.head())\n",
              "# Based on the prompt, we need to reshape wide to long with 'date', 'company', and 'price'\n",
              "# Assuming the original DataFrame has columns that represent different companies or dates,\n",
              "# we need to identify which columns to melt.\n",
              "# For the example, let's assume the DataFrame has 'date' and multiple company columns like 'A', 'B', 'C', etc.\n",
              "# We will melt on 'date' and unpivot the other columns into 'company' and 'price'.\n",
              "\n",
              "# Check if 'date' is already a column\n",
              "if 'date' not in inputs.df.columns:\n",
              "    # If 'date' is part of the index or needs to be created, handle accordingly\n",
              "    # For now, we assume 'date' is a column; otherwise, more info is needed.\n",
              "    pass\n",
              "\n",
              "# Identify columns to melt; assuming all columns except 'date' are company data\n",
              "id_vars = ['date'] if 'date' in inputs.df.columns else []\n",
              "value_vars = [col for col in inputs.df.columns if col not in id_vars]\n",
              "\n",
              "# Perform the melt operation\n",
              "long_df = inputs.df.melt(id_vars=id_vars, value_vars=value_vars,\n",
              "                        var_name='company', value_name='price')\n",
              "\n",
              "# Verify the transformation\n",
              "task_continue('Check the transformed long DataFrame:', long_df.head())\n",
              "# Upon verification, complete the task\n",
              "task_success(long_df)\n",
              "```"
            ],
            "text/plain": [
              "ActionEvent(ActionEvent[data_expert] @ 06:55:51)"
            ]
          },
          "metadata": {},
          "output_type": "display_data"
        },
        {
          "data": {
            "text/html": [
              "\n",
              "    <div style=\"border: 1px solid #e1e4e8; border-radius: 8px; padding: 16px; margin: 8px 0; background: #f6f8fa;\">\n",
              "        <div style=\"font-weight: 600; color: #24292e; margin-bottom: 8px; font-size: 14px;\">\n",
              "            🧠 ActionEvent - data_expert\n",
              "        </div>\n",
              "        <div style=\"font-size: 12px; color: #6a737d; margin-bottom: 12px;\">\n",
              "            2025-07-30T06:55:53Z\n",
              "        </div>\n",
              "        \n",
              "    <div style=\"margin-bottom: 16px;\">\n",
              "        <div style=\"font-weight: 600; margin-bottom: 6px; color: #0366d6; font-size: 13px;\">\n",
              "            💭 Thinking:\n",
              "        </div>\n",
              "        <div style=\"background: #fff; padding: 12px; border-radius: 6px; border-left: 3px solid #0366d6; color: #24292e; line-height: 1.4;\">\n",
              "            The DataFrame has been successfully transformed from wide to long format, with &#x27;date&#x27; as the identifier, and &#x27;company&#x27; and &#x27;price&#x27; as the melted variables. The verification output looks correct, showing &#x27;date&#x27;, &#x27;company&#x27;, and &#x27;price&#x27; columns with appropriate data. I will now finalize the task by calling `task_success()` with the transformed DataFrame.\n",
              "        </div>\n",
              "    </div>\n",
              "    \n",
              "        <div>\n",
              "            <div style=\"font-weight: 600; margin-bottom: 6px; color: #28a745; font-size: 13px;\">\n",
              "                🐍 Code:\n",
              "            </div>\n",
              "            <div style=\"background: #fff; padding: 16px; border-radius: 6px; border-left: 3px solid #28a745; overflow-x: auto; font-family: 'SFMono-Regular', 'Monaco', 'Inconsolata', 'Roboto Mono', monospace; font-size: 13px; line-height: 1.45; margin: 0;\"><div class=\"highlight\"><pre style=\"line-height: 125%;\"><span></span><span style=\"color: #657B83\">task_success(long_df)</span>\n",
              "</pre></div>\n",
              "</div>\n",
              "        </div>\n",
              "        \n",
              "    </div>\n",
              "    "
            ],
            "text/markdown": [
              "## 🧠 ActionEvent - data_expert\n",
              "**Time:** 06:55:53  \n",
              "**Thinking:** The DataFrame has been successfully transformed from wide to long format, with 'date' as the identifier, and 'company' and 'price' as the melted variables. The verification output looks correct, showing 'date', 'company', and 'price' columns with appropriate data. I will now finalize the task by calling `task_success()` with the transformed DataFrame.\n",
              "\n",
              "**Code:**\n",
              "```python\n",
              "task_success(long_df)\n",
              "```"
            ],
            "text/plain": [
              "ActionEvent(ActionEvent[data_expert] @ 06:55:53)"
            ]
          },
          "metadata": {},
          "output_type": "display_data"
        },
        {
          "data": {
            "text/html": [
              "<div>\n",
              "<style scoped>\n",
              "    .dataframe tbody tr th:only-of-type {\n",
              "        vertical-align: middle;\n",
              "    }\n",
              "\n",
              "    .dataframe tbody tr th {\n",
              "        vertical-align: top;\n",
              "    }\n",
              "\n",
              "    .dataframe thead th {\n",
              "        text-align: right;\n",
              "    }\n",
              "</style>\n",
              "<table border=\"1\" class=\"dataframe\">\n",
              "  <thead>\n",
              "    <tr style=\"text-align: right;\">\n",
              "      <th></th>\n",
              "      <th>date</th>\n",
              "      <th>company</th>\n",
              "      <th>price</th>\n",
              "    </tr>\n",
              "  </thead>\n",
              "  <tbody>\n",
              "    <tr>\n",
              "      <th>0</th>\n",
              "      <td>2018-01-01</td>\n",
              "      <td>GOOG</td>\n",
              "      <td>1.000000</td>\n",
              "    </tr>\n",
              "    <tr>\n",
              "      <th>1</th>\n",
              "      <td>2018-01-08</td>\n",
              "      <td>GOOG</td>\n",
              "      <td>1.018172</td>\n",
              "    </tr>\n",
              "    <tr>\n",
              "      <th>2</th>\n",
              "      <td>2018-01-15</td>\n",
              "      <td>GOOG</td>\n",
              "      <td>1.032008</td>\n",
              "    </tr>\n",
              "    <tr>\n",
              "      <th>3</th>\n",
              "      <td>2018-01-22</td>\n",
              "      <td>GOOG</td>\n",
              "      <td>1.066783</td>\n",
              "    </tr>\n",
              "    <tr>\n",
              "      <th>4</th>\n",
              "      <td>2018-01-29</td>\n",
              "      <td>GOOG</td>\n",
              "      <td>1.008773</td>\n",
              "    </tr>\n",
              "  </tbody>\n",
              "</table>\n",
              "</div>"
            ],
            "text/plain": [
              "         date company     price\n",
              "0  2018-01-01    GOOG  1.000000\n",
              "1  2018-01-08    GOOG  1.018172\n",
              "2  2018-01-15    GOOG  1.032008\n",
              "3  2018-01-22    GOOG  1.066783\n",
              "4  2018-01-29    GOOG  1.008773"
            ]
          },
          "metadata": {},
          "output_type": "display_data"
        }
      ],
      "source": [
        "from agex import ActionEvent, Event\n",
        "\n",
        "def display_action(event: Event):\n",
        "    if isinstance(event, ActionEvent):\n",
        "        display(event)\n",
        "\n",
        "prompt = \"Reshape this data from wide to long with 'date', 'company', and 'price' cols\"\n",
        "long_df = transform_data(prompt, df, on_event=display_action)\n",
        "display(long_df.head())"
      ]
    },
    {
      "cell_type": "markdown",
      "metadata": {},
      "source": [
        "Now that the agent has prepared the data, let's ask it to create the final visualization."
      ]
    },
    {
      "cell_type": "code",
      "execution_count": 6,
      "metadata": {},
      "outputs": [
        {
          "data": {
            "text/html": [
              "\n",
              "    <div style=\"border: 1px solid #e1e4e8; border-radius: 8px; padding: 16px; margin: 8px 0; background: #f6f8fa;\">\n",
              "        <div style=\"font-weight: 600; color: #24292e; margin-bottom: 8px; font-size: 14px;\">\n",
              "            🧠 ActionEvent - data_expert\n",
              "        </div>\n",
              "        <div style=\"font-size: 12px; color: #6a737d; margin-bottom: 12px;\">\n",
              "            2025-07-30T06:55:57Z\n",
              "        </div>\n",
              "        \n",
              "    <div style=\"margin-bottom: 16px;\">\n",
              "        <div style=\"font-weight: 600; margin-bottom: 6px; color: #0366d6; font-size: 13px;\">\n",
              "            💭 Thinking:\n",
              "        </div>\n",
              "        <div style=\"background: #fff; padding: 12px; border-radius: 6px; border-left: 3px solid #0366d6; color: #24292e; line-height: 1.4;\">\n",
              "            First, I will examine the `inputs` object to understand the structure of the DataFrame and the prompt. The DataFrame has columns &#x27;date&#x27;, &#x27;company&#x27;, and &#x27;price&#x27;, which suggests it&#x27;s time series data for multiple companies. The prompt indicates that I should create a line chart showing stock prices over time, with a different color for each company. To do this, I will use `matplotlib` or `plotly`, but given the environment supports `plotly.express`, I will prefer to use `plotly.express` for easier plotting. I will import `plotly.express` as `px`, then create a line plot with `px.line()`, setting the x-axis to &#x27;date&#x27;, y-axis to &#x27;price&#x27;, and color to &#x27;company&#x27;. After creating the figure, I will use `view_image()` to display it and then proceed to verify it with `task_success()` in the next iteration.\n",
              "        </div>\n",
              "    </div>\n",
              "    \n",
              "        <div>\n",
              "            <div style=\"font-weight: 600; margin-bottom: 6px; color: #28a745; font-size: 13px;\">\n",
              "                🐍 Code:\n",
              "            </div>\n",
              "            <div style=\"background: #fff; padding: 16px; border-radius: 6px; border-left: 3px solid #28a745; overflow-x: auto; font-family: 'SFMono-Regular', 'Monaco', 'Inconsolata', 'Roboto Mono', monospace; font-size: 13px; line-height: 1.45; margin: 0;\"><div class=\"highlight\"><pre style=\"line-height: 125%;\"><span></span><span style=\"color: #CB4B16\">import</span><span style=\"color: #657B83\"> </span><span style=\"color: #268BD2\">plotly.express</span><span style=\"color: #657B83\"> </span><span style=\"color: #859900\">as</span><span style=\"color: #657B83\"> </span><span style=\"color: #268BD2\">px</span>\n",
              "\n",
              "<span style=\"color: #93A1A1; font-style: italic\"># Access the DataFrame and prompt from inputs</span>\n",
              "<span style=\"color: #657B83\">df</span> <span style=\"color: #93A1A1\">=</span> <span style=\"color: #657B83\">inputs</span><span style=\"color: #93A1A1\">.</span><span style=\"color: #657B83\">df</span>\n",
              "<span style=\"color: #657B83\">prompt</span> <span style=\"color: #93A1A1\">=</span> <span style=\"color: #657B83\">inputs</span><span style=\"color: #93A1A1\">.</span><span style=\"color: #657B83\">prompt</span>\n",
              "\n",
              "<span style=\"color: #93A1A1; font-style: italic\"># Create a line plot with plotly.express</span>\n",
              "<span style=\"color: #657B83\">fig</span> <span style=\"color: #93A1A1\">=</span> <span style=\"color: #657B83\">px</span><span style=\"color: #93A1A1\">.</span><span style=\"color: #657B83\">line(df,</span> <span style=\"color: #657B83\">x</span><span style=\"color: #93A1A1\">=</span><span style=\"color: #2AA198\">&#39;date&#39;</span><span style=\"color: #657B83\">,</span> <span style=\"color: #657B83\">y</span><span style=\"color: #93A1A1\">=</span><span style=\"color: #2AA198\">&#39;price&#39;</span><span style=\"color: #657B83\">,</span> <span style=\"color: #657B83\">color</span><span style=\"color: #93A1A1\">=</span><span style=\"color: #2AA198\">&#39;company&#39;</span><span style=\"color: #657B83\">,</span> <span style=\"color: #657B83\">title</span><span style=\"color: #93A1A1\">=</span><span style=\"color: #657B83\">prompt)</span>\n",
              "\n",
              "<span style=\"color: #93A1A1; font-style: italic\"># View the generated figure</span>\n",
              "<span style=\"color: #657B83\">view_image(fig)</span>\n",
              "\n",
              "<span style=\"color: #93A1A1; font-style: italic\"># Proceed to verify the result in the next iteration</span>\n",
              "</pre></div>\n",
              "</div>\n",
              "        </div>\n",
              "        \n",
              "    </div>\n",
              "    "
            ],
            "text/markdown": [
              "## 🧠 ActionEvent - data_expert\n",
              "**Time:** 06:55:57  \n",
              "**Thinking:** First, I will examine the `inputs` object to understand the structure of the DataFrame and the prompt. The DataFrame has columns 'date', 'company', and 'price', which suggests it's time series data for multiple companies. The prompt indicates that I should create a line chart showing stock prices over time, with a different color for each company. To do this, I will use `matplotlib` or `plotly`, but given the environment supports `plotly.express`, I will prefer to use `plotly.express` for easier plotting. I will import `plotly.express` as `px`, then create a line plot with `px.line()`, setting the x-axis to 'date', y-axis to 'price', and color to 'company'. After creating the figure, I will use `view_image()` to display it and then proceed to verify it with `task_success()` in the next iteration.\n",
              "\n",
              "**Code:**\n",
              "```python\n",
              "import plotly.express as px\n",
              "\n",
              "# Access the DataFrame and prompt from inputs\n",
              "df = inputs.df\n",
              "prompt = inputs.prompt\n",
              "\n",
              "# Create a line plot with plotly.express\n",
              "fig = px.line(df, x='date', y='price', color='company', title=prompt)\n",
              "\n",
              "# View the generated figure\n",
              "view_image(fig)\n",
              "\n",
              "# Proceed to verify the result in the next iteration\n",
              "\n",
              "```"
            ],
            "text/plain": [
              "ActionEvent(ActionEvent[data_expert] @ 06:55:57)"
            ]
          },
          "metadata": {},
          "output_type": "display_data"
        },
        {
          "data": {
            "text/html": [
              "\n",
              "    <div style=\"border: 1px solid #e1e4e8; border-radius: 8px; padding: 16px; margin: 8px 0; background: #f6f8fa;\">\n",
              "        <div style=\"font-weight: 600; color: #24292e; margin-bottom: 8px; font-size: 14px;\">\n",
              "            🧠 ActionEvent - data_expert\n",
              "        </div>\n",
              "        <div style=\"font-size: 12px; color: #6a737d; margin-bottom: 12px;\">\n",
              "            2025-07-30T06:56:00Z\n",
              "        </div>\n",
              "        \n",
              "    <div style=\"margin-bottom: 16px;\">\n",
              "        <div style=\"font-weight: 600; margin-bottom: 6px; color: #0366d6; font-size: 13px;\">\n",
              "            💭 Thinking:\n",
              "        </div>\n",
              "        <div style=\"background: #fff; padding: 12px; border-radius: 6px; border-left: 3px solid #0366d6; color: #24292e; line-height: 1.4;\">\n",
              "            The printed output is a plot generated by plotly.express, which is suitable for visualization. The plot shows stock prices over time for multiple companies, with different colors for each. This matches the task requirement. Now, I will verify this result by calling `task_success()` with the figure object `fig`.\n",
              "        </div>\n",
              "    </div>\n",
              "    \n",
              "        <div>\n",
              "            <div style=\"font-weight: 600; margin-bottom: 6px; color: #28a745; font-size: 13px;\">\n",
              "                🐍 Code:\n",
              "            </div>\n",
              "            <div style=\"background: #fff; padding: 16px; border-radius: 6px; border-left: 3px solid #28a745; overflow-x: auto; font-family: 'SFMono-Regular', 'Monaco', 'Inconsolata', 'Roboto Mono', monospace; font-size: 13px; line-height: 1.45; margin: 0;\"><div class=\"highlight\"><pre style=\"line-height: 125%;\"><span></span><span style=\"color: #657B83\">task_success(fig)</span>\n",
              "</pre></div>\n",
              "</div>\n",
              "        </div>\n",
              "        \n",
              "    </div>\n",
              "    "
            ],
            "text/markdown": [
              "## 🧠 ActionEvent - data_expert\n",
              "**Time:** 06:56:00  \n",
              "**Thinking:** The printed output is a plot generated by plotly.express, which is suitable for visualization. The plot shows stock prices over time for multiple companies, with different colors for each. This matches the task requirement. Now, I will verify this result by calling `task_success()` with the figure object `fig`.\n",
              "\n",
              "**Code:**\n",
              "```python\n",
              "task_success(fig)\n",
              "```"
            ],
            "text/plain": [
              "ActionEvent(ActionEvent[data_expert] @ 06:56:00)"
            ]
          },
          "metadata": {},
          "output_type": "display_data"
        },
        {
          "data": {
            "application/vnd.plotly.v1+json": {
              "config": {
                "plotlyServerURL": "https://plot.ly"
              },
              "data": [
                {
                  "hovertemplate": "company=GOOG<br>date=%{x}<br>price=%{y}<extra></extra>",
                  "legendgroup": "GOOG",
                  "line": {
                    "color": "#636efa",
                    "dash": "solid"
                  },
                  "marker": {
                    "symbol": "circle"
                  },
                  "mode": "lines",
                  "name": "GOOG",
                  "orientation": "v",
                  "showlegend": true,
                  "type": "scatter",
                  "x": [
                    "2018-01-01",
                    "2018-01-08",
                    "2018-01-15",
                    "2018-01-22",
                    "2018-01-29",
                    "2018-02-05",
                    "2018-02-12",
                    "2018-02-19",
                    "2018-02-26",
                    "2018-03-05",
                    "2018-03-12",
                    "2018-03-19",
                    "2018-03-26",
                    "2018-04-02",
                    "2018-04-09",
                    "2018-04-16",
                    "2018-04-23",
                    "2018-04-30",
                    "2018-05-07",
                    "2018-05-14",
                    "2018-05-21",
                    "2018-05-28",
                    "2018-06-04",
                    "2018-06-11",
                    "2018-06-18",
                    "2018-06-25",
                    "2018-07-02",
                    "2018-07-09",
                    "2018-07-16",
                    "2018-07-23",
                    "2018-07-30",
                    "2018-08-06",
                    "2018-08-13",
                    "2018-08-20",
                    "2018-08-27",
                    "2018-09-03",
                    "2018-09-10",
                    "2018-09-17",
                    "2018-09-24",
                    "2018-10-01",
                    "2018-10-08",
                    "2018-10-15",
                    "2018-10-22",
                    "2018-10-29",
                    "2018-11-05",
                    "2018-11-12",
                    "2018-11-19",
                    "2018-11-26",
                    "2018-12-03",
                    "2018-12-10",
                    "2018-12-17",
                    "2018-12-24",
                    "2018-12-31",
                    "2019-01-07",
                    "2019-01-14",
                    "2019-01-21",
                    "2019-01-28",
                    "2019-02-04",
                    "2019-02-11",
                    "2019-02-18",
                    "2019-02-25",
                    "2019-03-04",
                    "2019-03-11",
                    "2019-03-18",
                    "2019-03-25",
                    "2019-04-01",
                    "2019-04-08",
                    "2019-04-15",
                    "2019-04-22",
                    "2019-04-29",
                    "2019-05-06",
                    "2019-05-13",
                    "2019-05-20",
                    "2019-05-27",
                    "2019-06-03",
                    "2019-06-10",
                    "2019-06-17",
                    "2019-06-24",
                    "2019-07-01",
                    "2019-07-08",
                    "2019-07-15",
                    "2019-07-22",
                    "2019-07-29",
                    "2019-08-05",
                    "2019-08-12",
                    "2019-08-19",
                    "2019-08-26",
                    "2019-09-02",
                    "2019-09-09",
                    "2019-09-16",
                    "2019-09-23",
                    "2019-09-30",
                    "2019-10-07",
                    "2019-10-14",
                    "2019-10-21",
                    "2019-10-28",
                    "2019-11-04",
                    "2019-11-11",
                    "2019-11-18",
                    "2019-11-25",
                    "2019-12-02",
                    "2019-12-09",
                    "2019-12-16",
                    "2019-12-23",
                    "2019-12-30"
                  ],
                  "xaxis": "x",
                  "y": {
                    "bdata": "AAAAAAAA8D/OK9MDb0rwP68QOq4ag/A/9oPp0ooR8T8TsS9U7yPwP99D4KT+IO4/3Hw6e8fI7z+q8F+IRFvwP9LSdHnBUu8/LIMaANTW8D8JvFtMfXzwPz7QZruEqO0/HpxM0nn07T+3TPA/hzztPxfM6R6/4e0/IXrkjXUm7z8heCA9i+ftP6NcPhmDbu4/QjPHjn7i7z+qgyQlaPXuP+V5ctWGOu8/ZFIUWy1A8D9vrqGpREXwP4WiXq/qufA/U4wX6uHF8D/pH6HJ3jHwP3Um9zr9jPA/0NEB+MZB8T9XHtVhPzPxPyuHvbZk+vE/NwuPnm7D8T/XXM4FFvfxP6hIRQnkbvE/az8Jog+48T9kWBFN667xP01QZMGg6PA/pI7CAT4F8T+UMFxuT+3wP6R7NKQOU/E/85Ml4tTM8D/YyoXbKx3wP2L4PrQd1e8/L6n6oWIb7z/SWD6VtrXuP9oE9qnY8+4/8kBpRjbR7j+goGHWr7ntP/MQKYMHxu8/XzbgVBMY7j8FnNv3GUHuP7udcIUkcOw/dtxkp8ob7j+2jo+avBXvP53HSc9Ase4/QjPHjn7i7z9LiPtKdqzvPxmlC0mpH/A/OvEgMLbK7z+605ckcCrwP3zeMMc/HvA/rDRmQwmQ8D+apul6+pTwPymUuDeTMfE/Lh6kE8N/8T8zPRwRJAjxPzJ9CsjkhfE/OJ3k7bqt8T/lnXpkevLxPxPbLk2Nd/I/umBFhRE18T9FfGgTjObwP4oJl/853/A/NI4dTRd08D8JjgPgMwXwP1INy2YH8+4/3LqtWYuC7z8wZfiBBUnwP9tJ47eLYe8/dM57zxpt8D8PGkn3kJ7wP/vlhlmRZ/A/R53F/qYm8j95l9xY/VTxP0LUZHXEPvE/R7cjKRUY8T/i1RHuT7bwPzyHlAsaP/E/fDnW36R98T+zOPArVf7xP79xyu6L2vE/7Hfuco/I8T9/Y3S0xIzxP06g9q+8pPE/IwGMcl4U8j+pVbJuWl3yPzJVr01ZffI/r0ZXkS8J8z/PhYSkg2DzP8kL1dedzfI/E8Ioj13x8j/WQP++4XXzP+AKN76skPM/MT5xFDeX8z+urvcqw5/zP2qQawKBaPM/",
                    "dtype": "f8"
                  },
                  "yaxis": "y"
                },
                {
                  "hovertemplate": "company=AAPL<br>date=%{x}<br>price=%{y}<extra></extra>",
                  "legendgroup": "AAPL",
                  "line": {
                    "color": "#EF553B",
                    "dash": "solid"
                  },
                  "marker": {
                    "symbol": "circle"
                  },
                  "mode": "lines",
                  "name": "AAPL",
                  "orientation": "v",
                  "showlegend": true,
                  "type": "scatter",
                  "x": [
                    "2018-01-01",
                    "2018-01-08",
                    "2018-01-15",
                    "2018-01-22",
                    "2018-01-29",
                    "2018-02-05",
                    "2018-02-12",
                    "2018-02-19",
                    "2018-02-26",
                    "2018-03-05",
                    "2018-03-12",
                    "2018-03-19",
                    "2018-03-26",
                    "2018-04-02",
                    "2018-04-09",
                    "2018-04-16",
                    "2018-04-23",
                    "2018-04-30",
                    "2018-05-07",
                    "2018-05-14",
                    "2018-05-21",
                    "2018-05-28",
                    "2018-06-04",
                    "2018-06-11",
                    "2018-06-18",
                    "2018-06-25",
                    "2018-07-02",
                    "2018-07-09",
                    "2018-07-16",
                    "2018-07-23",
                    "2018-07-30",
                    "2018-08-06",
                    "2018-08-13",
                    "2018-08-20",
                    "2018-08-27",
                    "2018-09-03",
                    "2018-09-10",
                    "2018-09-17",
                    "2018-09-24",
                    "2018-10-01",
                    "2018-10-08",
                    "2018-10-15",
                    "2018-10-22",
                    "2018-10-29",
                    "2018-11-05",
                    "2018-11-12",
                    "2018-11-19",
                    "2018-11-26",
                    "2018-12-03",
                    "2018-12-10",
                    "2018-12-17",
                    "2018-12-24",
                    "2018-12-31",
                    "2019-01-07",
                    "2019-01-14",
                    "2019-01-21",
                    "2019-01-28",
                    "2019-02-04",
                    "2019-02-11",
                    "2019-02-18",
                    "2019-02-25",
                    "2019-03-04",
                    "2019-03-11",
                    "2019-03-18",
                    "2019-03-25",
                    "2019-04-01",
                    "2019-04-08",
                    "2019-04-15",
                    "2019-04-22",
                    "2019-04-29",
                    "2019-05-06",
                    "2019-05-13",
                    "2019-05-20",
                    "2019-05-27",
                    "2019-06-03",
                    "2019-06-10",
                    "2019-06-17",
                    "2019-06-24",
                    "2019-07-01",
                    "2019-07-08",
                    "2019-07-15",
                    "2019-07-22",
                    "2019-07-29",
                    "2019-08-05",
                    "2019-08-12",
                    "2019-08-19",
                    "2019-08-26",
                    "2019-09-02",
                    "2019-09-09",
                    "2019-09-16",
                    "2019-09-23",
                    "2019-09-30",
                    "2019-10-07",
                    "2019-10-14",
                    "2019-10-21",
                    "2019-10-28",
                    "2019-11-04",
                    "2019-11-11",
                    "2019-11-18",
                    "2019-11-25",
                    "2019-12-02",
                    "2019-12-09",
                    "2019-12-16",
                    "2019-12-23",
                    "2019-12-30"
                  ],
                  "xaxis": "x",
                  "y": {
                    "bdata": "AAAAAAAA8D/q2yr46jDwP+aHLuP7UPA/hjfCvKBc7z/HCCb6O1ntP0x+P5bGmew/RAa0vbGH7z9VGnLuswvwP2kRLTJSHPA/RdD7c4908D8I1SVzr0bwP0G2R74TKe4/ohoFfQWu7j/2V7LLG8ruP5V3m1hc8+8/fxuQCZdN7j+Esxtxbq7tPxcaOCmszvA/ijlrZBU+8T+0Zvn0twjxPz0UdILZPfE/B08YBbRk8T/xL3wX4IbxP7RGpFvvQ/E/V8F+RC/o8D8KZ069oezwP3+hnXeSL/E/D6XnITd+8T+wTsM8yoDxP5ATyvEFdvE/y/XqlScE8z+quvFKY/nyP3YLToid5PM/wQljGWHD8z9AXKrF18/0P9LFrESvO/Q/5nnXjiJ39D/AWLnkfObzP4+cvSabo/Q/ElLX4KqB9D+QA0qqpE70P5UwZG4bDfQ/gb439KfG8z+AeH+uN/jyP24GUzTEsfI/Y9l2NrWx8T8zP/kEJIHvP5wFiuHKU/A/OKtpAULP7j9SqR3iWkLuP8SX0e3ij+s/D9ufa1mR7D+ypk4dQxzrP7AEUYHp2Os/OXBN8/es7D9Ljz6C+NjsP9Huyg0Kc+4/3EA1vyIp7z91iyODminvPxkXfQz5oO8/wukNgJj+7z8sSKoPKp7vPwHBKXxFBPE/xYy1aql38T/I0+xU6l3xP5WGnPvsAvI/dGCHvLEu8j94QgUrfaPyP45GhZnJrfI/XI/C9Shc8z+KGup5IwfyP0jhehSuR/E/h8eXs+tc8D81eet4owHwP8ies6+YYvE/sNJSrTef8T/f7SR+lizyP/VtFXx1GPI/Ws2ZICas8j/kEaG8YZbyP9Ia5njDhfI/oeixnk3+8j9FLlPiO6fyPyeFrYtQYPI/4XoUrkfh8j/9XFgV74byP0sdlnu1FfM/cLKYpIB/8z8AAAAAAAD0P0uUokYg6PM/NXnreKMB9D+NhtrBVMH0Py1pqfepmPU/LTRwUlid9T+vAiiOYYv2P7sV52WmY/c/ih0lS8PI9z/mvGeITUz4P6HjTdol7/c/Jvo7WS1v+D+cld8jKcD4Px8beQcVKPk/Bmk1K36M+T+Rn7rI+X76P2Lp9n0W2fo/",
                    "dtype": "f8"
                  },
                  "yaxis": "y"
                },
                {
                  "hovertemplate": "company=AMZN<br>date=%{x}<br>price=%{y}<extra></extra>",
                  "legendgroup": "AMZN",
                  "line": {
                    "color": "#00cc96",
                    "dash": "solid"
                  },
                  "marker": {
                    "symbol": "circle"
                  },
                  "mode": "lines",
                  "name": "AMZN",
                  "orientation": "v",
                  "showlegend": true,
                  "type": "scatter",
                  "x": [
                    "2018-01-01",
                    "2018-01-08",
                    "2018-01-15",
                    "2018-01-22",
                    "2018-01-29",
                    "2018-02-05",
                    "2018-02-12",
                    "2018-02-19",
                    "2018-02-26",
                    "2018-03-05",
                    "2018-03-12",
                    "2018-03-19",
                    "2018-03-26",
                    "2018-04-02",
                    "2018-04-09",
                    "2018-04-16",
                    "2018-04-23",
                    "2018-04-30",
                    "2018-05-07",
                    "2018-05-14",
                    "2018-05-21",
                    "2018-05-28",
                    "2018-06-04",
                    "2018-06-11",
                    "2018-06-18",
                    "2018-06-25",
                    "2018-07-02",
                    "2018-07-09",
                    "2018-07-16",
                    "2018-07-23",
                    "2018-07-30",
                    "2018-08-06",
                    "2018-08-13",
                    "2018-08-20",
                    "2018-08-27",
                    "2018-09-03",
                    "2018-09-10",
                    "2018-09-17",
                    "2018-09-24",
                    "2018-10-01",
                    "2018-10-08",
                    "2018-10-15",
                    "2018-10-22",
                    "2018-10-29",
                    "2018-11-05",
                    "2018-11-12",
                    "2018-11-19",
                    "2018-11-26",
                    "2018-12-03",
                    "2018-12-10",
                    "2018-12-17",
                    "2018-12-24",
                    "2018-12-31",
                    "2019-01-07",
                    "2019-01-14",
                    "2019-01-21",
                    "2019-01-28",
                    "2019-02-04",
                    "2019-02-11",
                    "2019-02-18",
                    "2019-02-25",
                    "2019-03-04",
                    "2019-03-11",
                    "2019-03-18",
                    "2019-03-25",
                    "2019-04-01",
                    "2019-04-08",
                    "2019-04-15",
                    "2019-04-22",
                    "2019-04-29",
                    "2019-05-06",
                    "2019-05-13",
                    "2019-05-20",
                    "2019-05-27",
                    "2019-06-03",
                    "2019-06-10",
                    "2019-06-17",
                    "2019-06-24",
                    "2019-07-01",
                    "2019-07-08",
                    "2019-07-15",
                    "2019-07-22",
                    "2019-07-29",
                    "2019-08-05",
                    "2019-08-12",
                    "2019-08-19",
                    "2019-08-26",
                    "2019-09-02",
                    "2019-09-09",
                    "2019-09-16",
                    "2019-09-23",
                    "2019-09-30",
                    "2019-10-07",
                    "2019-10-14",
                    "2019-10-21",
                    "2019-10-28",
                    "2019-11-04",
                    "2019-11-11",
                    "2019-11-18",
                    "2019-11-25",
                    "2019-12-02",
                    "2019-12-09",
                    "2019-12-16",
                    "2019-12-23",
                    "2019-12-30"
                  ],
                  "xaxis": "x",
                  "y": {
                    "bdata": "AAAAAAAA8D/BgjiGdv3wP3v2rqIS2vA/evlFFDVA8j/16txoLp3yPzm1ihcZcPE/OCGucaHb8j90WGrqnYbzP0gipDBzh/M/evXNxYKN9D9A2335e3X0PwbAzzbSd/M/R5a4yCHX8j/rtaLezUryP9y4Hhb7n/I/siYijTni8z8Wau/VnXj0Px4bNRlglPQ/EZJ7L47d9D/h7oPBcn70Pz2E6pmu9fQ/7lVqVkle9T8Sr3FGv+v1P/mrVE9RVvY/YQ1ncVFV9j+38h/LbiD2PwaGp8yFRPY/JEEo+8KZ9z8OGV59/pv3P/ilGRvkp/c/8H6GxPO79z92FoZv7Y34P6PzcbtUgPg/85idCIvN+D8MkypjLTP6P3iDQY4Zafk/lbaQrHul+T/o/T/Tme34P4qWmNjREvo/BfBJSheZ+D+yqttOYkj3P9a66TZ59vY/whzFyYRi9T+UGvkhO671P3W4lGqFSvY/mpznwuW99D+NP65Ye43zP+qiYHZXAPY/E4IQX+409T+i4Ywd5rj0PxBbdc067vE/Rs3G2l498z/i66Tu2IH0P08EvVEFW/U/3I1Fj28U9j8PyROsBr/1P/ClL15EK/U/0s36IZqs9D+LQJa5We70P3+inHEHPfU/piJFS+TC9T8L0cobLBn1PyM1AqRJSvY/Exayf/D49j9hter5MC73P3e6DZeS6vc/DJ2VhNX99z8zjZie6jv4P/tgXCVNZPk/mxvLP7mL+T+PZlbGMJr4P7ECms9GVPg/GJRpOuu79z8xVW9WQxv3P1XfBxvFe/c/ebN0bIJW+D9E7RjePOH4Py6g5Jlapvg/Qch7QpNK+T8J0dGfei36P7YCD66Wkvk/bw3EtApL+T9O0S0Sybv3P6+95ImZh/c/KYU8ipRV9z9dmMENdMb2P0NHFjJUH/c/9PmoZQLe9z+zyKzqb/H3P42wKwrhWvc/vsuup+h19j8t59iyOqX2PzRME0Z4i/Y/OE4JAb/g9j9+4yHKee32P4IDKonQUfc/RtSZXkk/9z/mtI4ssqT2P4J9MfR0ufY/QnVSngFx9z/l+Y0rDc32P3zUnxEt7PY/bdcbSVpB9z/NDaBU8Vb4P9qWWT7DDfg/",
                    "dtype": "f8"
                  },
                  "yaxis": "y"
                },
                {
                  "hovertemplate": "company=FB<br>date=%{x}<br>price=%{y}<extra></extra>",
                  "legendgroup": "FB",
                  "line": {
                    "color": "#ab63fa",
                    "dash": "solid"
                  },
                  "marker": {
                    "symbol": "circle"
                  },
                  "mode": "lines",
                  "name": "FB",
                  "orientation": "v",
                  "showlegend": true,
                  "type": "scatter",
                  "x": [
                    "2018-01-01",
                    "2018-01-08",
                    "2018-01-15",
                    "2018-01-22",
                    "2018-01-29",
                    "2018-02-05",
                    "2018-02-12",
                    "2018-02-19",
                    "2018-02-26",
                    "2018-03-05",
                    "2018-03-12",
                    "2018-03-19",
                    "2018-03-26",
                    "2018-04-02",
                    "2018-04-09",
                    "2018-04-16",
                    "2018-04-23",
                    "2018-04-30",
                    "2018-05-07",
                    "2018-05-14",
                    "2018-05-21",
                    "2018-05-28",
                    "2018-06-04",
                    "2018-06-11",
                    "2018-06-18",
                    "2018-06-25",
                    "2018-07-02",
                    "2018-07-09",
                    "2018-07-16",
                    "2018-07-23",
                    "2018-07-30",
                    "2018-08-06",
                    "2018-08-13",
                    "2018-08-20",
                    "2018-08-27",
                    "2018-09-03",
                    "2018-09-10",
                    "2018-09-17",
                    "2018-09-24",
                    "2018-10-01",
                    "2018-10-08",
                    "2018-10-15",
                    "2018-10-22",
                    "2018-10-29",
                    "2018-11-05",
                    "2018-11-12",
                    "2018-11-19",
                    "2018-11-26",
                    "2018-12-03",
                    "2018-12-10",
                    "2018-12-17",
                    "2018-12-24",
                    "2018-12-31",
                    "2019-01-07",
                    "2019-01-14",
                    "2019-01-21",
                    "2019-01-28",
                    "2019-02-04",
                    "2019-02-11",
                    "2019-02-18",
                    "2019-02-25",
                    "2019-03-04",
                    "2019-03-11",
                    "2019-03-18",
                    "2019-03-25",
                    "2019-04-01",
                    "2019-04-08",
                    "2019-04-15",
                    "2019-04-22",
                    "2019-04-29",
                    "2019-05-06",
                    "2019-05-13",
                    "2019-05-20",
                    "2019-05-27",
                    "2019-06-03",
                    "2019-06-10",
                    "2019-06-17",
                    "2019-06-24",
                    "2019-07-01",
                    "2019-07-08",
                    "2019-07-15",
                    "2019-07-22",
                    "2019-07-29",
                    "2019-08-05",
                    "2019-08-12",
                    "2019-08-19",
                    "2019-08-26",
                    "2019-09-02",
                    "2019-09-09",
                    "2019-09-16",
                    "2019-09-23",
                    "2019-09-30",
                    "2019-10-07",
                    "2019-10-14",
                    "2019-10-21",
                    "2019-10-28",
                    "2019-11-04",
                    "2019-11-11",
                    "2019-11-18",
                    "2019-11-25",
                    "2019-12-02",
                    "2019-12-09",
                    "2019-12-16",
                    "2019-12-23",
                    "2019-12-30"
                  ],
                  "xaxis": "x",
                  "y": {
                    "bdata": "AAAAAAAA8D/gjPh0DrjuPz+Xr/k7DO8/b0D2Ug1F8D+iFp+jMEvwPw5HHTMhKe4/sDNC2e5f7j93q+pp62PvPxNRpzp9P+4/ubpwdvm47z8mHVgk1rLvP884mZcUTOs/4n00A55d6z/KVeufEOzqPzS16lP+LOw/oTp5BCh67D/jaARfpbrtPxwMLA8NP+4/aIecpxED8D91Ie3xLEnvP3jE1CFiq+8/yuoDrISc8D9gOyGvUjHwP3/thLxKxfA/92F2lWhG8T/7oMmYwKPwP1o4QjQSZ/E/sqKJxbrA8T+tW9PQKfrxP4MVYz2k8+0/5e7MyVhy7j8JUieRE9/uP5U8Rm7aw+0/uIa2fR7p7T+vGlgheBjuP75+lBkb7Os/cv7hLYrM6z/LuaV9SOfrPz6wNfBcKuw/oh+pw8Px6j+p3mKlXlTqP+nU/vn1Yeo/JTUMAWjl6D/9zsk/vr/pPxqr9Wlu0+g/MQxjh13l5z/ZXUR8ZI/mPyegBCu3FOg/QaRZeNuI5z+MQzL3+KvoP7+vMq4jZuU/J2MmXdfP5j8ss7IHGKDnP0kN0NqSoOg/UHsUwCay6T8bNoxX/oTpP+GcWpYqYew/u4TQ9DCo7D/bKsBebtTrPxYS4+Ovues/MRIDJMnK6z+bcQLYtgvtPx0YON4Abew/Xivz9xkl7D8ZIqnGIYzsP/JG/fIHGO4/phEbLTis7j/zs9ulRIjuPyf+3gW3ZfA/T1eiM/a88D8BD1ydqSDwP9jwmTMLvO8/njl3kyYC7z+k+DB1wWTuP4U3ccofsO0/RBJuBv0N7z/mjKHWCl7wP5qPIufQhvA/TYEcMVnR8D9X5/SlBYvxP/9D13lQ/PA/uUGG9Mga8T9yNl+5kS/wPw7FDtzrFfA/syH6LuV17z8JpYIWCHHuPw/s6utDzO8/7+mjlQcO8D+tWIMCdAfwP2GlYXSEQ/A/b/3fvIhU7j/YIJoYaOfuPwYTrtxgi+8/5HXiRyjU7z94jHFLzBbwP3m+TjpolPA/pPuAQ3dX8D+02XnX2bTwP7oXDPdlBvE/+qE8XTdE8T8LmLVjSDfxP4R+mBImn/A/kyIDp16q8T9r2zkE1NHxP4h91y5ak/E/",
                    "dtype": "f8"
                  },
                  "yaxis": "y"
                },
                {
                  "hovertemplate": "company=NFLX<br>date=%{x}<br>price=%{y}<extra></extra>",
                  "legendgroup": "NFLX",
                  "line": {
                    "color": "#FFA15A",
                    "dash": "solid"
                  },
                  "marker": {
                    "symbol": "circle"
                  },
                  "mode": "lines",
                  "name": "NFLX",
                  "orientation": "v",
                  "showlegend": true,
                  "type": "scatter",
                  "x": [
                    "2018-01-01",
                    "2018-01-08",
                    "2018-01-15",
                    "2018-01-22",
                    "2018-01-29",
                    "2018-02-05",
                    "2018-02-12",
                    "2018-02-19",
                    "2018-02-26",
                    "2018-03-05",
                    "2018-03-12",
                    "2018-03-19",
                    "2018-03-26",
                    "2018-04-02",
                    "2018-04-09",
                    "2018-04-16",
                    "2018-04-23",
                    "2018-04-30",
                    "2018-05-07",
                    "2018-05-14",
                    "2018-05-21",
                    "2018-05-28",
                    "2018-06-04",
                    "2018-06-11",
                    "2018-06-18",
                    "2018-06-25",
                    "2018-07-02",
                    "2018-07-09",
                    "2018-07-16",
                    "2018-07-23",
                    "2018-07-30",
                    "2018-08-06",
                    "2018-08-13",
                    "2018-08-20",
                    "2018-08-27",
                    "2018-09-03",
                    "2018-09-10",
                    "2018-09-17",
                    "2018-09-24",
                    "2018-10-01",
                    "2018-10-08",
                    "2018-10-15",
                    "2018-10-22",
                    "2018-10-29",
                    "2018-11-05",
                    "2018-11-12",
                    "2018-11-19",
                    "2018-11-26",
                    "2018-12-03",
                    "2018-12-10",
                    "2018-12-17",
                    "2018-12-24",
                    "2018-12-31",
                    "2019-01-07",
                    "2019-01-14",
                    "2019-01-21",
                    "2019-01-28",
                    "2019-02-04",
                    "2019-02-11",
                    "2019-02-18",
                    "2019-02-25",
                    "2019-03-04",
                    "2019-03-11",
                    "2019-03-18",
                    "2019-03-25",
                    "2019-04-01",
                    "2019-04-08",
                    "2019-04-15",
                    "2019-04-22",
                    "2019-04-29",
                    "2019-05-06",
                    "2019-05-13",
                    "2019-05-20",
                    "2019-05-27",
                    "2019-06-03",
                    "2019-06-10",
                    "2019-06-17",
                    "2019-06-24",
                    "2019-07-01",
                    "2019-07-08",
                    "2019-07-15",
                    "2019-07-22",
                    "2019-07-29",
                    "2019-08-05",
                    "2019-08-12",
                    "2019-08-19",
                    "2019-08-26",
                    "2019-09-02",
                    "2019-09-09",
                    "2019-09-16",
                    "2019-09-23",
                    "2019-09-30",
                    "2019-10-07",
                    "2019-10-14",
                    "2019-10-21",
                    "2019-10-28",
                    "2019-11-04",
                    "2019-11-11",
                    "2019-11-18",
                    "2019-11-25",
                    "2019-12-02",
                    "2019-12-09",
                    "2019-12-16",
                    "2019-12-23",
                    "2019-12-30"
                  ],
                  "xaxis": "x",
                  "y": {
                    "bdata": "AAAAAAAA8D8e2pNoPtvwP7+0c4A5zPA/HBFBPkPs9D/iovgXaGD0P8H2qaYVAvM/+OAzgrk49T+MCPYKQ8n1P9rOVRUw8PY/P0CATfdA+T99OJhZlkP4P4yffd8K7vY/2XFPeAGB9j81R1cAOAL2P1bNI8Hyvvc/5q1uQGH5+D+yhVUdGMH3PxLuAYqTY/g/q45Y1dPf+D+ztBbDWrP4P94xFHQnxPo/OZ/r1q5s+z+bw8O4Knn7Pz5hkDfX3f0/CUOUGZhS/z8tWtm5HNP9P4ad7LMyG/8/Q8ZZG1oo/j//9W98h4L7P23Bv7adEPs/30khCzUk+j9I8R/Zblr6P6XaXDYDI/g/qlUoLAhX+z+tqgkh2gP8P+G3lnM+kfo/Zh+vkf7G+z9BjdKjQoX7P27kGfypgfw/+y+9C1PF+j8Xj7kmWt/5P2BPNk/1WPk/Pg2oD2TY9j/RGvB/NY33P2KAQVBkH/c/A65hM7nO9T9uFFKAdrjzPzfeSMspzfU/cQQIML0z9D8iuBr45VT0P2HTW8sBxvI/tFB6VASD8z+1TejyTqz2P3w5FAjtuPk/Yy59M2HW+T8wmlD75cH5PxWCLUsC5fk/U27TyJd7+j8NEjrf/jD7P0sLzpn0qPs/SK7H/MU5+z8KwiF/MKP6P4ElfdGGivs/oFKQ27+B+z9gTVbq8ir7P7etoXEi2fs/JNYCdzrB+j9BHAEo4HT7P+gYUke1j/w/XpoKokZW/T/UcQioVYL7P5Ppp8rKAfs/duv+Mp8A+z9VErPQ6Sf6Pw975rIEf/s/jkWUGqvi+T/0MJsbsiH8P8+09o3U/Ps/6XVY5OP+/D+yBsi3f3D8P1W4cj0+Avg/cM3P456V+T8KABu9/0r4P1pkFYzkifc/yzzxoVIS9z8nJsQIvTT2P6JfxejLYfY/p3MuZvcb9j/sgRFDmWn2P9MDpmcqofQ/eAjoho4L9D8OpfwZ9cj0P8q5NKy+jvU/2uqvkur59D/47Nm4kBf1P0fmR09t2vU/MbBlNUY39j+nX2OHw3r2P62Ft34gqPc/n2ntG6n59z/grFTzEmv3P1QcItRyvvY/NSRUiXer+T9Y2kWmIBP5P0T4yNJ0p/g/",
                    "dtype": "f8"
                  },
                  "yaxis": "y"
                },
                {
                  "hovertemplate": "company=MSFT<br>date=%{x}<br>price=%{y}<extra></extra>",
                  "legendgroup": "MSFT",
                  "line": {
                    "color": "#19d3f3",
                    "dash": "solid"
                  },
                  "marker": {
                    "symbol": "circle"
                  },
                  "mode": "lines",
                  "name": "MSFT",
                  "orientation": "v",
                  "showlegend": true,
                  "type": "scatter",
                  "x": [
                    "2018-01-01",
                    "2018-01-08",
                    "2018-01-15",
                    "2018-01-22",
                    "2018-01-29",
                    "2018-02-05",
                    "2018-02-12",
                    "2018-02-19",
                    "2018-02-26",
                    "2018-03-05",
                    "2018-03-12",
                    "2018-03-19",
                    "2018-03-26",
                    "2018-04-02",
                    "2018-04-09",
                    "2018-04-16",
                    "2018-04-23",
                    "2018-04-30",
                    "2018-05-07",
                    "2018-05-14",
                    "2018-05-21",
                    "2018-05-28",
                    "2018-06-04",
                    "2018-06-11",
                    "2018-06-18",
                    "2018-06-25",
                    "2018-07-02",
                    "2018-07-09",
                    "2018-07-16",
                    "2018-07-23",
                    "2018-07-30",
                    "2018-08-06",
                    "2018-08-13",
                    "2018-08-20",
                    "2018-08-27",
                    "2018-09-03",
                    "2018-09-10",
                    "2018-09-17",
                    "2018-09-24",
                    "2018-10-01",
                    "2018-10-08",
                    "2018-10-15",
                    "2018-10-22",
                    "2018-10-29",
                    "2018-11-05",
                    "2018-11-12",
                    "2018-11-19",
                    "2018-11-26",
                    "2018-12-03",
                    "2018-12-10",
                    "2018-12-17",
                    "2018-12-24",
                    "2018-12-31",
                    "2019-01-07",
                    "2019-01-14",
                    "2019-01-21",
                    "2019-01-28",
                    "2019-02-04",
                    "2019-02-11",
                    "2019-02-18",
                    "2019-02-25",
                    "2019-03-04",
                    "2019-03-11",
                    "2019-03-18",
                    "2019-03-25",
                    "2019-04-01",
                    "2019-04-08",
                    "2019-04-15",
                    "2019-04-22",
                    "2019-04-29",
                    "2019-05-06",
                    "2019-05-13",
                    "2019-05-20",
                    "2019-05-27",
                    "2019-06-03",
                    "2019-06-10",
                    "2019-06-17",
                    "2019-06-24",
                    "2019-07-01",
                    "2019-07-08",
                    "2019-07-15",
                    "2019-07-22",
                    "2019-07-29",
                    "2019-08-05",
                    "2019-08-12",
                    "2019-08-19",
                    "2019-08-26",
                    "2019-09-02",
                    "2019-09-09",
                    "2019-09-16",
                    "2019-09-23",
                    "2019-09-30",
                    "2019-10-07",
                    "2019-10-14",
                    "2019-10-21",
                    "2019-10-28",
                    "2019-11-04",
                    "2019-11-11",
                    "2019-11-18",
                    "2019-11-25",
                    "2019-12-02",
                    "2019-12-09",
                    "2019-12-16",
                    "2019-12-23",
                    "2019-12-30"
                  ],
                  "xaxis": "x",
                  "y": {
                    "bdata": "AAAAAAAA8D8haXDNfEHwP7BP5s8QVPA/j5RlC6IQ8T+oSOrvvKbwP4K+NCcS/+8/aZvDvfSw8D+PlGULohDxP3rZXz254fA/QX09MdGD8T9yphmgtinxP8hyVzkuou8/+lQNCA2P8D8vQyWKv17wPzIwQu0d4/A/AI2Poko88T+R1+xnYGLxP9VqrxO5Q/E/6zzygLG58T/1Iaz/dHvxP69tie1Y2PE/LL6zijVJ8j8zhoIQOXDyP2mNHB6OKvI/nVEUZI838j8nF0Vr9ePxPwNOR91kWvI/ZQwv97Yg8z/sDAmAukfzP5YByGI3ifM/rvD1yO+Z8z8Vn5wjhsbzPzWVxmmShPM/xt8jL6iq8z8OKbS+L2H0PzqrIQ7VofM/YMbqUX2R9D+cJmdg07r0Pz1s2Ujvv/Q/w1NMseVX9D8wQD5r/+DzP/wpRZm7tvM/5lt3mcZn8z9Ui/CvnkLzPzBAPmv/4PM/JZqxRoyl8z8TCi+mGrPyPy6lBylOHvQ/VaxQFmIE8z81BLPulDzzPxdymkFP0vE/ntc9iKE28j/gx+sWKH7yP6Wq9mSQpvI/S1iqEpyK8z/nDet6h3HzPydpK4yipfI/HBWFiNwr8z/5S4f6S6LzPxmUl2EFIvQ/UTrCs3lq9D+gOGgCqAz0P35ch9d1B/U/Mma/Y2g89T9uxjtyvmX1P/N5a9dPwPU/Pc0eLovx9T8BQT338GH2P5T0vXzDkPc/72PmXMhi9z+2C0gpkxD3Py3Iy9g7PPc/eqvLGj3n9j9lX7LRVnD2P5YCO0bl1vc/qUDXxakH+D+KbNR1mNn4Pz2e/LzLTfg/rXB7hcbd+D+R3jgCPDP5P6mSveZWyfg/zM/Ii4+k+T/XklsUWNb4PzqM+xr3+/g/g6QF8JSy+D8ZOQFdUjP4P0cFXIfuAvk/ZT/vJIY8+T9qRusE2un4P3u0Rq9QTPk/KH4exuT8+D91iyPZAQ/5P60xTit2V/k/jkqSFAju+D+/b+qqOoj5PxxMn7gZE/o/mmQsUCN7+j/D2PL/YTX7Pyuo+cC7I/s/7QW95d52+z+80fYfDoj7P5Jw6TYsCfw/0T83X++O/D/R0Era7Nb8P7Uc4WBnnPw/",
                    "dtype": "f8"
                  },
                  "yaxis": "y"
                }
              ],
              "layout": {
                "legend": {
                  "title": {
                    "text": "company"
                  },
                  "tracegroupgap": 0
                },
                "template": {
                  "data": {
                    "bar": [
                      {
                        "error_x": {
                          "color": "#2a3f5f"
                        },
                        "error_y": {
                          "color": "#2a3f5f"
                        },
                        "marker": {
                          "line": {
                            "color": "#E5ECF6",
                            "width": 0.5
                          },
                          "pattern": {
                            "fillmode": "overlay",
                            "size": 10,
                            "solidity": 0.2
                          }
                        },
                        "type": "bar"
                      }
                    ],
                    "barpolar": [
                      {
                        "marker": {
                          "line": {
                            "color": "#E5ECF6",
                            "width": 0.5
                          },
                          "pattern": {
                            "fillmode": "overlay",
                            "size": 10,
                            "solidity": 0.2
                          }
                        },
                        "type": "barpolar"
                      }
                    ],
                    "carpet": [
                      {
                        "aaxis": {
                          "endlinecolor": "#2a3f5f",
                          "gridcolor": "white",
                          "linecolor": "white",
                          "minorgridcolor": "white",
                          "startlinecolor": "#2a3f5f"
                        },
                        "baxis": {
                          "endlinecolor": "#2a3f5f",
                          "gridcolor": "white",
                          "linecolor": "white",
                          "minorgridcolor": "white",
                          "startlinecolor": "#2a3f5f"
                        },
                        "type": "carpet"
                      }
                    ],
                    "choropleth": [
                      {
                        "colorbar": {
                          "outlinewidth": 0,
                          "ticks": ""
                        },
                        "type": "choropleth"
                      }
                    ],
                    "contour": [
                      {
                        "colorbar": {
                          "outlinewidth": 0,
                          "ticks": ""
                        },
                        "colorscale": [
                          [
                            0,
                            "#0d0887"
                          ],
                          [
                            0.1111111111111111,
                            "#46039f"
                          ],
                          [
                            0.2222222222222222,
                            "#7201a8"
                          ],
                          [
                            0.3333333333333333,
                            "#9c179e"
                          ],
                          [
                            0.4444444444444444,
                            "#bd3786"
                          ],
                          [
                            0.5555555555555556,
                            "#d8576b"
                          ],
                          [
                            0.6666666666666666,
                            "#ed7953"
                          ],
                          [
                            0.7777777777777778,
                            "#fb9f3a"
                          ],
                          [
                            0.8888888888888888,
                            "#fdca26"
                          ],
                          [
                            1,
                            "#f0f921"
                          ]
                        ],
                        "type": "contour"
                      }
                    ],
                    "contourcarpet": [
                      {
                        "colorbar": {
                          "outlinewidth": 0,
                          "ticks": ""
                        },
                        "type": "contourcarpet"
                      }
                    ],
                    "heatmap": [
                      {
                        "colorbar": {
                          "outlinewidth": 0,
                          "ticks": ""
                        },
                        "colorscale": [
                          [
                            0,
                            "#0d0887"
                          ],
                          [
                            0.1111111111111111,
                            "#46039f"
                          ],
                          [
                            0.2222222222222222,
                            "#7201a8"
                          ],
                          [
                            0.3333333333333333,
                            "#9c179e"
                          ],
                          [
                            0.4444444444444444,
                            "#bd3786"
                          ],
                          [
                            0.5555555555555556,
                            "#d8576b"
                          ],
                          [
                            0.6666666666666666,
                            "#ed7953"
                          ],
                          [
                            0.7777777777777778,
                            "#fb9f3a"
                          ],
                          [
                            0.8888888888888888,
                            "#fdca26"
                          ],
                          [
                            1,
                            "#f0f921"
                          ]
                        ],
                        "type": "heatmap"
                      }
                    ],
                    "histogram": [
                      {
                        "marker": {
                          "pattern": {
                            "fillmode": "overlay",
                            "size": 10,
                            "solidity": 0.2
                          }
                        },
                        "type": "histogram"
                      }
                    ],
                    "histogram2d": [
                      {
                        "colorbar": {
                          "outlinewidth": 0,
                          "ticks": ""
                        },
                        "colorscale": [
                          [
                            0,
                            "#0d0887"
                          ],
                          [
                            0.1111111111111111,
                            "#46039f"
                          ],
                          [
                            0.2222222222222222,
                            "#7201a8"
                          ],
                          [
                            0.3333333333333333,
                            "#9c179e"
                          ],
                          [
                            0.4444444444444444,
                            "#bd3786"
                          ],
                          [
                            0.5555555555555556,
                            "#d8576b"
                          ],
                          [
                            0.6666666666666666,
                            "#ed7953"
                          ],
                          [
                            0.7777777777777778,
                            "#fb9f3a"
                          ],
                          [
                            0.8888888888888888,
                            "#fdca26"
                          ],
                          [
                            1,
                            "#f0f921"
                          ]
                        ],
                        "type": "histogram2d"
                      }
                    ],
                    "histogram2dcontour": [
                      {
                        "colorbar": {
                          "outlinewidth": 0,
                          "ticks": ""
                        },
                        "colorscale": [
                          [
                            0,
                            "#0d0887"
                          ],
                          [
                            0.1111111111111111,
                            "#46039f"
                          ],
                          [
                            0.2222222222222222,
                            "#7201a8"
                          ],
                          [
                            0.3333333333333333,
                            "#9c179e"
                          ],
                          [
                            0.4444444444444444,
                            "#bd3786"
                          ],
                          [
                            0.5555555555555556,
                            "#d8576b"
                          ],
                          [
                            0.6666666666666666,
                            "#ed7953"
                          ],
                          [
                            0.7777777777777778,
                            "#fb9f3a"
                          ],
                          [
                            0.8888888888888888,
                            "#fdca26"
                          ],
                          [
                            1,
                            "#f0f921"
                          ]
                        ],
                        "type": "histogram2dcontour"
                      }
                    ],
                    "mesh3d": [
                      {
                        "colorbar": {
                          "outlinewidth": 0,
                          "ticks": ""
                        },
                        "type": "mesh3d"
                      }
                    ],
                    "parcoords": [
                      {
                        "line": {
                          "colorbar": {
                            "outlinewidth": 0,
                            "ticks": ""
                          }
                        },
                        "type": "parcoords"
                      }
                    ],
                    "pie": [
                      {
                        "automargin": true,
                        "type": "pie"
                      }
                    ],
                    "scatter": [
                      {
                        "fillpattern": {
                          "fillmode": "overlay",
                          "size": 10,
                          "solidity": 0.2
                        },
                        "type": "scatter"
                      }
                    ],
                    "scatter3d": [
                      {
                        "line": {
                          "colorbar": {
                            "outlinewidth": 0,
                            "ticks": ""
                          }
                        },
                        "marker": {
                          "colorbar": {
                            "outlinewidth": 0,
                            "ticks": ""
                          }
                        },
                        "type": "scatter3d"
                      }
                    ],
                    "scattercarpet": [
                      {
                        "marker": {
                          "colorbar": {
                            "outlinewidth": 0,
                            "ticks": ""
                          }
                        },
                        "type": "scattercarpet"
                      }
                    ],
                    "scattergeo": [
                      {
                        "marker": {
                          "colorbar": {
                            "outlinewidth": 0,
                            "ticks": ""
                          }
                        },
                        "type": "scattergeo"
                      }
                    ],
                    "scattergl": [
                      {
                        "marker": {
                          "colorbar": {
                            "outlinewidth": 0,
                            "ticks": ""
                          }
                        },
                        "type": "scattergl"
                      }
                    ],
                    "scattermap": [
                      {
                        "marker": {
                          "colorbar": {
                            "outlinewidth": 0,
                            "ticks": ""
                          }
                        },
                        "type": "scattermap"
                      }
                    ],
                    "scattermapbox": [
                      {
                        "marker": {
                          "colorbar": {
                            "outlinewidth": 0,
                            "ticks": ""
                          }
                        },
                        "type": "scattermapbox"
                      }
                    ],
                    "scatterpolar": [
                      {
                        "marker": {
                          "colorbar": {
                            "outlinewidth": 0,
                            "ticks": ""
                          }
                        },
                        "type": "scatterpolar"
                      }
                    ],
                    "scatterpolargl": [
                      {
                        "marker": {
                          "colorbar": {
                            "outlinewidth": 0,
                            "ticks": ""
                          }
                        },
                        "type": "scatterpolargl"
                      }
                    ],
                    "scatterternary": [
                      {
                        "marker": {
                          "colorbar": {
                            "outlinewidth": 0,
                            "ticks": ""
                          }
                        },
                        "type": "scatterternary"
                      }
                    ],
                    "surface": [
                      {
                        "colorbar": {
                          "outlinewidth": 0,
                          "ticks": ""
                        },
                        "colorscale": [
                          [
                            0,
                            "#0d0887"
                          ],
                          [
                            0.1111111111111111,
                            "#46039f"
                          ],
                          [
                            0.2222222222222222,
                            "#7201a8"
                          ],
                          [
                            0.3333333333333333,
                            "#9c179e"
                          ],
                          [
                            0.4444444444444444,
                            "#bd3786"
                          ],
                          [
                            0.5555555555555556,
                            "#d8576b"
                          ],
                          [
                            0.6666666666666666,
                            "#ed7953"
                          ],
                          [
                            0.7777777777777778,
                            "#fb9f3a"
                          ],
                          [
                            0.8888888888888888,
                            "#fdca26"
                          ],
                          [
                            1,
                            "#f0f921"
                          ]
                        ],
                        "type": "surface"
                      }
                    ],
                    "table": [
                      {
                        "cells": {
                          "fill": {
                            "color": "#EBF0F8"
                          },
                          "line": {
                            "color": "white"
                          }
                        },
                        "header": {
                          "fill": {
                            "color": "#C8D4E3"
                          },
                          "line": {
                            "color": "white"
                          }
                        },
                        "type": "table"
                      }
                    ]
                  },
                  "layout": {
                    "annotationdefaults": {
                      "arrowcolor": "#2a3f5f",
                      "arrowhead": 0,
                      "arrowwidth": 1
                    },
                    "autotypenumbers": "strict",
                    "coloraxis": {
                      "colorbar": {
                        "outlinewidth": 0,
                        "ticks": ""
                      }
                    },
                    "colorscale": {
                      "diverging": [
                        [
                          0,
                          "#8e0152"
                        ],
                        [
                          0.1,
                          "#c51b7d"
                        ],
                        [
                          0.2,
                          "#de77ae"
                        ],
                        [
                          0.3,
                          "#f1b6da"
                        ],
                        [
                          0.4,
                          "#fde0ef"
                        ],
                        [
                          0.5,
                          "#f7f7f7"
                        ],
                        [
                          0.6,
                          "#e6f5d0"
                        ],
                        [
                          0.7,
                          "#b8e186"
                        ],
                        [
                          0.8,
                          "#7fbc41"
                        ],
                        [
                          0.9,
                          "#4d9221"
                        ],
                        [
                          1,
                          "#276419"
                        ]
                      ],
                      "sequential": [
                        [
                          0,
                          "#0d0887"
                        ],
                        [
                          0.1111111111111111,
                          "#46039f"
                        ],
                        [
                          0.2222222222222222,
                          "#7201a8"
                        ],
                        [
                          0.3333333333333333,
                          "#9c179e"
                        ],
                        [
                          0.4444444444444444,
                          "#bd3786"
                        ],
                        [
                          0.5555555555555556,
                          "#d8576b"
                        ],
                        [
                          0.6666666666666666,
                          "#ed7953"
                        ],
                        [
                          0.7777777777777778,
                          "#fb9f3a"
                        ],
                        [
                          0.8888888888888888,
                          "#fdca26"
                        ],
                        [
                          1,
                          "#f0f921"
                        ]
                      ],
                      "sequentialminus": [
                        [
                          0,
                          "#0d0887"
                        ],
                        [
                          0.1111111111111111,
                          "#46039f"
                        ],
                        [
                          0.2222222222222222,
                          "#7201a8"
                        ],
                        [
                          0.3333333333333333,
                          "#9c179e"
                        ],
                        [
                          0.4444444444444444,
                          "#bd3786"
                        ],
                        [
                          0.5555555555555556,
                          "#d8576b"
                        ],
                        [
                          0.6666666666666666,
                          "#ed7953"
                        ],
                        [
                          0.7777777777777778,
                          "#fb9f3a"
                        ],
                        [
                          0.8888888888888888,
                          "#fdca26"
                        ],
                        [
                          1,
                          "#f0f921"
                        ]
                      ]
                    },
                    "colorway": [
                      "#636efa",
                      "#EF553B",
                      "#00cc96",
                      "#ab63fa",
                      "#FFA15A",
                      "#19d3f3",
                      "#FF6692",
                      "#B6E880",
                      "#FF97FF",
                      "#FECB52"
                    ],
                    "font": {
                      "color": "#2a3f5f"
                    },
                    "geo": {
                      "bgcolor": "white",
                      "lakecolor": "white",
                      "landcolor": "#E5ECF6",
                      "showlakes": true,
                      "showland": true,
                      "subunitcolor": "white"
                    },
                    "hoverlabel": {
                      "align": "left"
                    },
                    "hovermode": "closest",
                    "mapbox": {
                      "style": "light"
                    },
                    "paper_bgcolor": "white",
                    "plot_bgcolor": "#E5ECF6",
                    "polar": {
                      "angularaxis": {
                        "gridcolor": "white",
                        "linecolor": "white",
                        "ticks": ""
                      },
                      "bgcolor": "#E5ECF6",
                      "radialaxis": {
                        "gridcolor": "white",
                        "linecolor": "white",
                        "ticks": ""
                      }
                    },
                    "scene": {
                      "xaxis": {
                        "backgroundcolor": "#E5ECF6",
                        "gridcolor": "white",
                        "gridwidth": 2,
                        "linecolor": "white",
                        "showbackground": true,
                        "ticks": "",
                        "zerolinecolor": "white"
                      },
                      "yaxis": {
                        "backgroundcolor": "#E5ECF6",
                        "gridcolor": "white",
                        "gridwidth": 2,
                        "linecolor": "white",
                        "showbackground": true,
                        "ticks": "",
                        "zerolinecolor": "white"
                      },
                      "zaxis": {
                        "backgroundcolor": "#E5ECF6",
                        "gridcolor": "white",
                        "gridwidth": 2,
                        "linecolor": "white",
                        "showbackground": true,
                        "ticks": "",
                        "zerolinecolor": "white"
                      }
                    },
                    "shapedefaults": {
                      "line": {
                        "color": "#2a3f5f"
                      }
                    },
                    "ternary": {
                      "aaxis": {
                        "gridcolor": "white",
                        "linecolor": "white",
                        "ticks": ""
                      },
                      "baxis": {
                        "gridcolor": "white",
                        "linecolor": "white",
                        "ticks": ""
                      },
                      "bgcolor": "#E5ECF6",
                      "caxis": {
                        "gridcolor": "white",
                        "linecolor": "white",
                        "ticks": ""
                      }
                    },
                    "title": {
                      "x": 0.05
                    },
                    "xaxis": {
                      "automargin": true,
                      "gridcolor": "white",
                      "linecolor": "white",
                      "ticks": "",
                      "title": {
                        "standoff": 15
                      },
                      "zerolinecolor": "white",
                      "zerolinewidth": 2
                    },
                    "yaxis": {
                      "automargin": true,
                      "gridcolor": "white",
                      "linecolor": "white",
                      "ticks": "",
                      "title": {
                        "standoff": 15
                      },
                      "zerolinecolor": "white",
                      "zerolinewidth": 2
                    }
                  }
                },
                "title": {
                  "text": "Create a line chart of the stock prices over time, using a different color for each company."
                },
                "xaxis": {
                  "anchor": "y",
                  "domain": [
                    0,
                    1
                  ],
                  "title": {
                    "text": "date"
                  }
                },
                "yaxis": {
                  "anchor": "x",
                  "domain": [
                    0,
                    1
                  ],
                  "title": {
                    "text": "price"
                  }
                }
              }
            }
          },
          "metadata": {},
          "output_type": "display_data"
        }
      ],
      "source": [
        "\n",
        "prompt = \"Create a line chart of the stock prices over time, using a different color for each company.\"\n",
        "plot = plot_data(prompt, long_df, on_event=display_action)\n",
        "display(plot)"
      ]
    },
    {
      "cell_type": "markdown",
      "metadata": {},
      "source": [
        "## Conclusion\n",
        "\n",
        "In this demo, we saw how `agex` agents:\n",
        "\n",
        "- Use real Python libraries directly.\n",
        "- Receive and return complex objects like DataFrames and Figures.\n",
        "- Provide full observability into their thought process."
      ]
    }
  ],
  "metadata": {
    "kernelspec": {
      "display_name": ".venv",
      "language": "python",
      "name": "python3"
    },
    "language_info": {
      "codemirror_mode": {
        "name": "ipython",
        "version": 3
      },
      "file_extension": ".py",
      "mimetype": "text/x-python",
      "name": "python",
      "nbconvert_exporter": "python",
      "pygments_lexer": "ipython3",
      "version": "3.12.9"
    }
  },
  "nbformat": 4,
  "nbformat_minor": 2
}
