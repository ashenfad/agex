{
  "cells": [
    {
      "cell_type": "markdown",
      "metadata": {
        "vscode": {
          "languageId": "raw"
        }
      },
      "source": [
        "# agex: Code-Native Agents\n",
        "\n",
        "In this demo, we'll start with a 'wide' dataset of stock prices and use an `agex` agent to perform a classic data science task: reshaping it into a 'long' format and then visualizing the result."
      ]
    },
    {
      "cell_type": "code",
      "execution_count": 1,
      "metadata": {},
      "outputs": [
        {
          "data": {
            "text/html": [
              "<div>\n",
              "<style scoped>\n",
              "    .dataframe tbody tr th:only-of-type {\n",
              "        vertical-align: middle;\n",
              "    }\n",
              "\n",
              "    .dataframe tbody tr th {\n",
              "        vertical-align: top;\n",
              "    }\n",
              "\n",
              "    .dataframe thead th {\n",
              "        text-align: right;\n",
              "    }\n",
              "</style>\n",
              "<table border=\"1\" class=\"dataframe\">\n",
              "  <thead>\n",
              "    <tr style=\"text-align: right;\">\n",
              "      <th></th>\n",
              "      <th>date</th>\n",
              "      <th>GOOG</th>\n",
              "      <th>AAPL</th>\n",
              "      <th>AMZN</th>\n",
              "      <th>FB</th>\n",
              "      <th>NFLX</th>\n",
              "      <th>MSFT</th>\n",
              "    </tr>\n",
              "  </thead>\n",
              "  <tbody>\n",
              "    <tr>\n",
              "      <th>0</th>\n",
              "      <td>2018-01-01</td>\n",
              "      <td>1.000000</td>\n",
              "      <td>1.000000</td>\n",
              "      <td>1.000000</td>\n",
              "      <td>1.000000</td>\n",
              "      <td>1.000000</td>\n",
              "      <td>1.000000</td>\n",
              "    </tr>\n",
              "    <tr>\n",
              "      <th>1</th>\n",
              "      <td>2018-01-08</td>\n",
              "      <td>1.018172</td>\n",
              "      <td>1.011943</td>\n",
              "      <td>1.061881</td>\n",
              "      <td>0.959968</td>\n",
              "      <td>1.053526</td>\n",
              "      <td>1.015988</td>\n",
              "    </tr>\n",
              "    <tr>\n",
              "      <th>2</th>\n",
              "      <td>2018-01-15</td>\n",
              "      <td>1.032008</td>\n",
              "      <td>1.019771</td>\n",
              "      <td>1.053240</td>\n",
              "      <td>0.970243</td>\n",
              "      <td>1.049860</td>\n",
              "      <td>1.020524</td>\n",
              "    </tr>\n",
              "    <tr>\n",
              "      <th>3</th>\n",
              "      <td>2018-01-22</td>\n",
              "      <td>1.066783</td>\n",
              "      <td>0.980057</td>\n",
              "      <td>1.140676</td>\n",
              "      <td>1.016858</td>\n",
              "      <td>1.307681</td>\n",
              "      <td>1.066561</td>\n",
              "    </tr>\n",
              "    <tr>\n",
              "      <th>4</th>\n",
              "      <td>2018-01-29</td>\n",
              "      <td>1.008773</td>\n",
              "      <td>0.917143</td>\n",
              "      <td>1.163374</td>\n",
              "      <td>1.018357</td>\n",
              "      <td>1.273537</td>\n",
              "      <td>1.040708</td>\n",
              "    </tr>\n",
              "  </tbody>\n",
              "</table>\n",
              "</div>"
            ],
            "text/plain": [
              "         date      GOOG      AAPL      AMZN        FB      NFLX      MSFT\n",
              "0  2018-01-01  1.000000  1.000000  1.000000  1.000000  1.000000  1.000000\n",
              "1  2018-01-08  1.018172  1.011943  1.061881  0.959968  1.053526  1.015988\n",
              "2  2018-01-15  1.032008  1.019771  1.053240  0.970243  1.049860  1.020524\n",
              "3  2018-01-22  1.066783  0.980057  1.140676  1.016858  1.307681  1.066561\n",
              "4  2018-01-29  1.008773  0.917143  1.163374  1.018357  1.273537  1.040708"
            ]
          },
          "metadata": {},
          "output_type": "display_data"
        }
      ],
      "source": [
        "import plotly.express as px\n",
        "\n",
        "df = px.data.stocks()\n",
        "display(df.head())"
      ]
    },
    {
      "cell_type": "markdown",
      "metadata": {},
      "source": [
        "First, we create an `Agent`. Instead of rigid \"tools\", we give our agent direct access to the `pandas` and `plotly` libraries, creating a guided sandbox environment for it to work in."
      ]
    },
    {
      "cell_type": "code",
      "execution_count": 2,
      "metadata": {},
      "outputs": [],
      "source": [
        "import pandas as pd\n",
        "import plotly.graph_objects as go\n",
        "from agex import Agent\n",
        "\n",
        "agent = Agent(name=\"data_expert\")\n",
        "\n",
        "# Register pandas & plotly for the agent\n",
        "agent.cls(go.Figure, visibility=\"low\")\n",
        "agent.module(px, visibility=\"low\")\n",
        "agent.module(pd, visibility=\"low\")"
      ]
    },
    {
      "cell_type": "markdown",
      "metadata": {
        "vscode": {
          "languageId": "raw"
        }
      },
      "source": [
        "Next, we define the agent's skills using the `@agent.task` decorator. We provide a function signature with type hints, and the agent writes the implementation at runtime. The types are the contract."
      ]
    },
    {
      "cell_type": "code",
      "execution_count": 3,
      "metadata": {},
      "outputs": [],
      "source": [
        "@agent.task\n",
        "def transform_data(prompt: str, df: pd.DataFrame) -> pd.DataFrame:  # type: ignore[return-value]\n",
        "    \"\"\"Transform the data according to the prompt.\"\"\"\n",
        "    pass\n",
        "\n",
        "@agent.task\n",
        "def plot_data(prompt: str, df: pd.DataFrame) -> go.Figure:  # type: ignore[return-value]\n",
        "    \"\"\"Plot the data according to the prompt.\"\"\"\n",
        "    pass"
      ]
    },
    {
      "cell_type": "markdown",
      "metadata": {},
      "source": [
        "Let's ask the agent to transform our data. Notice that the agent will return a real, live `DataFrame` directly to us (not JSON)."
      ]
    },
    {
      "cell_type": "code",
      "execution_count": 4,
      "metadata": {},
      "outputs": [
        {
          "data": {
            "text/html": [
              "<div>\n",
              "<style scoped>\n",
              "    .dataframe tbody tr th:only-of-type {\n",
              "        vertical-align: middle;\n",
              "    }\n",
              "\n",
              "    .dataframe tbody tr th {\n",
              "        vertical-align: top;\n",
              "    }\n",
              "\n",
              "    .dataframe thead th {\n",
              "        text-align: right;\n",
              "    }\n",
              "</style>\n",
              "<table border=\"1\" class=\"dataframe\">\n",
              "  <thead>\n",
              "    <tr style=\"text-align: right;\">\n",
              "      <th></th>\n",
              "      <th>date</th>\n",
              "      <th>company</th>\n",
              "      <th>price</th>\n",
              "    </tr>\n",
              "  </thead>\n",
              "  <tbody>\n",
              "    <tr>\n",
              "      <th>0</th>\n",
              "      <td>2018-01-01</td>\n",
              "      <td>GOOG</td>\n",
              "      <td>1.000000</td>\n",
              "    </tr>\n",
              "    <tr>\n",
              "      <th>1</th>\n",
              "      <td>2018-01-08</td>\n",
              "      <td>GOOG</td>\n",
              "      <td>1.018172</td>\n",
              "    </tr>\n",
              "    <tr>\n",
              "      <th>2</th>\n",
              "      <td>2018-01-15</td>\n",
              "      <td>GOOG</td>\n",
              "      <td>1.032008</td>\n",
              "    </tr>\n",
              "    <tr>\n",
              "      <th>3</th>\n",
              "      <td>2018-01-22</td>\n",
              "      <td>GOOG</td>\n",
              "      <td>1.066783</td>\n",
              "    </tr>\n",
              "    <tr>\n",
              "      <th>4</th>\n",
              "      <td>2018-01-29</td>\n",
              "      <td>GOOG</td>\n",
              "      <td>1.008773</td>\n",
              "    </tr>\n",
              "  </tbody>\n",
              "</table>\n",
              "</div>"
            ],
            "text/plain": [
              "         date company     price\n",
              "0  2018-01-01    GOOG  1.000000\n",
              "1  2018-01-08    GOOG  1.018172\n",
              "2  2018-01-15    GOOG  1.032008\n",
              "3  2018-01-22    GOOG  1.066783\n",
              "4  2018-01-29    GOOG  1.008773"
            ]
          },
          "metadata": {},
          "output_type": "display_data"
        }
      ],
      "source": [
        "prompt = \"Reshape this data from wide to long with 'date', 'company', and 'price' cols\"\n",
        "long_df = transform_data(prompt, df)\n",
        "display(long_df.head())"
      ]
    },
    {
      "cell_type": "markdown",
      "metadata": {},
      "source": [
        "That's a real `DataFrame`, but how did the agent create it? We can see the agent's \"thinking\" by re-running the task with an `on_event` handler."
      ]
    },
    {
      "cell_type": "code",
      "execution_count": 6,
      "metadata": {},
      "outputs": [
        {
          "data": {
            "text/html": [
              "\n",
              "    <div style=\"border: 1px solid #e1e4e8; border-radius: 8px; padding: 16px; margin: 8px 0; background: #f6f8fa;\">\n",
              "        <div style=\"font-weight: 600; color: #24292e; margin-bottom: 8px; font-size: 14px;\">\n",
              "            🧠 ActionEvent - data_expert\n",
              "        </div>\n",
              "        <div style=\"font-size: 12px; color: #6a737d; margin-bottom: 12px;\">\n",
              "            2025-07-31T09:03:08Z\n",
              "        </div>\n",
              "        \n",
              "    <div style=\"margin-bottom: 16px;\">\n",
              "        <div style=\"font-weight: 600; margin-bottom: 6px; color: #0366d6; font-size: 13px;\">\n",
              "            💭 Thinking:\n",
              "        </div>\n",
              "        <div style=\"background: #fff; padding: 12px; border-radius: 6px; border-left: 3px solid #0366d6; color: #24292e; line-height: 1.4;\">\n",
              "            The task requires transforming a wide DataFrame into a long format with specific columns: &#x27;date&#x27;, &#x27;company&#x27;, and &#x27;price&#x27;. The DataFrame has a date column and multiple columns for each company. To reshape the data, I will use pandas&#x27; melt function, which is designed for converting wide data to long format. First, I will ensure the &#x27;date&#x27; column remains as an identifier and the other columns are unpivoted into &#x27;company&#x27; and &#x27;price&#x27;. I will verify the column names, perform the melt operation, and then output the result for verification before completing.\n",
              "        </div>\n",
              "    </div>\n",
              "    \n",
              "        <div>\n",
              "            <div style=\"font-weight: 600; margin-bottom: 6px; color: #28a745; font-size: 13px;\">\n",
              "                🐍 Code:\n",
              "            </div>\n",
              "            <div style=\"background: #fff; padding: 16px; border-radius: 6px; border-left: 3px solid #28a745; overflow-x: auto; font-family: 'SFMono-Regular', 'Monaco', 'Inconsolata', 'Roboto Mono', monospace; font-size: 13px; line-height: 1.45; margin: 0;\"><div class=\"highlight\"><pre style=\"line-height: 125%;\"><span></span><span style=\"color: #CB4B16\">import</span><span style=\"color: #657B83\"> </span><span style=\"color: #268BD2\">pandas</span><span style=\"color: #657B83\"> </span><span style=\"color: #859900\">as</span><span style=\"color: #657B83\"> </span><span style=\"color: #268BD2\">pd</span>\n",
              "\n",
              "<span style=\"color: #93A1A1; font-style: italic\"># Access inputs</span>\n",
              "<span style=\"color: #657B83\">df</span> <span style=\"color: #93A1A1\">=</span> <span style=\"color: #657B83\">inputs</span><span style=\"color: #93A1A1\">.</span><span style=\"color: #657B83\">df</span>\n",
              "<span style=\"color: #657B83\">prompt</span> <span style=\"color: #93A1A1\">=</span> <span style=\"color: #657B83\">inputs</span><span style=\"color: #93A1A1\">.</span><span style=\"color: #657B83\">prompt</span>\n",
              "\n",
              "<span style=\"color: #93A1A1; font-style: italic\"># Perform the wide to long transformation using melt</span>\n",
              "<span style=\"color: #657B83\">result</span> <span style=\"color: #93A1A1\">=</span> <span style=\"color: #657B83\">df</span><span style=\"color: #93A1A1\">.</span><span style=\"color: #657B83\">melt(id_vars</span><span style=\"color: #93A1A1\">=</span><span style=\"color: #657B83\">[</span><span style=\"color: #2AA198\">&#39;date&#39;</span><span style=\"color: #657B83\">],</span> <span style=\"color: #657B83\">var_name</span><span style=\"color: #93A1A1\">=</span><span style=\"color: #2AA198\">&#39;company&#39;</span><span style=\"color: #657B83\">,</span> <span style=\"color: #657B83\">value_name</span><span style=\"color: #93A1A1\">=</span><span style=\"color: #2AA198\">&#39;price&#39;</span><span style=\"color: #657B83\">)</span>\n",
              "\n",
              "<span style=\"color: #93A1A1; font-style: italic\"># Call task_success with the result</span>\n",
              "<span style=\"color: #657B83\">task_success(result)</span>\n",
              "</pre></div>\n",
              "</div>\n",
              "        </div>\n",
              "        \n",
              "    </div>\n",
              "    "
            ],
            "text/markdown": [
              "## 🧠 ActionEvent - data_expert\n",
              "**Time:** 09:03:08  \n",
              "**Thinking:** The task requires transforming a wide DataFrame into a long format with specific columns: 'date', 'company', and 'price'. The DataFrame has a date column and multiple columns for each company. To reshape the data, I will use pandas' melt function, which is designed for converting wide data to long format. First, I will ensure the 'date' column remains as an identifier and the other columns are unpivoted into 'company' and 'price'. I will verify the column names, perform the melt operation, and then output the result for verification before completing.\n",
              "\n",
              "**Code:**\n",
              "```python\n",
              "import pandas as pd\n",
              "\n",
              "# Access inputs\n",
              "df = inputs.df\n",
              "prompt = inputs.prompt\n",
              "\n",
              "# Perform the wide to long transformation using melt\n",
              "result = df.melt(id_vars=['date'], var_name='company', value_name='price')\n",
              "\n",
              "# Call task_success with the result\n",
              "task_success(result)\n",
              "```"
            ],
            "text/plain": [
              "ActionEvent(ActionEvent[data_expert] @ 09:03:08)"
            ]
          },
          "metadata": {},
          "output_type": "display_data"
        }
      ],
      "source": [
        "from agex import ActionEvent, Event, TaskStartEvent\n",
        "\n",
        "def display_action(event: Event):\n",
        "    if isinstance(event, ActionEvent):\n",
        "        display(event)\n",
        "\n",
        "prompt = \"Reshape this data from wide to long with 'date', 'company', and 'price' cols\"\n",
        "long_df = transform_data(prompt, df, on_event=display_action)\n"
      ]
    },
    {
      "cell_type": "markdown",
      "metadata": {},
      "source": [
        "Now that the agent has prepared the data, let's ask it to create the final visualization."
      ]
    },
    {
      "cell_type": "code",
      "execution_count": 10,
      "metadata": {},
      "outputs": [
        {
          "data": {
            "text/html": [
              "\n",
              "    <div style=\"border: 1px solid #e1e4e8; border-radius: 8px; padding: 16px; margin: 8px 0; background: #f6f8fa;\">\n",
              "        <div style=\"font-weight: 600; color: #24292e; margin-bottom: 8px; font-size: 14px;\">\n",
              "            🧠 ActionEvent - data_expert\n",
              "        </div>\n",
              "        <div style=\"font-size: 12px; color: #6a737d; margin-bottom: 12px;\">\n",
              "            2025-07-31T09:19:11Z\n",
              "        </div>\n",
              "        \n",
              "    <div style=\"margin-bottom: 16px;\">\n",
              "        <div style=\"font-weight: 600; margin-bottom: 6px; color: #0366d6; font-size: 13px;\">\n",
              "            💭 Thinking:\n",
              "        </div>\n",
              "        <div style=\"background: #fff; padding: 12px; border-radius: 6px; border-left: 3px solid #0366d6; color: #24292e; line-height: 1.4;\">\n",
              "            First, I will examine the structure of the `inputs` object to understand what data I have available. I see it contains a `prompt` string and a DataFrame `df` with columns &#x27;date&#x27;, &#x27;company&#x27;, and &#x27;price&#x27;. The prompt indicates I should create a line chart of stock prices over time, with different colors for each company. To visualize this, I will use a plotting library; since the environment supports Plotly, I will use Plotly Express for an interactive and clear line chart. I will import plotly.express as px, then create the figure using px.line, specifying &#x27;date&#x27; as x, &#x27;price&#x27; as y, and &#x27;company&#x27; as color. After creating the figure, I will display it using view_image, then verify the output with task_continue before completing with task_success.\n",
              "        </div>\n",
              "    </div>\n",
              "    \n",
              "        <div>\n",
              "            <div style=\"font-weight: 600; margin-bottom: 6px; color: #28a745; font-size: 13px;\">\n",
              "                🐍 Code:\n",
              "            </div>\n",
              "            <div style=\"background: #fff; padding: 16px; border-radius: 6px; border-left: 3px solid #28a745; overflow-x: auto; font-family: 'SFMono-Regular', 'Monaco', 'Inconsolata', 'Roboto Mono', monospace; font-size: 13px; line-height: 1.45; margin: 0;\"><div class=\"highlight\"><pre style=\"line-height: 125%;\"><span></span><span style=\"color: #CB4B16\">import</span><span style=\"color: #657B83\"> </span><span style=\"color: #268BD2\">plotly.express</span><span style=\"color: #657B83\"> </span><span style=\"color: #859900\">as</span><span style=\"color: #657B83\"> </span><span style=\"color: #268BD2\">px</span>\n",
              "\n",
              "<span style=\"color: #93A1A1; font-style: italic\"># Create the line plot with date on x-axis, price on y-axis, colored by company</span>\n",
              "<span style=\"color: #657B83\">fig</span> <span style=\"color: #93A1A1\">=</span> <span style=\"color: #657B83\">px</span><span style=\"color: #93A1A1\">.</span><span style=\"color: #657B83\">line(inputs</span><span style=\"color: #93A1A1\">.</span><span style=\"color: #657B83\">df,</span> <span style=\"color: #657B83\">x</span><span style=\"color: #93A1A1\">=</span><span style=\"color: #2AA198\">&#39;date&#39;</span><span style=\"color: #657B83\">,</span> <span style=\"color: #657B83\">y</span><span style=\"color: #93A1A1\">=</span><span style=\"color: #2AA198\">&#39;price&#39;</span><span style=\"color: #657B83\">,</span> <span style=\"color: #657B83\">color</span><span style=\"color: #93A1A1\">=</span><span style=\"color: #2AA198\">&#39;company&#39;</span><span style=\"color: #657B83\">,</span> <span style=\"color: #657B83\">title</span><span style=\"color: #93A1A1\">=</span><span style=\"color: #657B83\">inputs</span><span style=\"color: #93A1A1\">.</span><span style=\"color: #657B83\">prompt)</span>\n",
              "\n",
              "<span style=\"color: #93A1A1; font-style: italic\"># Display the figure for review</span>\n",
              "<span style=\"color: #657B83\">view_image(fig)</span>\n",
              "\n",
              "<span style=\"color: #93A1A1; font-style: italic\"># Verify the result before completing</span>\n",
              "<span style=\"color: #657B83\">task_continue(</span><span style=\"color: #2AA198\">&#39;Here is the generated plot.&#39;</span><span style=\"color: #657B83\">,</span> <span style=\"color: #657B83\">fig)</span>\n",
              "\n",
              "<span style=\"color: #93A1A1; font-style: italic\"># Complete the task by passing the figure object</span>\n",
              "<span style=\"color: #657B83\">task_success(fig)</span>\n",
              "</pre></div>\n",
              "</div>\n",
              "        </div>\n",
              "        \n",
              "    </div>\n",
              "    "
            ],
            "text/markdown": [
              "## 🧠 ActionEvent - data_expert\n",
              "**Time:** 09:19:11  \n",
              "**Thinking:** First, I will examine the structure of the `inputs` object to understand what data I have available. I see it contains a `prompt` string and a DataFrame `df` with columns 'date', 'company', and 'price'. The prompt indicates I should create a line chart of stock prices over time, with different colors for each company. To visualize this, I will use a plotting library; since the environment supports Plotly, I will use Plotly Express for an interactive and clear line chart. I will import plotly.express as px, then create the figure using px.line, specifying 'date' as x, 'price' as y, and 'company' as color. After creating the figure, I will display it using view_image, then verify the output with task_continue before completing with task_success.\n",
              "\n",
              "**Code:**\n",
              "```python\n",
              "import plotly.express as px\n",
              "\n",
              "# Create the line plot with date on x-axis, price on y-axis, colored by company\n",
              "fig = px.line(inputs.df, x='date', y='price', color='company', title=inputs.prompt)\n",
              "\n",
              "# Display the figure for review\n",
              "view_image(fig)\n",
              "\n",
              "# Verify the result before completing\n",
              "task_continue('Here is the generated plot.', fig)\n",
              "\n",
              "# Complete the task by passing the figure object\n",
              "task_success(fig)\n",
              "```"
            ],
            "text/plain": [
              "ActionEvent(ActionEvent[data_expert] @ 09:19:11)"
            ]
          },
          "metadata": {},
          "output_type": "display_data"
        },
        {
          "data": {
            "text/html": [
              "\n",
              "    <div style=\"border: 1px solid #e1e4e8; border-radius: 8px; padding: 16px; margin: 8px 0; background: #f6f8fa;\">\n",
              "        <div style=\"font-weight: 600; color: #24292e; margin-bottom: 8px; font-size: 14px;\">\n",
              "            🧠 ActionEvent - data_expert\n",
              "        </div>\n",
              "        <div style=\"font-size: 12px; color: #6a737d; margin-bottom: 12px;\">\n",
              "            2025-07-31T09:19:13Z\n",
              "        </div>\n",
              "        \n",
              "    <div style=\"margin-bottom: 16px;\">\n",
              "        <div style=\"font-weight: 600; margin-bottom: 6px; color: #0366d6; font-size: 13px;\">\n",
              "            💭 Thinking:\n",
              "        </div>\n",
              "        <div style=\"background: #fff; padding: 12px; border-radius: 6px; border-left: 3px solid #0366d6; color: #24292e; line-height: 1.4;\">\n",
              "            The plot has been generated successfully and displayed. It shows a line chart with stock prices over time, with different colors for each company, matching the prompt. The plot is a Plotly figure object, which I will now pass to task_success to complete the task.\n",
              "        </div>\n",
              "    </div>\n",
              "    \n",
              "        <div>\n",
              "            <div style=\"font-weight: 600; margin-bottom: 6px; color: #28a745; font-size: 13px;\">\n",
              "                🐍 Code:\n",
              "            </div>\n",
              "            <div style=\"background: #fff; padding: 16px; border-radius: 6px; border-left: 3px solid #28a745; overflow-x: auto; font-family: 'SFMono-Regular', 'Monaco', 'Inconsolata', 'Roboto Mono', monospace; font-size: 13px; line-height: 1.45; margin: 0;\"><div class=\"highlight\"><pre style=\"line-height: 125%;\"><span></span><span style=\"color: #657B83\">task_success(fig)</span>\n",
              "</pre></div>\n",
              "</div>\n",
              "        </div>\n",
              "        \n",
              "    </div>\n",
              "    "
            ],
            "text/markdown": [
              "## 🧠 ActionEvent - data_expert\n",
              "**Time:** 09:19:13  \n",
              "**Thinking:** The plot has been generated successfully and displayed. It shows a line chart with stock prices over time, with different colors for each company, matching the prompt. The plot is a Plotly figure object, which I will now pass to task_success to complete the task.\n",
              "\n",
              "**Code:**\n",
              "```python\n",
              "task_success(fig)\n",
              "```"
            ],
            "text/plain": [
              "ActionEvent(ActionEvent[data_expert] @ 09:19:13)"
            ]
          },
          "metadata": {},
          "output_type": "display_data"
        },
        {
          "data": {
            "application/vnd.plotly.v1+json": {
              "config": {
                "plotlyServerURL": "https://plot.ly"
              },
              "data": [
                {
                  "hovertemplate": "company=GOOG<br>date=%{x}<br>price=%{y}<extra></extra>",
                  "legendgroup": "GOOG",
                  "line": {
                    "color": "#636efa",
                    "dash": "solid"
                  },
                  "marker": {
                    "symbol": "circle"
                  },
                  "mode": "lines",
                  "name": "GOOG",
                  "orientation": "v",
                  "showlegend": true,
                  "type": "scatter",
                  "x": [
                    "2018-01-01T00:00:00",
                    "2018-01-08T00:00:00",
                    "2018-01-15T00:00:00",
                    "2018-01-22T00:00:00",
                    "2018-01-29T00:00:00",
                    "2018-02-05T00:00:00",
                    "2018-02-12T00:00:00",
                    "2018-02-19T00:00:00",
                    "2018-02-26T00:00:00",
                    "2018-03-05T00:00:00",
                    "2018-03-12T00:00:00",
                    "2018-03-19T00:00:00",
                    "2018-03-26T00:00:00",
                    "2018-04-02T00:00:00",
                    "2018-04-09T00:00:00",
                    "2018-04-16T00:00:00",
                    "2018-04-23T00:00:00",
                    "2018-04-30T00:00:00",
                    "2018-05-07T00:00:00",
                    "2018-05-14T00:00:00",
                    "2018-05-21T00:00:00",
                    "2018-05-28T00:00:00",
                    "2018-06-04T00:00:00",
                    "2018-06-11T00:00:00",
                    "2018-06-18T00:00:00",
                    "2018-06-25T00:00:00",
                    "2018-07-02T00:00:00",
                    "2018-07-09T00:00:00",
                    "2018-07-16T00:00:00",
                    "2018-07-23T00:00:00",
                    "2018-07-30T00:00:00",
                    "2018-08-06T00:00:00",
                    "2018-08-13T00:00:00",
                    "2018-08-20T00:00:00",
                    "2018-08-27T00:00:00",
                    "2018-09-03T00:00:00",
                    "2018-09-10T00:00:00",
                    "2018-09-17T00:00:00",
                    "2018-09-24T00:00:00",
                    "2018-10-01T00:00:00",
                    "2018-10-08T00:00:00",
                    "2018-10-15T00:00:00",
                    "2018-10-22T00:00:00",
                    "2018-10-29T00:00:00",
                    "2018-11-05T00:00:00",
                    "2018-11-12T00:00:00",
                    "2018-11-19T00:00:00",
                    "2018-11-26T00:00:00",
                    "2018-12-03T00:00:00",
                    "2018-12-10T00:00:00",
                    "2018-12-17T00:00:00",
                    "2018-12-24T00:00:00",
                    "2018-12-31T00:00:00",
                    "2019-01-07T00:00:00",
                    "2019-01-14T00:00:00",
                    "2019-01-21T00:00:00",
                    "2019-01-28T00:00:00",
                    "2019-02-04T00:00:00",
                    "2019-02-11T00:00:00",
                    "2019-02-18T00:00:00",
                    "2019-02-25T00:00:00",
                    "2019-03-04T00:00:00",
                    "2019-03-11T00:00:00",
                    "2019-03-18T00:00:00",
                    "2019-03-25T00:00:00",
                    "2019-04-01T00:00:00",
                    "2019-04-08T00:00:00",
                    "2019-04-15T00:00:00",
                    "2019-04-22T00:00:00",
                    "2019-04-29T00:00:00",
                    "2019-05-06T00:00:00",
                    "2019-05-13T00:00:00",
                    "2019-05-20T00:00:00",
                    "2019-05-27T00:00:00",
                    "2019-06-03T00:00:00",
                    "2019-06-10T00:00:00",
                    "2019-06-17T00:00:00",
                    "2019-06-24T00:00:00",
                    "2019-07-01T00:00:00",
                    "2019-07-08T00:00:00",
                    "2019-07-15T00:00:00",
                    "2019-07-22T00:00:00",
                    "2019-07-29T00:00:00",
                    "2019-08-05T00:00:00",
                    "2019-08-12T00:00:00",
                    "2019-08-19T00:00:00",
                    "2019-08-26T00:00:00",
                    "2019-09-02T00:00:00",
                    "2019-09-09T00:00:00",
                    "2019-09-16T00:00:00",
                    "2019-09-23T00:00:00",
                    "2019-09-30T00:00:00",
                    "2019-10-07T00:00:00",
                    "2019-10-14T00:00:00",
                    "2019-10-21T00:00:00",
                    "2019-10-28T00:00:00",
                    "2019-11-04T00:00:00",
                    "2019-11-11T00:00:00",
                    "2019-11-18T00:00:00",
                    "2019-11-25T00:00:00",
                    "2019-12-02T00:00:00",
                    "2019-12-09T00:00:00",
                    "2019-12-16T00:00:00",
                    "2019-12-23T00:00:00",
                    "2019-12-30T00:00:00"
                  ],
                  "xaxis": "x",
                  "y": {
                    "bdata": "AAAAAAAA8D/OK9MDb0rwP68QOq4ag/A/9oPp0ooR8T8TsS9U7yPwP99D4KT+IO4/3Hw6e8fI7z+q8F+IRFvwP9LSdHnBUu8/LIMaANTW8D8JvFtMfXzwPz7QZruEqO0/HpxM0nn07T+3TPA/hzztPxfM6R6/4e0/IXrkjXUm7z8heCA9i+ftP6NcPhmDbu4/QjPHjn7i7z+qgyQlaPXuP+V5ctWGOu8/ZFIUWy1A8D9vrqGpREXwP4WiXq/qufA/U4wX6uHF8D/pH6HJ3jHwP3Um9zr9jPA/0NEB+MZB8T9XHtVhPzPxPyuHvbZk+vE/NwuPnm7D8T/XXM4FFvfxP6hIRQnkbvE/az8Jog+48T9kWBFN667xP01QZMGg6PA/pI7CAT4F8T+UMFxuT+3wP6R7NKQOU/E/85Ml4tTM8D/YyoXbKx3wP2L4PrQd1e8/L6n6oWIb7z/SWD6VtrXuP9oE9qnY8+4/8kBpRjbR7j+goGHWr7ntP/MQKYMHxu8/XzbgVBMY7j8FnNv3GUHuP7udcIUkcOw/dtxkp8ob7j+2jo+avBXvP53HSc9Ase4/QjPHjn7i7z9LiPtKdqzvPxmlC0mpH/A/OvEgMLbK7z+605ckcCrwP3zeMMc/HvA/rDRmQwmQ8D+apul6+pTwPymUuDeTMfE/Lh6kE8N/8T8zPRwRJAjxPzJ9CsjkhfE/OJ3k7bqt8T/lnXpkevLxPxPbLk2Nd/I/umBFhRE18T9FfGgTjObwP4oJl/853/A/NI4dTRd08D8JjgPgMwXwP1INy2YH8+4/3LqtWYuC7z8wZfiBBUnwP9tJ47eLYe8/dM57zxpt8D8PGkn3kJ7wP/vlhlmRZ/A/R53F/qYm8j95l9xY/VTxP0LUZHXEPvE/R7cjKRUY8T/i1RHuT7bwPzyHlAsaP/E/fDnW36R98T+zOPArVf7xP79xyu6L2vE/7Hfuco/I8T9/Y3S0xIzxP06g9q+8pPE/IwGMcl4U8j+pVbJuWl3yPzJVr01ZffI/r0ZXkS8J8z/PhYSkg2DzP8kL1dedzfI/E8Ioj13x8j/WQP++4XXzP+AKN76skPM/MT5xFDeX8z+urvcqw5/zP2qQawKBaPM/",
                    "dtype": "f8"
                  },
                  "yaxis": "y"
                },
                {
                  "hovertemplate": "company=AAPL<br>date=%{x}<br>price=%{y}<extra></extra>",
                  "legendgroup": "AAPL",
                  "line": {
                    "color": "#EF553B",
                    "dash": "solid"
                  },
                  "marker": {
                    "symbol": "circle"
                  },
                  "mode": "lines",
                  "name": "AAPL",
                  "orientation": "v",
                  "showlegend": true,
                  "type": "scatter",
                  "x": [
                    "2018-01-01T00:00:00",
                    "2018-01-08T00:00:00",
                    "2018-01-15T00:00:00",
                    "2018-01-22T00:00:00",
                    "2018-01-29T00:00:00",
                    "2018-02-05T00:00:00",
                    "2018-02-12T00:00:00",
                    "2018-02-19T00:00:00",
                    "2018-02-26T00:00:00",
                    "2018-03-05T00:00:00",
                    "2018-03-12T00:00:00",
                    "2018-03-19T00:00:00",
                    "2018-03-26T00:00:00",
                    "2018-04-02T00:00:00",
                    "2018-04-09T00:00:00",
                    "2018-04-16T00:00:00",
                    "2018-04-23T00:00:00",
                    "2018-04-30T00:00:00",
                    "2018-05-07T00:00:00",
                    "2018-05-14T00:00:00",
                    "2018-05-21T00:00:00",
                    "2018-05-28T00:00:00",
                    "2018-06-04T00:00:00",
                    "2018-06-11T00:00:00",
                    "2018-06-18T00:00:00",
                    "2018-06-25T00:00:00",
                    "2018-07-02T00:00:00",
                    "2018-07-09T00:00:00",
                    "2018-07-16T00:00:00",
                    "2018-07-23T00:00:00",
                    "2018-07-30T00:00:00",
                    "2018-08-06T00:00:00",
                    "2018-08-13T00:00:00",
                    "2018-08-20T00:00:00",
                    "2018-08-27T00:00:00",
                    "2018-09-03T00:00:00",
                    "2018-09-10T00:00:00",
                    "2018-09-17T00:00:00",
                    "2018-09-24T00:00:00",
                    "2018-10-01T00:00:00",
                    "2018-10-08T00:00:00",
                    "2018-10-15T00:00:00",
                    "2018-10-22T00:00:00",
                    "2018-10-29T00:00:00",
                    "2018-11-05T00:00:00",
                    "2018-11-12T00:00:00",
                    "2018-11-19T00:00:00",
                    "2018-11-26T00:00:00",
                    "2018-12-03T00:00:00",
                    "2018-12-10T00:00:00",
                    "2018-12-17T00:00:00",
                    "2018-12-24T00:00:00",
                    "2018-12-31T00:00:00",
                    "2019-01-07T00:00:00",
                    "2019-01-14T00:00:00",
                    "2019-01-21T00:00:00",
                    "2019-01-28T00:00:00",
                    "2019-02-04T00:00:00",
                    "2019-02-11T00:00:00",
                    "2019-02-18T00:00:00",
                    "2019-02-25T00:00:00",
                    "2019-03-04T00:00:00",
                    "2019-03-11T00:00:00",
                    "2019-03-18T00:00:00",
                    "2019-03-25T00:00:00",
                    "2019-04-01T00:00:00",
                    "2019-04-08T00:00:00",
                    "2019-04-15T00:00:00",
                    "2019-04-22T00:00:00",
                    "2019-04-29T00:00:00",
                    "2019-05-06T00:00:00",
                    "2019-05-13T00:00:00",
                    "2019-05-20T00:00:00",
                    "2019-05-27T00:00:00",
                    "2019-06-03T00:00:00",
                    "2019-06-10T00:00:00",
                    "2019-06-17T00:00:00",
                    "2019-06-24T00:00:00",
                    "2019-07-01T00:00:00",
                    "2019-07-08T00:00:00",
                    "2019-07-15T00:00:00",
                    "2019-07-22T00:00:00",
                    "2019-07-29T00:00:00",
                    "2019-08-05T00:00:00",
                    "2019-08-12T00:00:00",
                    "2019-08-19T00:00:00",
                    "2019-08-26T00:00:00",
                    "2019-09-02T00:00:00",
                    "2019-09-09T00:00:00",
                    "2019-09-16T00:00:00",
                    "2019-09-23T00:00:00",
                    "2019-09-30T00:00:00",
                    "2019-10-07T00:00:00",
                    "2019-10-14T00:00:00",
                    "2019-10-21T00:00:00",
                    "2019-10-28T00:00:00",
                    "2019-11-04T00:00:00",
                    "2019-11-11T00:00:00",
                    "2019-11-18T00:00:00",
                    "2019-11-25T00:00:00",
                    "2019-12-02T00:00:00",
                    "2019-12-09T00:00:00",
                    "2019-12-16T00:00:00",
                    "2019-12-23T00:00:00",
                    "2019-12-30T00:00:00"
                  ],
                  "xaxis": "x",
                  "y": {
                    "bdata": "AAAAAAAA8D/q2yr46jDwP+aHLuP7UPA/hjfCvKBc7z/HCCb6O1ntP0x+P5bGmew/RAa0vbGH7z9VGnLuswvwP2kRLTJSHPA/RdD7c4908D8I1SVzr0bwP0G2R74TKe4/ohoFfQWu7j/2V7LLG8ruP5V3m1hc8+8/fxuQCZdN7j+Esxtxbq7tPxcaOCmszvA/ijlrZBU+8T+0Zvn0twjxPz0UdILZPfE/B08YBbRk8T/xL3wX4IbxP7RGpFvvQ/E/V8F+RC/o8D8KZ069oezwP3+hnXeSL/E/D6XnITd+8T+wTsM8yoDxP5ATyvEFdvE/y/XqlScE8z+quvFKY/nyP3YLToid5PM/wQljGWHD8z9AXKrF18/0P9LFrESvO/Q/5nnXjiJ39D/AWLnkfObzP4+cvSabo/Q/ElLX4KqB9D+QA0qqpE70P5UwZG4bDfQ/gb439KfG8z+AeH+uN/jyP24GUzTEsfI/Y9l2NrWx8T8zP/kEJIHvP5wFiuHKU/A/OKtpAULP7j9SqR3iWkLuP8SX0e3ij+s/D9ufa1mR7D+ypk4dQxzrP7AEUYHp2Os/OXBN8/es7D9Ljz6C+NjsP9Huyg0Kc+4/3EA1vyIp7z91iyODminvPxkXfQz5oO8/wukNgJj+7z8sSKoPKp7vPwHBKXxFBPE/xYy1aql38T/I0+xU6l3xP5WGnPvsAvI/dGCHvLEu8j94QgUrfaPyP45GhZnJrfI/XI/C9Shc8z+KGup5IwfyP0jhehSuR/E/h8eXs+tc8D81eet4owHwP8ies6+YYvE/sNJSrTef8T/f7SR+lizyP/VtFXx1GPI/Ws2ZICas8j/kEaG8YZbyP9Ia5njDhfI/oeixnk3+8j9FLlPiO6fyPyeFrYtQYPI/4XoUrkfh8j/9XFgV74byP0sdlnu1FfM/cLKYpIB/8z8AAAAAAAD0P0uUokYg6PM/NXnreKMB9D+NhtrBVMH0Py1pqfepmPU/LTRwUlid9T+vAiiOYYv2P7sV52WmY/c/ih0lS8PI9z/mvGeITUz4P6HjTdol7/c/Jvo7WS1v+D+cld8jKcD4Px8beQcVKPk/Bmk1K36M+T+Rn7rI+X76P2Lp9n0W2fo/",
                    "dtype": "f8"
                  },
                  "yaxis": "y"
                },
                {
                  "hovertemplate": "company=AMZN<br>date=%{x}<br>price=%{y}<extra></extra>",
                  "legendgroup": "AMZN",
                  "line": {
                    "color": "#00cc96",
                    "dash": "solid"
                  },
                  "marker": {
                    "symbol": "circle"
                  },
                  "mode": "lines",
                  "name": "AMZN",
                  "orientation": "v",
                  "showlegend": true,
                  "type": "scatter",
                  "x": [
                    "2018-01-01T00:00:00",
                    "2018-01-08T00:00:00",
                    "2018-01-15T00:00:00",
                    "2018-01-22T00:00:00",
                    "2018-01-29T00:00:00",
                    "2018-02-05T00:00:00",
                    "2018-02-12T00:00:00",
                    "2018-02-19T00:00:00",
                    "2018-02-26T00:00:00",
                    "2018-03-05T00:00:00",
                    "2018-03-12T00:00:00",
                    "2018-03-19T00:00:00",
                    "2018-03-26T00:00:00",
                    "2018-04-02T00:00:00",
                    "2018-04-09T00:00:00",
                    "2018-04-16T00:00:00",
                    "2018-04-23T00:00:00",
                    "2018-04-30T00:00:00",
                    "2018-05-07T00:00:00",
                    "2018-05-14T00:00:00",
                    "2018-05-21T00:00:00",
                    "2018-05-28T00:00:00",
                    "2018-06-04T00:00:00",
                    "2018-06-11T00:00:00",
                    "2018-06-18T00:00:00",
                    "2018-06-25T00:00:00",
                    "2018-07-02T00:00:00",
                    "2018-07-09T00:00:00",
                    "2018-07-16T00:00:00",
                    "2018-07-23T00:00:00",
                    "2018-07-30T00:00:00",
                    "2018-08-06T00:00:00",
                    "2018-08-13T00:00:00",
                    "2018-08-20T00:00:00",
                    "2018-08-27T00:00:00",
                    "2018-09-03T00:00:00",
                    "2018-09-10T00:00:00",
                    "2018-09-17T00:00:00",
                    "2018-09-24T00:00:00",
                    "2018-10-01T00:00:00",
                    "2018-10-08T00:00:00",
                    "2018-10-15T00:00:00",
                    "2018-10-22T00:00:00",
                    "2018-10-29T00:00:00",
                    "2018-11-05T00:00:00",
                    "2018-11-12T00:00:00",
                    "2018-11-19T00:00:00",
                    "2018-11-26T00:00:00",
                    "2018-12-03T00:00:00",
                    "2018-12-10T00:00:00",
                    "2018-12-17T00:00:00",
                    "2018-12-24T00:00:00",
                    "2018-12-31T00:00:00",
                    "2019-01-07T00:00:00",
                    "2019-01-14T00:00:00",
                    "2019-01-21T00:00:00",
                    "2019-01-28T00:00:00",
                    "2019-02-04T00:00:00",
                    "2019-02-11T00:00:00",
                    "2019-02-18T00:00:00",
                    "2019-02-25T00:00:00",
                    "2019-03-04T00:00:00",
                    "2019-03-11T00:00:00",
                    "2019-03-18T00:00:00",
                    "2019-03-25T00:00:00",
                    "2019-04-01T00:00:00",
                    "2019-04-08T00:00:00",
                    "2019-04-15T00:00:00",
                    "2019-04-22T00:00:00",
                    "2019-04-29T00:00:00",
                    "2019-05-06T00:00:00",
                    "2019-05-13T00:00:00",
                    "2019-05-20T00:00:00",
                    "2019-05-27T00:00:00",
                    "2019-06-03T00:00:00",
                    "2019-06-10T00:00:00",
                    "2019-06-17T00:00:00",
                    "2019-06-24T00:00:00",
                    "2019-07-01T00:00:00",
                    "2019-07-08T00:00:00",
                    "2019-07-15T00:00:00",
                    "2019-07-22T00:00:00",
                    "2019-07-29T00:00:00",
                    "2019-08-05T00:00:00",
                    "2019-08-12T00:00:00",
                    "2019-08-19T00:00:00",
                    "2019-08-26T00:00:00",
                    "2019-09-02T00:00:00",
                    "2019-09-09T00:00:00",
                    "2019-09-16T00:00:00",
                    "2019-09-23T00:00:00",
                    "2019-09-30T00:00:00",
                    "2019-10-07T00:00:00",
                    "2019-10-14T00:00:00",
                    "2019-10-21T00:00:00",
                    "2019-10-28T00:00:00",
                    "2019-11-04T00:00:00",
                    "2019-11-11T00:00:00",
                    "2019-11-18T00:00:00",
                    "2019-11-25T00:00:00",
                    "2019-12-02T00:00:00",
                    "2019-12-09T00:00:00",
                    "2019-12-16T00:00:00",
                    "2019-12-23T00:00:00",
                    "2019-12-30T00:00:00"
                  ],
                  "xaxis": "x",
                  "y": {
                    "bdata": "AAAAAAAA8D/BgjiGdv3wP3v2rqIS2vA/evlFFDVA8j/16txoLp3yPzm1ihcZcPE/OCGucaHb8j90WGrqnYbzP0gipDBzh/M/evXNxYKN9D9A2335e3X0PwbAzzbSd/M/R5a4yCHX8j/rtaLezUryP9y4Hhb7n/I/siYijTni8z8Wau/VnXj0Px4bNRlglPQ/EZJ7L47d9D/h7oPBcn70Pz2E6pmu9fQ/7lVqVkle9T8Sr3FGv+v1P/mrVE9RVvY/YQ1ncVFV9j+38h/LbiD2PwaGp8yFRPY/JEEo+8KZ9z8OGV59/pv3P/ilGRvkp/c/8H6GxPO79z92FoZv7Y34P6PzcbtUgPg/85idCIvN+D8MkypjLTP6P3iDQY4Zafk/lbaQrHul+T/o/T/Tme34P4qWmNjREvo/BfBJSheZ+D+yqttOYkj3P9a66TZ59vY/whzFyYRi9T+UGvkhO671P3W4lGqFSvY/mpznwuW99D+NP65Ye43zP+qiYHZXAPY/E4IQX+409T+i4Ywd5rj0PxBbdc067vE/Rs3G2l498z/i66Tu2IH0P08EvVEFW/U/3I1Fj28U9j8PyROsBr/1P/ClL15EK/U/0s36IZqs9D+LQJa5We70P3+inHEHPfU/piJFS+TC9T8L0cobLBn1PyM1AqRJSvY/Exayf/D49j9hter5MC73P3e6DZeS6vc/DJ2VhNX99z8zjZie6jv4P/tgXCVNZPk/mxvLP7mL+T+PZlbGMJr4P7ECms9GVPg/GJRpOuu79z8xVW9WQxv3P1XfBxvFe/c/ebN0bIJW+D9E7RjePOH4Py6g5Jlapvg/Qch7QpNK+T8J0dGfei36P7YCD66Wkvk/bw3EtApL+T9O0S0Sybv3P6+95ImZh/c/KYU8ipRV9z9dmMENdMb2P0NHFjJUH/c/9PmoZQLe9z+zyKzqb/H3P42wKwrhWvc/vsuup+h19j8t59iyOqX2PzRME0Z4i/Y/OE4JAb/g9j9+4yHKee32P4IDKonQUfc/RtSZXkk/9z/mtI4ssqT2P4J9MfR0ufY/QnVSngFx9z/l+Y0rDc32P3zUnxEt7PY/bdcbSVpB9z/NDaBU8Vb4P9qWWT7DDfg/",
                    "dtype": "f8"
                  },
                  "yaxis": "y"
                },
                {
                  "hovertemplate": "company=FB<br>date=%{x}<br>price=%{y}<extra></extra>",
                  "legendgroup": "FB",
                  "line": {
                    "color": "#ab63fa",
                    "dash": "solid"
                  },
                  "marker": {
                    "symbol": "circle"
                  },
                  "mode": "lines",
                  "name": "FB",
                  "orientation": "v",
                  "showlegend": true,
                  "type": "scatter",
                  "x": [
                    "2018-01-01T00:00:00",
                    "2018-01-08T00:00:00",
                    "2018-01-15T00:00:00",
                    "2018-01-22T00:00:00",
                    "2018-01-29T00:00:00",
                    "2018-02-05T00:00:00",
                    "2018-02-12T00:00:00",
                    "2018-02-19T00:00:00",
                    "2018-02-26T00:00:00",
                    "2018-03-05T00:00:00",
                    "2018-03-12T00:00:00",
                    "2018-03-19T00:00:00",
                    "2018-03-26T00:00:00",
                    "2018-04-02T00:00:00",
                    "2018-04-09T00:00:00",
                    "2018-04-16T00:00:00",
                    "2018-04-23T00:00:00",
                    "2018-04-30T00:00:00",
                    "2018-05-07T00:00:00",
                    "2018-05-14T00:00:00",
                    "2018-05-21T00:00:00",
                    "2018-05-28T00:00:00",
                    "2018-06-04T00:00:00",
                    "2018-06-11T00:00:00",
                    "2018-06-18T00:00:00",
                    "2018-06-25T00:00:00",
                    "2018-07-02T00:00:00",
                    "2018-07-09T00:00:00",
                    "2018-07-16T00:00:00",
                    "2018-07-23T00:00:00",
                    "2018-07-30T00:00:00",
                    "2018-08-06T00:00:00",
                    "2018-08-13T00:00:00",
                    "2018-08-20T00:00:00",
                    "2018-08-27T00:00:00",
                    "2018-09-03T00:00:00",
                    "2018-09-10T00:00:00",
                    "2018-09-17T00:00:00",
                    "2018-09-24T00:00:00",
                    "2018-10-01T00:00:00",
                    "2018-10-08T00:00:00",
                    "2018-10-15T00:00:00",
                    "2018-10-22T00:00:00",
                    "2018-10-29T00:00:00",
                    "2018-11-05T00:00:00",
                    "2018-11-12T00:00:00",
                    "2018-11-19T00:00:00",
                    "2018-11-26T00:00:00",
                    "2018-12-03T00:00:00",
                    "2018-12-10T00:00:00",
                    "2018-12-17T00:00:00",
                    "2018-12-24T00:00:00",
                    "2018-12-31T00:00:00",
                    "2019-01-07T00:00:00",
                    "2019-01-14T00:00:00",
                    "2019-01-21T00:00:00",
                    "2019-01-28T00:00:00",
                    "2019-02-04T00:00:00",
                    "2019-02-11T00:00:00",
                    "2019-02-18T00:00:00",
                    "2019-02-25T00:00:00",
                    "2019-03-04T00:00:00",
                    "2019-03-11T00:00:00",
                    "2019-03-18T00:00:00",
                    "2019-03-25T00:00:00",
                    "2019-04-01T00:00:00",
                    "2019-04-08T00:00:00",
                    "2019-04-15T00:00:00",
                    "2019-04-22T00:00:00",
                    "2019-04-29T00:00:00",
                    "2019-05-06T00:00:00",
                    "2019-05-13T00:00:00",
                    "2019-05-20T00:00:00",
                    "2019-05-27T00:00:00",
                    "2019-06-03T00:00:00",
                    "2019-06-10T00:00:00",
                    "2019-06-17T00:00:00",
                    "2019-06-24T00:00:00",
                    "2019-07-01T00:00:00",
                    "2019-07-08T00:00:00",
                    "2019-07-15T00:00:00",
                    "2019-07-22T00:00:00",
                    "2019-07-29T00:00:00",
                    "2019-08-05T00:00:00",
                    "2019-08-12T00:00:00",
                    "2019-08-19T00:00:00",
                    "2019-08-26T00:00:00",
                    "2019-09-02T00:00:00",
                    "2019-09-09T00:00:00",
                    "2019-09-16T00:00:00",
                    "2019-09-23T00:00:00",
                    "2019-09-30T00:00:00",
                    "2019-10-07T00:00:00",
                    "2019-10-14T00:00:00",
                    "2019-10-21T00:00:00",
                    "2019-10-28T00:00:00",
                    "2019-11-04T00:00:00",
                    "2019-11-11T00:00:00",
                    "2019-11-18T00:00:00",
                    "2019-11-25T00:00:00",
                    "2019-12-02T00:00:00",
                    "2019-12-09T00:00:00",
                    "2019-12-16T00:00:00",
                    "2019-12-23T00:00:00",
                    "2019-12-30T00:00:00"
                  ],
                  "xaxis": "x",
                  "y": {
                    "bdata": "AAAAAAAA8D/gjPh0DrjuPz+Xr/k7DO8/b0D2Ug1F8D+iFp+jMEvwPw5HHTMhKe4/sDNC2e5f7j93q+pp62PvPxNRpzp9P+4/ubpwdvm47z8mHVgk1rLvP884mZcUTOs/4n00A55d6z/KVeufEOzqPzS16lP+LOw/oTp5BCh67D/jaARfpbrtPxwMLA8NP+4/aIecpxED8D91Ie3xLEnvP3jE1CFiq+8/yuoDrISc8D9gOyGvUjHwP3/thLxKxfA/92F2lWhG8T/7oMmYwKPwP1o4QjQSZ/E/sqKJxbrA8T+tW9PQKfrxP4MVYz2k8+0/5e7MyVhy7j8JUieRE9/uP5U8Rm7aw+0/uIa2fR7p7T+vGlgheBjuP75+lBkb7Os/cv7hLYrM6z/LuaV9SOfrPz6wNfBcKuw/oh+pw8Px6j+p3mKlXlTqP+nU/vn1Yeo/JTUMAWjl6D/9zsk/vr/pPxqr9Wlu0+g/MQxjh13l5z/ZXUR8ZI/mPyegBCu3FOg/QaRZeNuI5z+MQzL3+KvoP7+vMq4jZuU/J2MmXdfP5j8ss7IHGKDnP0kN0NqSoOg/UHsUwCay6T8bNoxX/oTpP+GcWpYqYew/u4TQ9DCo7D/bKsBebtTrPxYS4+Ovues/MRIDJMnK6z+bcQLYtgvtPx0YON4Abew/Xivz9xkl7D8ZIqnGIYzsP/JG/fIHGO4/phEbLTis7j/zs9ulRIjuPyf+3gW3ZfA/T1eiM/a88D8BD1ydqSDwP9jwmTMLvO8/njl3kyYC7z+k+DB1wWTuP4U3ccofsO0/RBJuBv0N7z/mjKHWCl7wP5qPIufQhvA/TYEcMVnR8D9X5/SlBYvxP/9D13lQ/PA/uUGG9Mga8T9yNl+5kS/wPw7FDtzrFfA/syH6LuV17z8JpYIWCHHuPw/s6utDzO8/7+mjlQcO8D+tWIMCdAfwP2GlYXSEQ/A/b/3fvIhU7j/YIJoYaOfuPwYTrtxgi+8/5HXiRyjU7z94jHFLzBbwP3m+TjpolPA/pPuAQ3dX8D+02XnX2bTwP7oXDPdlBvE/+qE8XTdE8T8LmLVjSDfxP4R+mBImn/A/kyIDp16q8T9r2zkE1NHxP4h91y5ak/E/",
                    "dtype": "f8"
                  },
                  "yaxis": "y"
                },
                {
                  "hovertemplate": "company=NFLX<br>date=%{x}<br>price=%{y}<extra></extra>",
                  "legendgroup": "NFLX",
                  "line": {
                    "color": "#FFA15A",
                    "dash": "solid"
                  },
                  "marker": {
                    "symbol": "circle"
                  },
                  "mode": "lines",
                  "name": "NFLX",
                  "orientation": "v",
                  "showlegend": true,
                  "type": "scatter",
                  "x": [
                    "2018-01-01T00:00:00",
                    "2018-01-08T00:00:00",
                    "2018-01-15T00:00:00",
                    "2018-01-22T00:00:00",
                    "2018-01-29T00:00:00",
                    "2018-02-05T00:00:00",
                    "2018-02-12T00:00:00",
                    "2018-02-19T00:00:00",
                    "2018-02-26T00:00:00",
                    "2018-03-05T00:00:00",
                    "2018-03-12T00:00:00",
                    "2018-03-19T00:00:00",
                    "2018-03-26T00:00:00",
                    "2018-04-02T00:00:00",
                    "2018-04-09T00:00:00",
                    "2018-04-16T00:00:00",
                    "2018-04-23T00:00:00",
                    "2018-04-30T00:00:00",
                    "2018-05-07T00:00:00",
                    "2018-05-14T00:00:00",
                    "2018-05-21T00:00:00",
                    "2018-05-28T00:00:00",
                    "2018-06-04T00:00:00",
                    "2018-06-11T00:00:00",
                    "2018-06-18T00:00:00",
                    "2018-06-25T00:00:00",
                    "2018-07-02T00:00:00",
                    "2018-07-09T00:00:00",
                    "2018-07-16T00:00:00",
                    "2018-07-23T00:00:00",
                    "2018-07-30T00:00:00",
                    "2018-08-06T00:00:00",
                    "2018-08-13T00:00:00",
                    "2018-08-20T00:00:00",
                    "2018-08-27T00:00:00",
                    "2018-09-03T00:00:00",
                    "2018-09-10T00:00:00",
                    "2018-09-17T00:00:00",
                    "2018-09-24T00:00:00",
                    "2018-10-01T00:00:00",
                    "2018-10-08T00:00:00",
                    "2018-10-15T00:00:00",
                    "2018-10-22T00:00:00",
                    "2018-10-29T00:00:00",
                    "2018-11-05T00:00:00",
                    "2018-11-12T00:00:00",
                    "2018-11-19T00:00:00",
                    "2018-11-26T00:00:00",
                    "2018-12-03T00:00:00",
                    "2018-12-10T00:00:00",
                    "2018-12-17T00:00:00",
                    "2018-12-24T00:00:00",
                    "2018-12-31T00:00:00",
                    "2019-01-07T00:00:00",
                    "2019-01-14T00:00:00",
                    "2019-01-21T00:00:00",
                    "2019-01-28T00:00:00",
                    "2019-02-04T00:00:00",
                    "2019-02-11T00:00:00",
                    "2019-02-18T00:00:00",
                    "2019-02-25T00:00:00",
                    "2019-03-04T00:00:00",
                    "2019-03-11T00:00:00",
                    "2019-03-18T00:00:00",
                    "2019-03-25T00:00:00",
                    "2019-04-01T00:00:00",
                    "2019-04-08T00:00:00",
                    "2019-04-15T00:00:00",
                    "2019-04-22T00:00:00",
                    "2019-04-29T00:00:00",
                    "2019-05-06T00:00:00",
                    "2019-05-13T00:00:00",
                    "2019-05-20T00:00:00",
                    "2019-05-27T00:00:00",
                    "2019-06-03T00:00:00",
                    "2019-06-10T00:00:00",
                    "2019-06-17T00:00:00",
                    "2019-06-24T00:00:00",
                    "2019-07-01T00:00:00",
                    "2019-07-08T00:00:00",
                    "2019-07-15T00:00:00",
                    "2019-07-22T00:00:00",
                    "2019-07-29T00:00:00",
                    "2019-08-05T00:00:00",
                    "2019-08-12T00:00:00",
                    "2019-08-19T00:00:00",
                    "2019-08-26T00:00:00",
                    "2019-09-02T00:00:00",
                    "2019-09-09T00:00:00",
                    "2019-09-16T00:00:00",
                    "2019-09-23T00:00:00",
                    "2019-09-30T00:00:00",
                    "2019-10-07T00:00:00",
                    "2019-10-14T00:00:00",
                    "2019-10-21T00:00:00",
                    "2019-10-28T00:00:00",
                    "2019-11-04T00:00:00",
                    "2019-11-11T00:00:00",
                    "2019-11-18T00:00:00",
                    "2019-11-25T00:00:00",
                    "2019-12-02T00:00:00",
                    "2019-12-09T00:00:00",
                    "2019-12-16T00:00:00",
                    "2019-12-23T00:00:00",
                    "2019-12-30T00:00:00"
                  ],
                  "xaxis": "x",
                  "y": {
                    "bdata": "AAAAAAAA8D8e2pNoPtvwP7+0c4A5zPA/HBFBPkPs9D/iovgXaGD0P8H2qaYVAvM/+OAzgrk49T+MCPYKQ8n1P9rOVRUw8PY/P0CATfdA+T99OJhZlkP4P4yffd8K7vY/2XFPeAGB9j81R1cAOAL2P1bNI8Hyvvc/5q1uQGH5+D+yhVUdGMH3PxLuAYqTY/g/q45Y1dPf+D+ztBbDWrP4P94xFHQnxPo/OZ/r1q5s+z+bw8O4Knn7Pz5hkDfX3f0/CUOUGZhS/z8tWtm5HNP9P4ad7LMyG/8/Q8ZZG1oo/j//9W98h4L7P23Bv7adEPs/30khCzUk+j9I8R/Zblr6P6XaXDYDI/g/qlUoLAhX+z+tqgkh2gP8P+G3lnM+kfo/Zh+vkf7G+z9BjdKjQoX7P27kGfypgfw/+y+9C1PF+j8Xj7kmWt/5P2BPNk/1WPk/Pg2oD2TY9j/RGvB/NY33P2KAQVBkH/c/A65hM7nO9T9uFFKAdrjzPzfeSMspzfU/cQQIML0z9D8iuBr45VT0P2HTW8sBxvI/tFB6VASD8z+1TejyTqz2P3w5FAjtuPk/Yy59M2HW+T8wmlD75cH5PxWCLUsC5fk/U27TyJd7+j8NEjrf/jD7P0sLzpn0qPs/SK7H/MU5+z8KwiF/MKP6P4ElfdGGivs/oFKQ27+B+z9gTVbq8ir7P7etoXEi2fs/JNYCdzrB+j9BHAEo4HT7P+gYUke1j/w/XpoKokZW/T/UcQioVYL7P5Ppp8rKAfs/duv+Mp8A+z9VErPQ6Sf6Pw975rIEf/s/jkWUGqvi+T/0MJsbsiH8P8+09o3U/Ps/6XVY5OP+/D+yBsi3f3D8P1W4cj0+Avg/cM3P456V+T8KABu9/0r4P1pkFYzkifc/yzzxoVIS9z8nJsQIvTT2P6JfxejLYfY/p3MuZvcb9j/sgRFDmWn2P9MDpmcqofQ/eAjoho4L9D8OpfwZ9cj0P8q5NKy+jvU/2uqvkur59D/47Nm4kBf1P0fmR09t2vU/MbBlNUY39j+nX2OHw3r2P62Ft34gqPc/n2ntG6n59z/grFTzEmv3P1QcItRyvvY/NSRUiXer+T9Y2kWmIBP5P0T4yNJ0p/g/",
                    "dtype": "f8"
                  },
                  "yaxis": "y"
                },
                {
                  "hovertemplate": "company=MSFT<br>date=%{x}<br>price=%{y}<extra></extra>",
                  "legendgroup": "MSFT",
                  "line": {
                    "color": "#19d3f3",
                    "dash": "solid"
                  },
                  "marker": {
                    "symbol": "circle"
                  },
                  "mode": "lines",
                  "name": "MSFT",
                  "orientation": "v",
                  "showlegend": true,
                  "type": "scatter",
                  "x": [
                    "2018-01-01T00:00:00",
                    "2018-01-08T00:00:00",
                    "2018-01-15T00:00:00",
                    "2018-01-22T00:00:00",
                    "2018-01-29T00:00:00",
                    "2018-02-05T00:00:00",
                    "2018-02-12T00:00:00",
                    "2018-02-19T00:00:00",
                    "2018-02-26T00:00:00",
                    "2018-03-05T00:00:00",
                    "2018-03-12T00:00:00",
                    "2018-03-19T00:00:00",
                    "2018-03-26T00:00:00",
                    "2018-04-02T00:00:00",
                    "2018-04-09T00:00:00",
                    "2018-04-16T00:00:00",
                    "2018-04-23T00:00:00",
                    "2018-04-30T00:00:00",
                    "2018-05-07T00:00:00",
                    "2018-05-14T00:00:00",
                    "2018-05-21T00:00:00",
                    "2018-05-28T00:00:00",
                    "2018-06-04T00:00:00",
                    "2018-06-11T00:00:00",
                    "2018-06-18T00:00:00",
                    "2018-06-25T00:00:00",
                    "2018-07-02T00:00:00",
                    "2018-07-09T00:00:00",
                    "2018-07-16T00:00:00",
                    "2018-07-23T00:00:00",
                    "2018-07-30T00:00:00",
                    "2018-08-06T00:00:00",
                    "2018-08-13T00:00:00",
                    "2018-08-20T00:00:00",
                    "2018-08-27T00:00:00",
                    "2018-09-03T00:00:00",
                    "2018-09-10T00:00:00",
                    "2018-09-17T00:00:00",
                    "2018-09-24T00:00:00",
                    "2018-10-01T00:00:00",
                    "2018-10-08T00:00:00",
                    "2018-10-15T00:00:00",
                    "2018-10-22T00:00:00",
                    "2018-10-29T00:00:00",
                    "2018-11-05T00:00:00",
                    "2018-11-12T00:00:00",
                    "2018-11-19T00:00:00",
                    "2018-11-26T00:00:00",
                    "2018-12-03T00:00:00",
                    "2018-12-10T00:00:00",
                    "2018-12-17T00:00:00",
                    "2018-12-24T00:00:00",
                    "2018-12-31T00:00:00",
                    "2019-01-07T00:00:00",
                    "2019-01-14T00:00:00",
                    "2019-01-21T00:00:00",
                    "2019-01-28T00:00:00",
                    "2019-02-04T00:00:00",
                    "2019-02-11T00:00:00",
                    "2019-02-18T00:00:00",
                    "2019-02-25T00:00:00",
                    "2019-03-04T00:00:00",
                    "2019-03-11T00:00:00",
                    "2019-03-18T00:00:00",
                    "2019-03-25T00:00:00",
                    "2019-04-01T00:00:00",
                    "2019-04-08T00:00:00",
                    "2019-04-15T00:00:00",
                    "2019-04-22T00:00:00",
                    "2019-04-29T00:00:00",
                    "2019-05-06T00:00:00",
                    "2019-05-13T00:00:00",
                    "2019-05-20T00:00:00",
                    "2019-05-27T00:00:00",
                    "2019-06-03T00:00:00",
                    "2019-06-10T00:00:00",
                    "2019-06-17T00:00:00",
                    "2019-06-24T00:00:00",
                    "2019-07-01T00:00:00",
                    "2019-07-08T00:00:00",
                    "2019-07-15T00:00:00",
                    "2019-07-22T00:00:00",
                    "2019-07-29T00:00:00",
                    "2019-08-05T00:00:00",
                    "2019-08-12T00:00:00",
                    "2019-08-19T00:00:00",
                    "2019-08-26T00:00:00",
                    "2019-09-02T00:00:00",
                    "2019-09-09T00:00:00",
                    "2019-09-16T00:00:00",
                    "2019-09-23T00:00:00",
                    "2019-09-30T00:00:00",
                    "2019-10-07T00:00:00",
                    "2019-10-14T00:00:00",
                    "2019-10-21T00:00:00",
                    "2019-10-28T00:00:00",
                    "2019-11-04T00:00:00",
                    "2019-11-11T00:00:00",
                    "2019-11-18T00:00:00",
                    "2019-11-25T00:00:00",
                    "2019-12-02T00:00:00",
                    "2019-12-09T00:00:00",
                    "2019-12-16T00:00:00",
                    "2019-12-23T00:00:00",
                    "2019-12-30T00:00:00"
                  ],
                  "xaxis": "x",
                  "y": {
                    "bdata": "AAAAAAAA8D8haXDNfEHwP7BP5s8QVPA/j5RlC6IQ8T+oSOrvvKbwP4K+NCcS/+8/aZvDvfSw8D+PlGULohDxP3rZXz254fA/QX09MdGD8T9yphmgtinxP8hyVzkuou8/+lQNCA2P8D8vQyWKv17wPzIwQu0d4/A/AI2Poko88T+R1+xnYGLxP9VqrxO5Q/E/6zzygLG58T/1Iaz/dHvxP69tie1Y2PE/LL6zijVJ8j8zhoIQOXDyP2mNHB6OKvI/nVEUZI838j8nF0Vr9ePxPwNOR91kWvI/ZQwv97Yg8z/sDAmAukfzP5YByGI3ifM/rvD1yO+Z8z8Vn5wjhsbzPzWVxmmShPM/xt8jL6iq8z8OKbS+L2H0PzqrIQ7VofM/YMbqUX2R9D+cJmdg07r0Pz1s2Ujvv/Q/w1NMseVX9D8wQD5r/+DzP/wpRZm7tvM/5lt3mcZn8z9Ui/CvnkLzPzBAPmv/4PM/JZqxRoyl8z8TCi+mGrPyPy6lBylOHvQ/VaxQFmIE8z81BLPulDzzPxdymkFP0vE/ntc9iKE28j/gx+sWKH7yP6Wq9mSQpvI/S1iqEpyK8z/nDet6h3HzPydpK4yipfI/HBWFiNwr8z/5S4f6S6LzPxmUl2EFIvQ/UTrCs3lq9D+gOGgCqAz0P35ch9d1B/U/Mma/Y2g89T9uxjtyvmX1P/N5a9dPwPU/Pc0eLovx9T8BQT338GH2P5T0vXzDkPc/72PmXMhi9z+2C0gpkxD3Py3Iy9g7PPc/eqvLGj3n9j9lX7LRVnD2P5YCO0bl1vc/qUDXxakH+D+KbNR1mNn4Pz2e/LzLTfg/rXB7hcbd+D+R3jgCPDP5P6mSveZWyfg/zM/Ii4+k+T/XklsUWNb4PzqM+xr3+/g/g6QF8JSy+D8ZOQFdUjP4P0cFXIfuAvk/ZT/vJIY8+T9qRusE2un4P3u0Rq9QTPk/KH4exuT8+D91iyPZAQ/5P60xTit2V/k/jkqSFAju+D+/b+qqOoj5PxxMn7gZE/o/mmQsUCN7+j/D2PL/YTX7Pyuo+cC7I/s/7QW95d52+z+80fYfDoj7P5Jw6TYsCfw/0T83X++O/D/R0Era7Nb8P7Uc4WBnnPw/",
                    "dtype": "f8"
                  },
                  "yaxis": "y"
                }
              ],
              "layout": {
                "legend": {
                  "title": {
                    "text": "company"
                  },
                  "tracegroupgap": 0
                },
                "template": {
                  "data": {
                    "bar": [
                      {
                        "error_x": {
                          "color": "#2a3f5f"
                        },
                        "error_y": {
                          "color": "#2a3f5f"
                        },
                        "marker": {
                          "line": {
                            "color": "#E5ECF6",
                            "width": 0.5
                          },
                          "pattern": {
                            "fillmode": "overlay",
                            "size": 10,
                            "solidity": 0.2
                          }
                        },
                        "type": "bar"
                      }
                    ],
                    "barpolar": [
                      {
                        "marker": {
                          "line": {
                            "color": "#E5ECF6",
                            "width": 0.5
                          },
                          "pattern": {
                            "fillmode": "overlay",
                            "size": 10,
                            "solidity": 0.2
                          }
                        },
                        "type": "barpolar"
                      }
                    ],
                    "carpet": [
                      {
                        "aaxis": {
                          "endlinecolor": "#2a3f5f",
                          "gridcolor": "white",
                          "linecolor": "white",
                          "minorgridcolor": "white",
                          "startlinecolor": "#2a3f5f"
                        },
                        "baxis": {
                          "endlinecolor": "#2a3f5f",
                          "gridcolor": "white",
                          "linecolor": "white",
                          "minorgridcolor": "white",
                          "startlinecolor": "#2a3f5f"
                        },
                        "type": "carpet"
                      }
                    ],
                    "choropleth": [
                      {
                        "colorbar": {
                          "outlinewidth": 0,
                          "ticks": ""
                        },
                        "type": "choropleth"
                      }
                    ],
                    "contour": [
                      {
                        "colorbar": {
                          "outlinewidth": 0,
                          "ticks": ""
                        },
                        "colorscale": [
                          [
                            0,
                            "#0d0887"
                          ],
                          [
                            0.1111111111111111,
                            "#46039f"
                          ],
                          [
                            0.2222222222222222,
                            "#7201a8"
                          ],
                          [
                            0.3333333333333333,
                            "#9c179e"
                          ],
                          [
                            0.4444444444444444,
                            "#bd3786"
                          ],
                          [
                            0.5555555555555556,
                            "#d8576b"
                          ],
                          [
                            0.6666666666666666,
                            "#ed7953"
                          ],
                          [
                            0.7777777777777778,
                            "#fb9f3a"
                          ],
                          [
                            0.8888888888888888,
                            "#fdca26"
                          ],
                          [
                            1,
                            "#f0f921"
                          ]
                        ],
                        "type": "contour"
                      }
                    ],
                    "contourcarpet": [
                      {
                        "colorbar": {
                          "outlinewidth": 0,
                          "ticks": ""
                        },
                        "type": "contourcarpet"
                      }
                    ],
                    "heatmap": [
                      {
                        "colorbar": {
                          "outlinewidth": 0,
                          "ticks": ""
                        },
                        "colorscale": [
                          [
                            0,
                            "#0d0887"
                          ],
                          [
                            0.1111111111111111,
                            "#46039f"
                          ],
                          [
                            0.2222222222222222,
                            "#7201a8"
                          ],
                          [
                            0.3333333333333333,
                            "#9c179e"
                          ],
                          [
                            0.4444444444444444,
                            "#bd3786"
                          ],
                          [
                            0.5555555555555556,
                            "#d8576b"
                          ],
                          [
                            0.6666666666666666,
                            "#ed7953"
                          ],
                          [
                            0.7777777777777778,
                            "#fb9f3a"
                          ],
                          [
                            0.8888888888888888,
                            "#fdca26"
                          ],
                          [
                            1,
                            "#f0f921"
                          ]
                        ],
                        "type": "heatmap"
                      }
                    ],
                    "histogram": [
                      {
                        "marker": {
                          "pattern": {
                            "fillmode": "overlay",
                            "size": 10,
                            "solidity": 0.2
                          }
                        },
                        "type": "histogram"
                      }
                    ],
                    "histogram2d": [
                      {
                        "colorbar": {
                          "outlinewidth": 0,
                          "ticks": ""
                        },
                        "colorscale": [
                          [
                            0,
                            "#0d0887"
                          ],
                          [
                            0.1111111111111111,
                            "#46039f"
                          ],
                          [
                            0.2222222222222222,
                            "#7201a8"
                          ],
                          [
                            0.3333333333333333,
                            "#9c179e"
                          ],
                          [
                            0.4444444444444444,
                            "#bd3786"
                          ],
                          [
                            0.5555555555555556,
                            "#d8576b"
                          ],
                          [
                            0.6666666666666666,
                            "#ed7953"
                          ],
                          [
                            0.7777777777777778,
                            "#fb9f3a"
                          ],
                          [
                            0.8888888888888888,
                            "#fdca26"
                          ],
                          [
                            1,
                            "#f0f921"
                          ]
                        ],
                        "type": "histogram2d"
                      }
                    ],
                    "histogram2dcontour": [
                      {
                        "colorbar": {
                          "outlinewidth": 0,
                          "ticks": ""
                        },
                        "colorscale": [
                          [
                            0,
                            "#0d0887"
                          ],
                          [
                            0.1111111111111111,
                            "#46039f"
                          ],
                          [
                            0.2222222222222222,
                            "#7201a8"
                          ],
                          [
                            0.3333333333333333,
                            "#9c179e"
                          ],
                          [
                            0.4444444444444444,
                            "#bd3786"
                          ],
                          [
                            0.5555555555555556,
                            "#d8576b"
                          ],
                          [
                            0.6666666666666666,
                            "#ed7953"
                          ],
                          [
                            0.7777777777777778,
                            "#fb9f3a"
                          ],
                          [
                            0.8888888888888888,
                            "#fdca26"
                          ],
                          [
                            1,
                            "#f0f921"
                          ]
                        ],
                        "type": "histogram2dcontour"
                      }
                    ],
                    "mesh3d": [
                      {
                        "colorbar": {
                          "outlinewidth": 0,
                          "ticks": ""
                        },
                        "type": "mesh3d"
                      }
                    ],
                    "parcoords": [
                      {
                        "line": {
                          "colorbar": {
                            "outlinewidth": 0,
                            "ticks": ""
                          }
                        },
                        "type": "parcoords"
                      }
                    ],
                    "pie": [
                      {
                        "automargin": true,
                        "type": "pie"
                      }
                    ],
                    "scatter": [
                      {
                        "fillpattern": {
                          "fillmode": "overlay",
                          "size": 10,
                          "solidity": 0.2
                        },
                        "type": "scatter"
                      }
                    ],
                    "scatter3d": [
                      {
                        "line": {
                          "colorbar": {
                            "outlinewidth": 0,
                            "ticks": ""
                          }
                        },
                        "marker": {
                          "colorbar": {
                            "outlinewidth": 0,
                            "ticks": ""
                          }
                        },
                        "type": "scatter3d"
                      }
                    ],
                    "scattercarpet": [
                      {
                        "marker": {
                          "colorbar": {
                            "outlinewidth": 0,
                            "ticks": ""
                          }
                        },
                        "type": "scattercarpet"
                      }
                    ],
                    "scattergeo": [
                      {
                        "marker": {
                          "colorbar": {
                            "outlinewidth": 0,
                            "ticks": ""
                          }
                        },
                        "type": "scattergeo"
                      }
                    ],
                    "scattergl": [
                      {
                        "marker": {
                          "colorbar": {
                            "outlinewidth": 0,
                            "ticks": ""
                          }
                        },
                        "type": "scattergl"
                      }
                    ],
                    "scattermap": [
                      {
                        "marker": {
                          "colorbar": {
                            "outlinewidth": 0,
                            "ticks": ""
                          }
                        },
                        "type": "scattermap"
                      }
                    ],
                    "scattermapbox": [
                      {
                        "marker": {
                          "colorbar": {
                            "outlinewidth": 0,
                            "ticks": ""
                          }
                        },
                        "type": "scattermapbox"
                      }
                    ],
                    "scatterpolar": [
                      {
                        "marker": {
                          "colorbar": {
                            "outlinewidth": 0,
                            "ticks": ""
                          }
                        },
                        "type": "scatterpolar"
                      }
                    ],
                    "scatterpolargl": [
                      {
                        "marker": {
                          "colorbar": {
                            "outlinewidth": 0,
                            "ticks": ""
                          }
                        },
                        "type": "scatterpolargl"
                      }
                    ],
                    "scatterternary": [
                      {
                        "marker": {
                          "colorbar": {
                            "outlinewidth": 0,
                            "ticks": ""
                          }
                        },
                        "type": "scatterternary"
                      }
                    ],
                    "surface": [
                      {
                        "colorbar": {
                          "outlinewidth": 0,
                          "ticks": ""
                        },
                        "colorscale": [
                          [
                            0,
                            "#0d0887"
                          ],
                          [
                            0.1111111111111111,
                            "#46039f"
                          ],
                          [
                            0.2222222222222222,
                            "#7201a8"
                          ],
                          [
                            0.3333333333333333,
                            "#9c179e"
                          ],
                          [
                            0.4444444444444444,
                            "#bd3786"
                          ],
                          [
                            0.5555555555555556,
                            "#d8576b"
                          ],
                          [
                            0.6666666666666666,
                            "#ed7953"
                          ],
                          [
                            0.7777777777777778,
                            "#fb9f3a"
                          ],
                          [
                            0.8888888888888888,
                            "#fdca26"
                          ],
                          [
                            1,
                            "#f0f921"
                          ]
                        ],
                        "type": "surface"
                      }
                    ],
                    "table": [
                      {
                        "cells": {
                          "fill": {
                            "color": "#EBF0F8"
                          },
                          "line": {
                            "color": "white"
                          }
                        },
                        "header": {
                          "fill": {
                            "color": "#C8D4E3"
                          },
                          "line": {
                            "color": "white"
                          }
                        },
                        "type": "table"
                      }
                    ]
                  },
                  "layout": {
                    "annotationdefaults": {
                      "arrowcolor": "#2a3f5f",
                      "arrowhead": 0,
                      "arrowwidth": 1
                    },
                    "autotypenumbers": "strict",
                    "coloraxis": {
                      "colorbar": {
                        "outlinewidth": 0,
                        "ticks": ""
                      }
                    },
                    "colorscale": {
                      "diverging": [
                        [
                          0,
                          "#8e0152"
                        ],
                        [
                          0.1,
                          "#c51b7d"
                        ],
                        [
                          0.2,
                          "#de77ae"
                        ],
                        [
                          0.3,
                          "#f1b6da"
                        ],
                        [
                          0.4,
                          "#fde0ef"
                        ],
                        [
                          0.5,
                          "#f7f7f7"
                        ],
                        [
                          0.6,
                          "#e6f5d0"
                        ],
                        [
                          0.7,
                          "#b8e186"
                        ],
                        [
                          0.8,
                          "#7fbc41"
                        ],
                        [
                          0.9,
                          "#4d9221"
                        ],
                        [
                          1,
                          "#276419"
                        ]
                      ],
                      "sequential": [
                        [
                          0,
                          "#0d0887"
                        ],
                        [
                          0.1111111111111111,
                          "#46039f"
                        ],
                        [
                          0.2222222222222222,
                          "#7201a8"
                        ],
                        [
                          0.3333333333333333,
                          "#9c179e"
                        ],
                        [
                          0.4444444444444444,
                          "#bd3786"
                        ],
                        [
                          0.5555555555555556,
                          "#d8576b"
                        ],
                        [
                          0.6666666666666666,
                          "#ed7953"
                        ],
                        [
                          0.7777777777777778,
                          "#fb9f3a"
                        ],
                        [
                          0.8888888888888888,
                          "#fdca26"
                        ],
                        [
                          1,
                          "#f0f921"
                        ]
                      ],
                      "sequentialminus": [
                        [
                          0,
                          "#0d0887"
                        ],
                        [
                          0.1111111111111111,
                          "#46039f"
                        ],
                        [
                          0.2222222222222222,
                          "#7201a8"
                        ],
                        [
                          0.3333333333333333,
                          "#9c179e"
                        ],
                        [
                          0.4444444444444444,
                          "#bd3786"
                        ],
                        [
                          0.5555555555555556,
                          "#d8576b"
                        ],
                        [
                          0.6666666666666666,
                          "#ed7953"
                        ],
                        [
                          0.7777777777777778,
                          "#fb9f3a"
                        ],
                        [
                          0.8888888888888888,
                          "#fdca26"
                        ],
                        [
                          1,
                          "#f0f921"
                        ]
                      ]
                    },
                    "colorway": [
                      "#636efa",
                      "#EF553B",
                      "#00cc96",
                      "#ab63fa",
                      "#FFA15A",
                      "#19d3f3",
                      "#FF6692",
                      "#B6E880",
                      "#FF97FF",
                      "#FECB52"
                    ],
                    "font": {
                      "color": "#2a3f5f"
                    },
                    "geo": {
                      "bgcolor": "white",
                      "lakecolor": "white",
                      "landcolor": "#E5ECF6",
                      "showlakes": true,
                      "showland": true,
                      "subunitcolor": "white"
                    },
                    "hoverlabel": {
                      "align": "left"
                    },
                    "hovermode": "closest",
                    "mapbox": {
                      "style": "light"
                    },
                    "paper_bgcolor": "white",
                    "plot_bgcolor": "#E5ECF6",
                    "polar": {
                      "angularaxis": {
                        "gridcolor": "white",
                        "linecolor": "white",
                        "ticks": ""
                      },
                      "bgcolor": "#E5ECF6",
                      "radialaxis": {
                        "gridcolor": "white",
                        "linecolor": "white",
                        "ticks": ""
                      }
                    },
                    "scene": {
                      "xaxis": {
                        "backgroundcolor": "#E5ECF6",
                        "gridcolor": "white",
                        "gridwidth": 2,
                        "linecolor": "white",
                        "showbackground": true,
                        "ticks": "",
                        "zerolinecolor": "white"
                      },
                      "yaxis": {
                        "backgroundcolor": "#E5ECF6",
                        "gridcolor": "white",
                        "gridwidth": 2,
                        "linecolor": "white",
                        "showbackground": true,
                        "ticks": "",
                        "zerolinecolor": "white"
                      },
                      "zaxis": {
                        "backgroundcolor": "#E5ECF6",
                        "gridcolor": "white",
                        "gridwidth": 2,
                        "linecolor": "white",
                        "showbackground": true,
                        "ticks": "",
                        "zerolinecolor": "white"
                      }
                    },
                    "shapedefaults": {
                      "line": {
                        "color": "#2a3f5f"
                      }
                    },
                    "ternary": {
                      "aaxis": {
                        "gridcolor": "white",
                        "linecolor": "white",
                        "ticks": ""
                      },
                      "baxis": {
                        "gridcolor": "white",
                        "linecolor": "white",
                        "ticks": ""
                      },
                      "bgcolor": "#E5ECF6",
                      "caxis": {
                        "gridcolor": "white",
                        "linecolor": "white",
                        "ticks": ""
                      }
                    },
                    "title": {
                      "x": 0.05
                    },
                    "xaxis": {
                      "automargin": true,
                      "gridcolor": "white",
                      "linecolor": "white",
                      "ticks": "",
                      "title": {
                        "standoff": 15
                      },
                      "zerolinecolor": "white",
                      "zerolinewidth": 2
                    },
                    "yaxis": {
                      "automargin": true,
                      "gridcolor": "white",
                      "linecolor": "white",
                      "ticks": "",
                      "title": {
                        "standoff": 15
                      },
                      "zerolinecolor": "white",
                      "zerolinewidth": 2
                    }
                  }
                },
                "title": {
                  "text": "Create a line chart of the stock prices over time, using a different color for each company."
                },
                "xaxis": {
                  "anchor": "y",
                  "domain": [
                    0,
                    1
                  ],
                  "title": {
                    "text": "date"
                  }
                },
                "yaxis": {
                  "anchor": "x",
                  "domain": [
                    0,
                    1
                  ],
                  "title": {
                    "text": "price"
                  }
                }
              }
            }
          },
          "metadata": {},
          "output_type": "display_data"
        }
      ],
      "source": [
        "\n",
        "prompt = \"Create a line chart of the stock prices over time, using a different color for each company.\"\n",
        "plot = plot_data(prompt, long_df, on_event=display_action)\n",
        "display(plot)"
      ]
    },
    {
      "cell_type": "markdown",
      "metadata": {},
      "source": [
        "## Conclusion\n",
        "\n",
        "In this demo, we saw how `agex` agents:\n",
        "\n",
        "- Use real Python libraries directly.\n",
        "- Receive and return complex objects like DataFrames and Figures.\n",
        "- Provide full observability into their thought process."
      ]
    }
  ],
  "metadata": {
    "kernelspec": {
      "display_name": "tic",
      "language": "python",
      "name": "python3"
    },
    "language_info": {
      "codemirror_mode": {
        "name": "ipython",
        "version": 3
      },
      "file_extension": ".py",
      "mimetype": "text/x-python",
      "name": "python",
      "nbconvert_exporter": "python",
      "pygments_lexer": "ipython3",
      "version": "3.12.9"
    }
  },
  "nbformat": 4,
  "nbformat_minor": 2
}
